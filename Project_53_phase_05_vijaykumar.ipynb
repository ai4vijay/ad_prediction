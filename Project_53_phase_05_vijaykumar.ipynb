{
 "cells": [
  {
   "cell_type": "code",
   "execution_count": 1,
   "id": "a845d2cb",
   "metadata": {},
   "outputs": [],
   "source": [
    "#Import required libraries\n",
    "import pandas as pd\n",
    "import seaborn as sns\n",
    "import matplotlib.pyplot as plt\n",
    "import gzip\n"
   ]
  },
  {
   "cell_type": "code",
   "execution_count": 8,
   "id": "66e02733",
   "metadata": {},
   "outputs": [],
   "source": [
    "#load the test dataset\n",
    "dftest=pd.read_csv(\"test.csv\")"
   ]
  },
  {
   "cell_type": "code",
   "execution_count": 12,
   "id": "74cd60ae",
   "metadata": {},
   "outputs": [],
   "source": [
    "columns=list(dftest.columns.values)"
   ]
  },
  {
   "cell_type": "code",
   "execution_count": 18,
   "id": "a695b5b5",
   "metadata": {},
   "outputs": [],
   "source": [
    "columns.insert(1,'click')"
   ]
  },
  {
   "cell_type": "code",
   "execution_count": 22,
   "id": "dea8b1c3",
   "metadata": {},
   "outputs": [
    {
     "data": {
      "text/plain": [
       "['id',\n",
       " 'click',\n",
       " 'hour',\n",
       " 'C1',\n",
       " 'banner_pos',\n",
       " 'site_id',\n",
       " 'site_domain',\n",
       " 'site_category',\n",
       " 'app_id',\n",
       " 'app_domain',\n",
       " 'app_category',\n",
       " 'device_id',\n",
       " 'device_ip',\n",
       " 'device_model',\n",
       " 'device_type',\n",
       " 'device_conn_type',\n",
       " 'C14',\n",
       " 'C15',\n",
       " 'C16',\n",
       " 'C17',\n",
       " 'C18',\n",
       " 'C19',\n",
       " 'C20',\n",
       " 'C21']"
      ]
     },
     "execution_count": 22,
     "metadata": {},
     "output_type": "execute_result"
    }
   ],
   "source": [
    "columns\n"
   ]
  },
  {
   "cell_type": "code",
   "execution_count": 2,
   "id": "d9cf03b8",
   "metadata": {},
   "outputs": [],
   "source": [
    "#read the train dataset \n",
    "df = pd.read_csv(\"train_sample.csv\")"
   ]
  },
  {
   "cell_type": "code",
   "execution_count": 20,
   "id": "32d7cdb0",
   "metadata": {},
   "outputs": [
    {
     "data": {
      "text/html": [
       "<div>\n",
       "<style scoped>\n",
       "    .dataframe tbody tr th:only-of-type {\n",
       "        vertical-align: middle;\n",
       "    }\n",
       "\n",
       "    .dataframe tbody tr th {\n",
       "        vertical-align: top;\n",
       "    }\n",
       "\n",
       "    .dataframe thead th {\n",
       "        text-align: right;\n",
       "    }\n",
       "</style>\n",
       "<table border=\"1\" class=\"dataframe\">\n",
       "  <thead>\n",
       "    <tr style=\"text-align: right;\">\n",
       "      <th></th>\n",
       "      <th>id</th>\n",
       "      <th>click</th>\n",
       "      <th>hour</th>\n",
       "      <th>C1</th>\n",
       "      <th>banner_pos</th>\n",
       "      <th>site_id</th>\n",
       "      <th>site_domain</th>\n",
       "      <th>site_category</th>\n",
       "      <th>app_id</th>\n",
       "      <th>app_domain</th>\n",
       "      <th>...</th>\n",
       "      <th>device_type</th>\n",
       "      <th>device_conn_type</th>\n",
       "      <th>C14</th>\n",
       "      <th>C15</th>\n",
       "      <th>C16</th>\n",
       "      <th>C17</th>\n",
       "      <th>C18</th>\n",
       "      <th>C19</th>\n",
       "      <th>C20</th>\n",
       "      <th>C21</th>\n",
       "    </tr>\n",
       "  </thead>\n",
       "  <tbody>\n",
       "    <tr>\n",
       "      <th>0</th>\n",
       "      <td>14237893487069276198</td>\n",
       "      <td>0</td>\n",
       "      <td>14102915</td>\n",
       "      <td>1005</td>\n",
       "      <td>1</td>\n",
       "      <td>d9750ee7</td>\n",
       "      <td>98572c79</td>\n",
       "      <td>f028772b</td>\n",
       "      <td>ecad2386</td>\n",
       "      <td>7801e8d9</td>\n",
       "      <td>...</td>\n",
       "      <td>1</td>\n",
       "      <td>0</td>\n",
       "      <td>17614</td>\n",
       "      <td>320</td>\n",
       "      <td>50</td>\n",
       "      <td>1993</td>\n",
       "      <td>2</td>\n",
       "      <td>1063</td>\n",
       "      <td>100084</td>\n",
       "      <td>33</td>\n",
       "    </tr>\n",
       "    <tr>\n",
       "      <th>1</th>\n",
       "      <td>1256834335867016987</td>\n",
       "      <td>0</td>\n",
       "      <td>14102205</td>\n",
       "      <td>1005</td>\n",
       "      <td>0</td>\n",
       "      <td>bb4524e7</td>\n",
       "      <td>d733bbc3</td>\n",
       "      <td>28905ebd</td>\n",
       "      <td>ecad2386</td>\n",
       "      <td>7801e8d9</td>\n",
       "      <td>...</td>\n",
       "      <td>1</td>\n",
       "      <td>0</td>\n",
       "      <td>21790</td>\n",
       "      <td>320</td>\n",
       "      <td>50</td>\n",
       "      <td>2513</td>\n",
       "      <td>3</td>\n",
       "      <td>35</td>\n",
       "      <td>100188</td>\n",
       "      <td>68</td>\n",
       "    </tr>\n",
       "    <tr>\n",
       "      <th>2</th>\n",
       "      <td>4768871205625579777</td>\n",
       "      <td>1</td>\n",
       "      <td>14102114</td>\n",
       "      <td>1002</td>\n",
       "      <td>0</td>\n",
       "      <td>85f751fd</td>\n",
       "      <td>c4e18dd6</td>\n",
       "      <td>50e219e0</td>\n",
       "      <td>255a58c8</td>\n",
       "      <td>7801e8d9</td>\n",
       "      <td>...</td>\n",
       "      <td>0</td>\n",
       "      <td>0</td>\n",
       "      <td>21747</td>\n",
       "      <td>320</td>\n",
       "      <td>50</td>\n",
       "      <td>2504</td>\n",
       "      <td>3</td>\n",
       "      <td>41</td>\n",
       "      <td>100160</td>\n",
       "      <td>111</td>\n",
       "    </tr>\n",
       "    <tr>\n",
       "      <th>3</th>\n",
       "      <td>2813443321480785661</td>\n",
       "      <td>0</td>\n",
       "      <td>14103009</td>\n",
       "      <td>1005</td>\n",
       "      <td>0</td>\n",
       "      <td>85f751fd</td>\n",
       "      <td>c4e18dd6</td>\n",
       "      <td>50e219e0</td>\n",
       "      <td>a5184c22</td>\n",
       "      <td>b8d325c3</td>\n",
       "      <td>...</td>\n",
       "      <td>1</td>\n",
       "      <td>2</td>\n",
       "      <td>23950</td>\n",
       "      <td>320</td>\n",
       "      <td>50</td>\n",
       "      <td>2745</td>\n",
       "      <td>2</td>\n",
       "      <td>163</td>\n",
       "      <td>100176</td>\n",
       "      <td>255</td>\n",
       "    </tr>\n",
       "    <tr>\n",
       "      <th>4</th>\n",
       "      <td>10449362658884413293</td>\n",
       "      <td>0</td>\n",
       "      <td>14102717</td>\n",
       "      <td>1005</td>\n",
       "      <td>1</td>\n",
       "      <td>e151e245</td>\n",
       "      <td>7e091613</td>\n",
       "      <td>f028772b</td>\n",
       "      <td>ecad2386</td>\n",
       "      <td>7801e8d9</td>\n",
       "      <td>...</td>\n",
       "      <td>1</td>\n",
       "      <td>0</td>\n",
       "      <td>17264</td>\n",
       "      <td>320</td>\n",
       "      <td>50</td>\n",
       "      <td>1872</td>\n",
       "      <td>3</td>\n",
       "      <td>39</td>\n",
       "      <td>-1</td>\n",
       "      <td>23</td>\n",
       "    </tr>\n",
       "  </tbody>\n",
       "</table>\n",
       "<p>5 rows × 24 columns</p>\n",
       "</div>"
      ],
      "text/plain": [
       "                     id  click      hour    C1  banner_pos   site_id  \\\n",
       "0  14237893487069276198      0  14102915  1005           1  d9750ee7   \n",
       "1   1256834335867016987      0  14102205  1005           0  bb4524e7   \n",
       "2   4768871205625579777      1  14102114  1002           0  85f751fd   \n",
       "3   2813443321480785661      0  14103009  1005           0  85f751fd   \n",
       "4  10449362658884413293      0  14102717  1005           1  e151e245   \n",
       "\n",
       "  site_domain site_category    app_id app_domain  ... device_type  \\\n",
       "0    98572c79      f028772b  ecad2386   7801e8d9  ...           1   \n",
       "1    d733bbc3      28905ebd  ecad2386   7801e8d9  ...           1   \n",
       "2    c4e18dd6      50e219e0  255a58c8   7801e8d9  ...           0   \n",
       "3    c4e18dd6      50e219e0  a5184c22   b8d325c3  ...           1   \n",
       "4    7e091613      f028772b  ecad2386   7801e8d9  ...           1   \n",
       "\n",
       "  device_conn_type    C14  C15  C16   C17  C18   C19     C20  C21  \n",
       "0                0  17614  320   50  1993    2  1063  100084   33  \n",
       "1                0  21790  320   50  2513    3    35  100188   68  \n",
       "2                0  21747  320   50  2504    3    41  100160  111  \n",
       "3                2  23950  320   50  2745    2   163  100176  255  \n",
       "4                0  17264  320   50  1872    3    39      -1   23  \n",
       "\n",
       "[5 rows x 24 columns]"
      ]
     },
     "execution_count": 20,
     "metadata": {},
     "output_type": "execute_result"
    }
   ],
   "source": [
    "df.columns = columns\n",
    "df.head()"
   ]
  },
  {
   "cell_type": "code",
   "execution_count": 3,
   "id": "3027d311",
   "metadata": {},
   "outputs": [
    {
     "ename": "AttributeError",
     "evalue": "'Series' object has no attribute 'parse_date'",
     "output_type": "error",
     "traceback": [
      "\u001b[1;31m---------------------------------------------------------------------------\u001b[0m",
      "\u001b[1;31mAttributeError\u001b[0m                            Traceback (most recent call last)",
      "\u001b[1;32m<ipython-input-3-749581950686>\u001b[0m in \u001b[0;36m<module>\u001b[1;34m\u001b[0m\n\u001b[0;32m      1\u001b[0m \u001b[0mparse_date\u001b[0m \u001b[1;33m=\u001b[0m \u001b[1;32mlambda\u001b[0m \u001b[0mval\u001b[0m \u001b[1;33m:\u001b[0m \u001b[0mpd\u001b[0m\u001b[1;33m.\u001b[0m\u001b[0mdatetime\u001b[0m\u001b[1;33m.\u001b[0m\u001b[0mstrptime\u001b[0m\u001b[1;33m(\u001b[0m\u001b[0mval\u001b[0m\u001b[1;33m,\u001b[0m \u001b[1;34m'%y%m%d%H'\u001b[0m\u001b[1;33m)\u001b[0m\u001b[1;33m\u001b[0m\u001b[1;33m\u001b[0m\u001b[0m\n\u001b[1;32m----> 2\u001b[1;33m \u001b[0mdf\u001b[0m\u001b[1;33m[\u001b[0m\u001b[1;34m'hour'\u001b[0m\u001b[1;33m]\u001b[0m\u001b[1;33m=\u001b[0m\u001b[0mdf\u001b[0m\u001b[1;33m[\u001b[0m\u001b[1;34m'hour'\u001b[0m\u001b[1;33m]\u001b[0m\u001b[1;33m.\u001b[0m\u001b[0mparse_date\u001b[0m\u001b[1;33m\u001b[0m\u001b[1;33m\u001b[0m\u001b[0m\n\u001b[0m",
      "\u001b[1;32mC:\\ProgramData\\Anaconda3\\lib\\site-packages\\pandas\\core\\generic.py\u001b[0m in \u001b[0;36m__getattr__\u001b[1;34m(self, name)\u001b[0m\n\u001b[0;32m   5463\u001b[0m             \u001b[1;32mif\u001b[0m \u001b[0mself\u001b[0m\u001b[1;33m.\u001b[0m\u001b[0m_info_axis\u001b[0m\u001b[1;33m.\u001b[0m\u001b[0m_can_hold_identifiers_and_holds_name\u001b[0m\u001b[1;33m(\u001b[0m\u001b[0mname\u001b[0m\u001b[1;33m)\u001b[0m\u001b[1;33m:\u001b[0m\u001b[1;33m\u001b[0m\u001b[1;33m\u001b[0m\u001b[0m\n\u001b[0;32m   5464\u001b[0m                 \u001b[1;32mreturn\u001b[0m \u001b[0mself\u001b[0m\u001b[1;33m[\u001b[0m\u001b[0mname\u001b[0m\u001b[1;33m]\u001b[0m\u001b[1;33m\u001b[0m\u001b[1;33m\u001b[0m\u001b[0m\n\u001b[1;32m-> 5465\u001b[1;33m             \u001b[1;32mreturn\u001b[0m \u001b[0mobject\u001b[0m\u001b[1;33m.\u001b[0m\u001b[0m__getattribute__\u001b[0m\u001b[1;33m(\u001b[0m\u001b[0mself\u001b[0m\u001b[1;33m,\u001b[0m \u001b[0mname\u001b[0m\u001b[1;33m)\u001b[0m\u001b[1;33m\u001b[0m\u001b[1;33m\u001b[0m\u001b[0m\n\u001b[0m\u001b[0;32m   5466\u001b[0m \u001b[1;33m\u001b[0m\u001b[0m\n\u001b[0;32m   5467\u001b[0m     \u001b[1;32mdef\u001b[0m \u001b[0m__setattr__\u001b[0m\u001b[1;33m(\u001b[0m\u001b[0mself\u001b[0m\u001b[1;33m,\u001b[0m \u001b[0mname\u001b[0m\u001b[1;33m:\u001b[0m \u001b[0mstr\u001b[0m\u001b[1;33m,\u001b[0m \u001b[0mvalue\u001b[0m\u001b[1;33m)\u001b[0m \u001b[1;33m->\u001b[0m \u001b[1;32mNone\u001b[0m\u001b[1;33m:\u001b[0m\u001b[1;33m\u001b[0m\u001b[1;33m\u001b[0m\u001b[0m\n",
      "\u001b[1;31mAttributeError\u001b[0m: 'Series' object has no attribute 'parse_date'"
     ]
    }
   ],
   "source": [
    "parse_date = lambda val : pd.datetime.strptime(val, '%y%m%d%H')\n",
    "df['hour']=df['hour'].parse_date"
   ]
  },
  {
   "cell_type": "code",
   "execution_count": 21,
   "id": "851000b0",
   "metadata": {},
   "outputs": [
    {
     "name": "stdout",
     "output_type": "stream",
     "text": [
      "(1999999, 24)\n"
     ]
    }
   ],
   "source": [
    "print(df.shape)\n"
   ]
  },
  {
   "cell_type": "code",
   "execution_count": 5,
   "id": "ef8c1672",
   "metadata": {},
   "outputs": [],
   "source": [
    "import numpy as np\n",
    "#column data types\n",
    "types_train = {\n",
    "    'id': np.dtype(int),\n",
    "    'click': np.dtype(int),\n",
    "    'hour': np.dtype(int),\n",
    "    'C1': np.dtype(int),\n",
    "    'banner_pos': np.dtype(int),\n",
    "    'site_id': np.dtype(str),\n",
    "    'site_domain': np.dtype(str), \n",
    "    'site_category': np.dtype(str),\n",
    "    'app_id': np.dtype(str),\n",
    "    'app_domain': np.dtype(str),\n",
    "    'app_category': np.dtype(str),\n",
    "    'device_id': np.dtype(str),\n",
    "    'device_ip': np.dtype(str),\n",
    "    'device_model': np.dtype(str),\n",
    "    'device_type': np.dtype(int),\n",
    "    'device_conn_type': np.dtype(int),\n",
    "    'C14': np.dtype(int),\n",
    "    'C15': np.dtype(int),\n",
    "    'C16': np.dtype(int),\n",
    "    'C17': np.dtype(int),\n",
    "    'C18': np.dtype(int),\n",
    "    'C19': np.dtype(int),\n",
    "    'C20': np.dtype(int),\n",
    "    'C21':np.dtype(int)\n",
    "}\n"
   ]
  },
  {
   "cell_type": "code",
   "execution_count": 6,
   "id": "62023c0b",
   "metadata": {},
   "outputs": [
    {
     "name": "stderr",
     "output_type": "stream",
     "text": [
      "<ipython-input-6-ac32ae3cebda>:1: FutureWarning: The pandas.datetime class is deprecated and will be removed from pandas in a future version. Import from datetime module instead.\n",
      "  parse_date = lambda val : pd.datetime.strptime(val, '%y%m%d%H')\n"
     ]
    }
   ],
   "source": [
    "\n",
    "\n",
    "parse_date = lambda val : pd.datetime.strptime(val, '%y%m%d%H')\n",
    "df_train = pd.read_csv(\"train_sample.csv\",parse_dates = ['hour'], date_parser = parse_date,dtype=types_train)\n"
   ]
  },
  {
   "cell_type": "code",
   "execution_count": 25,
   "id": "107550de",
   "metadata": {},
   "outputs": [
    {
     "name": "stdout",
     "output_type": "stream",
     "text": [
      "(2000000, 24)\n"
     ]
    }
   ],
   "source": [
    "#check the shape of the train dataset\n",
    "#had to divide the data set as I was unable to read 5GB data . divided it into 5 parts and working on 1GB dataset to \n",
    "#figur out EDA\n",
    "print(df_train.shape)"
   ]
  },
  {
   "cell_type": "code",
   "execution_count": 55,
   "id": "7bbf2c16",
   "metadata": {},
   "outputs": [
    {
     "data": {
      "text/html": [
       "<div>\n",
       "<style scoped>\n",
       "    .dataframe tbody tr th:only-of-type {\n",
       "        vertical-align: middle;\n",
       "    }\n",
       "\n",
       "    .dataframe tbody tr th {\n",
       "        vertical-align: top;\n",
       "    }\n",
       "\n",
       "    .dataframe thead th {\n",
       "        text-align: right;\n",
       "    }\n",
       "</style>\n",
       "<table border=\"1\" class=\"dataframe\">\n",
       "  <thead>\n",
       "    <tr style=\"text-align: right;\">\n",
       "      <th></th>\n",
       "      <th>id</th>\n",
       "      <th>click</th>\n",
       "      <th>hour</th>\n",
       "      <th>C1</th>\n",
       "      <th>banner_pos</th>\n",
       "      <th>site_id</th>\n",
       "      <th>site_domain</th>\n",
       "      <th>site_category</th>\n",
       "      <th>app_id</th>\n",
       "      <th>app_domain</th>\n",
       "      <th>...</th>\n",
       "      <th>device_conn_type</th>\n",
       "      <th>C14</th>\n",
       "      <th>C15</th>\n",
       "      <th>C16</th>\n",
       "      <th>C17</th>\n",
       "      <th>C18</th>\n",
       "      <th>C19</th>\n",
       "      <th>C20</th>\n",
       "      <th>C21</th>\n",
       "      <th>day_of_week</th>\n",
       "    </tr>\n",
       "  </thead>\n",
       "  <tbody>\n",
       "    <tr>\n",
       "      <th>0</th>\n",
       "      <td>-1313665075</td>\n",
       "      <td>0</td>\n",
       "      <td>2014-10-24 06:00:00</td>\n",
       "      <td>1005</td>\n",
       "      <td>0</td>\n",
       "      <td>6256f5b4</td>\n",
       "      <td>28f93029</td>\n",
       "      <td>f028772b</td>\n",
       "      <td>ecad2386</td>\n",
       "      <td>7801e8d9</td>\n",
       "      <td>...</td>\n",
       "      <td>0</td>\n",
       "      <td>16615</td>\n",
       "      <td>320</td>\n",
       "      <td>50</td>\n",
       "      <td>1863</td>\n",
       "      <td>3</td>\n",
       "      <td>39</td>\n",
       "      <td>-1</td>\n",
       "      <td>23</td>\n",
       "      <td>&lt;built-in method day_name of Timestamp object ...</td>\n",
       "    </tr>\n",
       "    <tr>\n",
       "      <th>1</th>\n",
       "      <td>-560158682</td>\n",
       "      <td>0</td>\n",
       "      <td>2014-10-29 15:00:00</td>\n",
       "      <td>1005</td>\n",
       "      <td>1</td>\n",
       "      <td>d9750ee7</td>\n",
       "      <td>98572c79</td>\n",
       "      <td>f028772b</td>\n",
       "      <td>ecad2386</td>\n",
       "      <td>7801e8d9</td>\n",
       "      <td>...</td>\n",
       "      <td>0</td>\n",
       "      <td>17614</td>\n",
       "      <td>320</td>\n",
       "      <td>50</td>\n",
       "      <td>1993</td>\n",
       "      <td>2</td>\n",
       "      <td>1063</td>\n",
       "      <td>100084</td>\n",
       "      <td>33</td>\n",
       "      <td>&lt;built-in method day_name of Timestamp object ...</td>\n",
       "    </tr>\n",
       "    <tr>\n",
       "      <th>2</th>\n",
       "      <td>1658722075</td>\n",
       "      <td>0</td>\n",
       "      <td>2014-10-22 05:00:00</td>\n",
       "      <td>1005</td>\n",
       "      <td>0</td>\n",
       "      <td>bb4524e7</td>\n",
       "      <td>d733bbc3</td>\n",
       "      <td>28905ebd</td>\n",
       "      <td>ecad2386</td>\n",
       "      <td>7801e8d9</td>\n",
       "      <td>...</td>\n",
       "      <td>0</td>\n",
       "      <td>21790</td>\n",
       "      <td>320</td>\n",
       "      <td>50</td>\n",
       "      <td>2513</td>\n",
       "      <td>3</td>\n",
       "      <td>35</td>\n",
       "      <td>100188</td>\n",
       "      <td>68</td>\n",
       "      <td>&lt;built-in method day_name of Timestamp object ...</td>\n",
       "    </tr>\n",
       "    <tr>\n",
       "      <th>3</th>\n",
       "      <td>1323747585</td>\n",
       "      <td>1</td>\n",
       "      <td>2014-10-21 14:00:00</td>\n",
       "      <td>1002</td>\n",
       "      <td>0</td>\n",
       "      <td>85f751fd</td>\n",
       "      <td>c4e18dd6</td>\n",
       "      <td>50e219e0</td>\n",
       "      <td>255a58c8</td>\n",
       "      <td>7801e8d9</td>\n",
       "      <td>...</td>\n",
       "      <td>0</td>\n",
       "      <td>21747</td>\n",
       "      <td>320</td>\n",
       "      <td>50</td>\n",
       "      <td>2504</td>\n",
       "      <td>3</td>\n",
       "      <td>41</td>\n",
       "      <td>100160</td>\n",
       "      <td>111</td>\n",
       "      <td>&lt;built-in method day_name of Timestamp object ...</td>\n",
       "    </tr>\n",
       "    <tr>\n",
       "      <th>4</th>\n",
       "      <td>1821290237</td>\n",
       "      <td>0</td>\n",
       "      <td>2014-10-30 09:00:00</td>\n",
       "      <td>1005</td>\n",
       "      <td>0</td>\n",
       "      <td>85f751fd</td>\n",
       "      <td>c4e18dd6</td>\n",
       "      <td>50e219e0</td>\n",
       "      <td>a5184c22</td>\n",
       "      <td>b8d325c3</td>\n",
       "      <td>...</td>\n",
       "      <td>2</td>\n",
       "      <td>23950</td>\n",
       "      <td>320</td>\n",
       "      <td>50</td>\n",
       "      <td>2745</td>\n",
       "      <td>2</td>\n",
       "      <td>163</td>\n",
       "      <td>100176</td>\n",
       "      <td>255</td>\n",
       "      <td>&lt;built-in method day_name of Timestamp object ...</td>\n",
       "    </tr>\n",
       "  </tbody>\n",
       "</table>\n",
       "<p>5 rows × 25 columns</p>\n",
       "</div>"
      ],
      "text/plain": [
       "           id  click                hour    C1  banner_pos   site_id  \\\n",
       "0 -1313665075      0 2014-10-24 06:00:00  1005           0  6256f5b4   \n",
       "1  -560158682      0 2014-10-29 15:00:00  1005           1  d9750ee7   \n",
       "2  1658722075      0 2014-10-22 05:00:00  1005           0  bb4524e7   \n",
       "3  1323747585      1 2014-10-21 14:00:00  1002           0  85f751fd   \n",
       "4  1821290237      0 2014-10-30 09:00:00  1005           0  85f751fd   \n",
       "\n",
       "  site_domain site_category    app_id app_domain  ... device_conn_type    C14  \\\n",
       "0    28f93029      f028772b  ecad2386   7801e8d9  ...                0  16615   \n",
       "1    98572c79      f028772b  ecad2386   7801e8d9  ...                0  17614   \n",
       "2    d733bbc3      28905ebd  ecad2386   7801e8d9  ...                0  21790   \n",
       "3    c4e18dd6      50e219e0  255a58c8   7801e8d9  ...                0  21747   \n",
       "4    c4e18dd6      50e219e0  a5184c22   b8d325c3  ...                2  23950   \n",
       "\n",
       "   C15 C16   C17  C18   C19     C20  C21  \\\n",
       "0  320  50  1863    3    39      -1   23   \n",
       "1  320  50  1993    2  1063  100084   33   \n",
       "2  320  50  2513    3    35  100188   68   \n",
       "3  320  50  2504    3    41  100160  111   \n",
       "4  320  50  2745    2   163  100176  255   \n",
       "\n",
       "                                         day_of_week  \n",
       "0  <built-in method day_name of Timestamp object ...  \n",
       "1  <built-in method day_name of Timestamp object ...  \n",
       "2  <built-in method day_name of Timestamp object ...  \n",
       "3  <built-in method day_name of Timestamp object ...  \n",
       "4  <built-in method day_name of Timestamp object ...  \n",
       "\n",
       "[5 rows x 25 columns]"
      ]
     },
     "execution_count": 55,
     "metadata": {},
     "output_type": "execute_result"
    }
   ],
   "source": [
    "#check first few rows to analyze the data set \n",
    "df_train.head()"
   ]
  },
  {
   "cell_type": "code",
   "execution_count": 27,
   "id": "76d8f487",
   "metadata": {},
   "outputs": [
    {
     "data": {
      "image/png": "[encoded data removed]",
      "text/plain": [
       "<Figure size 432x288 with 1 Axes>"
      ]
     },
     "metadata": {
      "needs_background": "light"
     },
     "output_type": "display_data"
    }
   ],
   "source": [
    "import seaborn as sns\n",
    "import matplotlib.pyplot as plt\n",
    "sns.countplot(x='click',data=df_train, palette='hls')\n",
    "plt.show();"
   ]
  },
  {
   "cell_type": "code",
   "execution_count": 9,
   "id": "00e33783",
   "metadata": {},
   "outputs": [
    {
     "data": {
      "text/plain": [
       "0    0.826199\n",
       "1    0.173801\n",
       "Name: click, dtype: float64"
      ]
     },
     "execution_count": 9,
     "metadata": {},
     "output_type": "execute_result"
    }
   ],
   "source": [
    "#check percentage of clicks vs non clicks. we can see that 17.3% clicks and 82.6 % non clicks are there.\n",
    "df_train['click'].value_counts()/len(df_train)"
   ]
  },
  {
   "cell_type": "code",
   "execution_count": 32,
   "id": "4765d26a",
   "metadata": {},
   "outputs": [],
   "source": [
    "#Find missing data\n",
    "count_missing = df_train.isnull().sum()"
   ]
  },
  {
   "cell_type": "code",
   "execution_count": 33,
   "id": "ace52b7a",
   "metadata": {},
   "outputs": [],
   "source": [
    "missing_value_df = pd.DataFrame({'Count Missing': count_missing}) "
   ]
  },
  {
   "cell_type": "code",
   "execution_count": 34,
   "id": "9e5148f8",
   "metadata": {},
   "outputs": [
    {
     "data": {
      "text/html": [
       "<div>\n",
       "<style scoped>\n",
       "    .dataframe tbody tr th:only-of-type {\n",
       "        vertical-align: middle;\n",
       "    }\n",
       "\n",
       "    .dataframe tbody tr th {\n",
       "        vertical-align: top;\n",
       "    }\n",
       "\n",
       "    .dataframe thead th {\n",
       "        text-align: right;\n",
       "    }\n",
       "</style>\n",
       "<table border=\"1\" class=\"dataframe\">\n",
       "  <thead>\n",
       "    <tr style=\"text-align: right;\">\n",
       "      <th></th>\n",
       "      <th>Count Missing</th>\n",
       "    </tr>\n",
       "  </thead>\n",
       "  <tbody>\n",
       "    <tr>\n",
       "      <th>id</th>\n",
       "      <td>0</td>\n",
       "    </tr>\n",
       "    <tr>\n",
       "      <th>click</th>\n",
       "      <td>0</td>\n",
       "    </tr>\n",
       "    <tr>\n",
       "      <th>hour</th>\n",
       "      <td>0</td>\n",
       "    </tr>\n",
       "    <tr>\n",
       "      <th>C1</th>\n",
       "      <td>0</td>\n",
       "    </tr>\n",
       "    <tr>\n",
       "      <th>banner_pos</th>\n",
       "      <td>0</td>\n",
       "    </tr>\n",
       "    <tr>\n",
       "      <th>site_id</th>\n",
       "      <td>0</td>\n",
       "    </tr>\n",
       "    <tr>\n",
       "      <th>site_domain</th>\n",
       "      <td>0</td>\n",
       "    </tr>\n",
       "    <tr>\n",
       "      <th>site_category</th>\n",
       "      <td>0</td>\n",
       "    </tr>\n",
       "    <tr>\n",
       "      <th>app_id</th>\n",
       "      <td>0</td>\n",
       "    </tr>\n",
       "    <tr>\n",
       "      <th>app_domain</th>\n",
       "      <td>0</td>\n",
       "    </tr>\n",
       "    <tr>\n",
       "      <th>app_category</th>\n",
       "      <td>0</td>\n",
       "    </tr>\n",
       "    <tr>\n",
       "      <th>device_id</th>\n",
       "      <td>0</td>\n",
       "    </tr>\n",
       "    <tr>\n",
       "      <th>device_ip</th>\n",
       "      <td>0</td>\n",
       "    </tr>\n",
       "    <tr>\n",
       "      <th>device_model</th>\n",
       "      <td>0</td>\n",
       "    </tr>\n",
       "    <tr>\n",
       "      <th>device_type</th>\n",
       "      <td>0</td>\n",
       "    </tr>\n",
       "    <tr>\n",
       "      <th>device_conn_type</th>\n",
       "      <td>0</td>\n",
       "    </tr>\n",
       "    <tr>\n",
       "      <th>C14</th>\n",
       "      <td>0</td>\n",
       "    </tr>\n",
       "    <tr>\n",
       "      <th>C15</th>\n",
       "      <td>0</td>\n",
       "    </tr>\n",
       "    <tr>\n",
       "      <th>C16</th>\n",
       "      <td>0</td>\n",
       "    </tr>\n",
       "    <tr>\n",
       "      <th>C17</th>\n",
       "      <td>0</td>\n",
       "    </tr>\n",
       "    <tr>\n",
       "      <th>C18</th>\n",
       "      <td>0</td>\n",
       "    </tr>\n",
       "    <tr>\n",
       "      <th>C19</th>\n",
       "      <td>0</td>\n",
       "    </tr>\n",
       "    <tr>\n",
       "      <th>C20</th>\n",
       "      <td>0</td>\n",
       "    </tr>\n",
       "    <tr>\n",
       "      <th>C21</th>\n",
       "      <td>0</td>\n",
       "    </tr>\n",
       "  </tbody>\n",
       "</table>\n",
       "</div>"
      ],
      "text/plain": [
       "                  Count Missing\n",
       "id                            0\n",
       "click                         0\n",
       "hour                          0\n",
       "C1                            0\n",
       "banner_pos                    0\n",
       "site_id                       0\n",
       "site_domain                   0\n",
       "site_category                 0\n",
       "app_id                        0\n",
       "app_domain                    0\n",
       "app_category                  0\n",
       "device_id                     0\n",
       "device_ip                     0\n",
       "device_model                  0\n",
       "device_type                   0\n",
       "device_conn_type              0\n",
       "C14                           0\n",
       "C15                           0\n",
       "C16                           0\n",
       "C17                           0\n",
       "C18                           0\n",
       "C19                           0\n",
       "C20                           0\n",
       "C21                           0"
      ]
     },
     "execution_count": 34,
     "metadata": {},
     "output_type": "execute_result"
    }
   ],
   "source": [
    "missing_value_df"
   ]
  },
  {
   "cell_type": "code",
   "execution_count": 35,
   "id": "2244bf7e",
   "metadata": {},
   "outputs": [],
   "source": [
    "cor = df_train.corr()"
   ]
  },
  {
   "cell_type": "code",
   "execution_count": 36,
   "id": "f34b84c2",
   "metadata": {},
   "outputs": [],
   "source": [
    "import matplotlib.pyplot as plt"
   ]
  },
  {
   "cell_type": "code",
   "execution_count": 37,
   "id": "d9237470",
   "metadata": {},
   "outputs": [],
   "source": [
    "import seaborn as sns"
   ]
  },
  {
   "cell_type": "code",
   "execution_count": 38,
   "id": "4124d602",
   "metadata": {},
   "outputs": [
    {
     "data": {
      "text/plain": [
       "<AxesSubplot:>"
      ]
     },
     "execution_count": 38,
     "metadata": {},
     "output_type": "execute_result"
    },
    {
     "data": {
      "image/png": "[encoded data removed]",
      "text/plain": [
       "<Figure size 1080x1080 with 2 Axes>"
      ]
     },
     "metadata": {
      "needs_background": "light"
     },
     "output_type": "display_data"
    }
   ],
   "source": [
    "plt.figure(figsize=(15,15))\n",
    "sns.heatmap(cor,annot=True,cmap = plt.cm.Reds)\n",
    "plt.show()"
   ]
  },
  {
   "cell_type": "code",
   "execution_count": 41,
   "id": "a04371a1",
   "metadata": {},
   "outputs": [],
   "source": [
    "#DROP one of the columns from the highly co-related pairs.\n",
    "drop_columns =['C1','C17']\n",
    "df_train = df_train.drop(columns=drop_columns, axis=1)"
   ]
  },
  {
   "cell_type": "code",
   "execution_count": 42,
   "id": "045be686",
   "metadata": {},
   "outputs": [
    {
     "name": "stdout",
     "output_type": "stream",
     "text": [
      "(4999999, 22)\n"
     ]
    }
   ],
   "source": [
    "print(df_train.shape)"
   ]
  },
  {
   "cell_type": "code",
   "execution_count": 43,
   "id": "e19b9330",
   "metadata": {},
   "outputs": [
    {
     "name": "stdout",
     "output_type": "stream",
     "text": [
      "869006 4130993\n"
     ]
    }
   ],
   "source": [
    "count_clicked = (df_train['click'] == 1 ).sum()\n",
    "count_not_clicked= 4999999 - count_clicked\n",
    "print (count_clicked,count_not_clicked)"
   ]
  },
  {
   "cell_type": "code",
   "execution_count": 50,
   "id": "6c6cc615",
   "metadata": {},
   "outputs": [
    {
     "data": {
      "image/png": "[encoded data removed]",
      "text/plain": [
       "<Figure size 432x288 with 1 Axes>"
      ]
     },
     "metadata": {},
     "output_type": "display_data"
    }
   ],
   "source": [
    "#lets plot \n",
    "click_status = ['clicked','not_clicked']\n",
    "data =[count_clicked,count_not_clicked]\n",
    "explode =(0,0.1)\n",
    "fig1, ax1 = plt.subplots()\n",
    "ax1.pie(data,explode=explode,labels = click_status,autopct='%2.2g%%',shadow = True,startangle =90)\n",
    "ax1.axis ('equal')\n",
    "plt.legend(title='Click Status:')\n",
    "plt.show()\n"
   ]
  },
  {
   "cell_type": "code",
   "execution_count": 51,
   "id": "3112983e",
   "metadata": {},
   "outputs": [
    {
     "data": {
      "text/plain": [
       "0    False\n",
       "1    False\n",
       "2    False\n",
       "3    False\n",
       "4    False\n",
       "Name: click, dtype: bool"
      ]
     },
     "execution_count": 51,
     "metadata": {},
     "output_type": "execute_result"
    }
   ],
   "source": [
    " (df_train['click'] == 1 ).head()\n",
    "    "
   ]
  },
  {
   "cell_type": "code",
   "execution_count": 51,
   "id": "7e9f747c",
   "metadata": {},
   "outputs": [
    {
     "data": {
      "text/html": [
       "<div>\n",
       "<style scoped>\n",
       "    .dataframe tbody tr th:only-of-type {\n",
       "        vertical-align: middle;\n",
       "    }\n",
       "\n",
       "    .dataframe tbody tr th {\n",
       "        vertical-align: top;\n",
       "    }\n",
       "\n",
       "    .dataframe thead th {\n",
       "        text-align: right;\n",
       "    }\n",
       "</style>\n",
       "<table border=\"1\" class=\"dataframe\">\n",
       "  <thead>\n",
       "    <tr style=\"text-align: right;\">\n",
       "      <th></th>\n",
       "      <th>id</th>\n",
       "      <th>click</th>\n",
       "      <th>hour</th>\n",
       "      <th>C1</th>\n",
       "      <th>banner_pos</th>\n",
       "      <th>site_id</th>\n",
       "      <th>site_domain</th>\n",
       "      <th>site_category</th>\n",
       "      <th>app_id</th>\n",
       "      <th>app_domain</th>\n",
       "      <th>...</th>\n",
       "      <th>device_type</th>\n",
       "      <th>device_conn_type</th>\n",
       "      <th>C14</th>\n",
       "      <th>C15</th>\n",
       "      <th>C16</th>\n",
       "      <th>C17</th>\n",
       "      <th>C18</th>\n",
       "      <th>C19</th>\n",
       "      <th>C20</th>\n",
       "      <th>C21</th>\n",
       "    </tr>\n",
       "  </thead>\n",
       "  <tbody>\n",
       "    <tr>\n",
       "      <th>0</th>\n",
       "      <td>-1313665075</td>\n",
       "      <td>0</td>\n",
       "      <td>2014-10-24 06:00:00</td>\n",
       "      <td>1005</td>\n",
       "      <td>0</td>\n",
       "      <td>6256f5b4</td>\n",
       "      <td>28f93029</td>\n",
       "      <td>f028772b</td>\n",
       "      <td>ecad2386</td>\n",
       "      <td>7801e8d9</td>\n",
       "      <td>...</td>\n",
       "      <td>1</td>\n",
       "      <td>0</td>\n",
       "      <td>16615</td>\n",
       "      <td>320</td>\n",
       "      <td>50</td>\n",
       "      <td>1863</td>\n",
       "      <td>3</td>\n",
       "      <td>39</td>\n",
       "      <td>-1</td>\n",
       "      <td>23</td>\n",
       "    </tr>\n",
       "    <tr>\n",
       "      <th>1</th>\n",
       "      <td>-560158682</td>\n",
       "      <td>0</td>\n",
       "      <td>2014-10-29 15:00:00</td>\n",
       "      <td>1005</td>\n",
       "      <td>1</td>\n",
       "      <td>d9750ee7</td>\n",
       "      <td>98572c79</td>\n",
       "      <td>f028772b</td>\n",
       "      <td>ecad2386</td>\n",
       "      <td>7801e8d9</td>\n",
       "      <td>...</td>\n",
       "      <td>1</td>\n",
       "      <td>0</td>\n",
       "      <td>17614</td>\n",
       "      <td>320</td>\n",
       "      <td>50</td>\n",
       "      <td>1993</td>\n",
       "      <td>2</td>\n",
       "      <td>1063</td>\n",
       "      <td>100084</td>\n",
       "      <td>33</td>\n",
       "    </tr>\n",
       "    <tr>\n",
       "      <th>2</th>\n",
       "      <td>1658722075</td>\n",
       "      <td>0</td>\n",
       "      <td>2014-10-22 05:00:00</td>\n",
       "      <td>1005</td>\n",
       "      <td>0</td>\n",
       "      <td>bb4524e7</td>\n",
       "      <td>d733bbc3</td>\n",
       "      <td>28905ebd</td>\n",
       "      <td>ecad2386</td>\n",
       "      <td>7801e8d9</td>\n",
       "      <td>...</td>\n",
       "      <td>1</td>\n",
       "      <td>0</td>\n",
       "      <td>21790</td>\n",
       "      <td>320</td>\n",
       "      <td>50</td>\n",
       "      <td>2513</td>\n",
       "      <td>3</td>\n",
       "      <td>35</td>\n",
       "      <td>100188</td>\n",
       "      <td>68</td>\n",
       "    </tr>\n",
       "    <tr>\n",
       "      <th>3</th>\n",
       "      <td>1323747585</td>\n",
       "      <td>1</td>\n",
       "      <td>2014-10-21 14:00:00</td>\n",
       "      <td>1002</td>\n",
       "      <td>0</td>\n",
       "      <td>85f751fd</td>\n",
       "      <td>c4e18dd6</td>\n",
       "      <td>50e219e0</td>\n",
       "      <td>255a58c8</td>\n",
       "      <td>7801e8d9</td>\n",
       "      <td>...</td>\n",
       "      <td>0</td>\n",
       "      <td>0</td>\n",
       "      <td>21747</td>\n",
       "      <td>320</td>\n",
       "      <td>50</td>\n",
       "      <td>2504</td>\n",
       "      <td>3</td>\n",
       "      <td>41</td>\n",
       "      <td>100160</td>\n",
       "      <td>111</td>\n",
       "    </tr>\n",
       "    <tr>\n",
       "      <th>4</th>\n",
       "      <td>1821290237</td>\n",
       "      <td>0</td>\n",
       "      <td>2014-10-30 09:00:00</td>\n",
       "      <td>1005</td>\n",
       "      <td>0</td>\n",
       "      <td>85f751fd</td>\n",
       "      <td>c4e18dd6</td>\n",
       "      <td>50e219e0</td>\n",
       "      <td>a5184c22</td>\n",
       "      <td>b8d325c3</td>\n",
       "      <td>...</td>\n",
       "      <td>1</td>\n",
       "      <td>2</td>\n",
       "      <td>23950</td>\n",
       "      <td>320</td>\n",
       "      <td>50</td>\n",
       "      <td>2745</td>\n",
       "      <td>2</td>\n",
       "      <td>163</td>\n",
       "      <td>100176</td>\n",
       "      <td>255</td>\n",
       "    </tr>\n",
       "    <tr>\n",
       "      <th>...</th>\n",
       "      <td>...</td>\n",
       "      <td>...</td>\n",
       "      <td>...</td>\n",
       "      <td>...</td>\n",
       "      <td>...</td>\n",
       "      <td>...</td>\n",
       "      <td>...</td>\n",
       "      <td>...</td>\n",
       "      <td>...</td>\n",
       "      <td>...</td>\n",
       "      <td>...</td>\n",
       "      <td>...</td>\n",
       "      <td>...</td>\n",
       "      <td>...</td>\n",
       "      <td>...</td>\n",
       "      <td>...</td>\n",
       "      <td>...</td>\n",
       "      <td>...</td>\n",
       "      <td>...</td>\n",
       "      <td>...</td>\n",
       "      <td>...</td>\n",
       "    </tr>\n",
       "    <tr>\n",
       "      <th>95</th>\n",
       "      <td>-743133015</td>\n",
       "      <td>0</td>\n",
       "      <td>2014-10-29 04:00:00</td>\n",
       "      <td>1005</td>\n",
       "      <td>0</td>\n",
       "      <td>6399eda6</td>\n",
       "      <td>968765cd</td>\n",
       "      <td>f028772b</td>\n",
       "      <td>ecad2386</td>\n",
       "      <td>7801e8d9</td>\n",
       "      <td>...</td>\n",
       "      <td>1</td>\n",
       "      <td>0</td>\n",
       "      <td>19771</td>\n",
       "      <td>320</td>\n",
       "      <td>50</td>\n",
       "      <td>2227</td>\n",
       "      <td>0</td>\n",
       "      <td>935</td>\n",
       "      <td>-1</td>\n",
       "      <td>48</td>\n",
       "    </tr>\n",
       "    <tr>\n",
       "      <th>96</th>\n",
       "      <td>1071796067</td>\n",
       "      <td>1</td>\n",
       "      <td>2014-10-25 11:00:00</td>\n",
       "      <td>1005</td>\n",
       "      <td>0</td>\n",
       "      <td>40bd4b79</td>\n",
       "      <td>eddd1cf1</td>\n",
       "      <td>3e814130</td>\n",
       "      <td>ecad2386</td>\n",
       "      <td>7801e8d9</td>\n",
       "      <td>...</td>\n",
       "      <td>1</td>\n",
       "      <td>0</td>\n",
       "      <td>17239</td>\n",
       "      <td>320</td>\n",
       "      <td>50</td>\n",
       "      <td>1973</td>\n",
       "      <td>3</td>\n",
       "      <td>39</td>\n",
       "      <td>100188</td>\n",
       "      <td>23</td>\n",
       "    </tr>\n",
       "    <tr>\n",
       "      <th>97</th>\n",
       "      <td>-1144422647</td>\n",
       "      <td>0</td>\n",
       "      <td>2014-10-27 06:00:00</td>\n",
       "      <td>1005</td>\n",
       "      <td>0</td>\n",
       "      <td>1fbe01fe</td>\n",
       "      <td>f3845767</td>\n",
       "      <td>28905ebd</td>\n",
       "      <td>ecad2386</td>\n",
       "      <td>7801e8d9</td>\n",
       "      <td>...</td>\n",
       "      <td>1</td>\n",
       "      <td>0</td>\n",
       "      <td>20108</td>\n",
       "      <td>320</td>\n",
       "      <td>50</td>\n",
       "      <td>2299</td>\n",
       "      <td>2</td>\n",
       "      <td>1327</td>\n",
       "      <td>100084</td>\n",
       "      <td>52</td>\n",
       "    </tr>\n",
       "    <tr>\n",
       "      <th>98</th>\n",
       "      <td>-529306236</td>\n",
       "      <td>0</td>\n",
       "      <td>2014-10-26 08:00:00</td>\n",
       "      <td>1005</td>\n",
       "      <td>1</td>\n",
       "      <td>e151e245</td>\n",
       "      <td>7e091613</td>\n",
       "      <td>f028772b</td>\n",
       "      <td>ecad2386</td>\n",
       "      <td>7801e8d9</td>\n",
       "      <td>...</td>\n",
       "      <td>1</td>\n",
       "      <td>0</td>\n",
       "      <td>17262</td>\n",
       "      <td>320</td>\n",
       "      <td>50</td>\n",
       "      <td>1872</td>\n",
       "      <td>3</td>\n",
       "      <td>39</td>\n",
       "      <td>-1</td>\n",
       "      <td>23</td>\n",
       "    </tr>\n",
       "    <tr>\n",
       "      <th>99</th>\n",
       "      <td>802112793</td>\n",
       "      <td>0</td>\n",
       "      <td>2014-10-28 02:00:00</td>\n",
       "      <td>1005</td>\n",
       "      <td>0</td>\n",
       "      <td>1fbe01fe</td>\n",
       "      <td>f3845767</td>\n",
       "      <td>28905ebd</td>\n",
       "      <td>ecad2386</td>\n",
       "      <td>7801e8d9</td>\n",
       "      <td>...</td>\n",
       "      <td>1</td>\n",
       "      <td>0</td>\n",
       "      <td>22677</td>\n",
       "      <td>320</td>\n",
       "      <td>50</td>\n",
       "      <td>2617</td>\n",
       "      <td>0</td>\n",
       "      <td>35</td>\n",
       "      <td>100083</td>\n",
       "      <td>51</td>\n",
       "    </tr>\n",
       "  </tbody>\n",
       "</table>\n",
       "<p>100 rows × 24 columns</p>\n",
       "</div>"
      ],
      "text/plain": [
       "            id  click                hour    C1  banner_pos   site_id  \\\n",
       "0  -1313665075      0 2014-10-24 06:00:00  1005           0  6256f5b4   \n",
       "1   -560158682      0 2014-10-29 15:00:00  1005           1  d9750ee7   \n",
       "2   1658722075      0 2014-10-22 05:00:00  1005           0  bb4524e7   \n",
       "3   1323747585      1 2014-10-21 14:00:00  1002           0  85f751fd   \n",
       "4   1821290237      0 2014-10-30 09:00:00  1005           0  85f751fd   \n",
       "..         ...    ...                 ...   ...         ...       ...   \n",
       "95  -743133015      0 2014-10-29 04:00:00  1005           0  6399eda6   \n",
       "96  1071796067      1 2014-10-25 11:00:00  1005           0  40bd4b79   \n",
       "97 -1144422647      0 2014-10-27 06:00:00  1005           0  1fbe01fe   \n",
       "98  -529306236      0 2014-10-26 08:00:00  1005           1  e151e245   \n",
       "99   802112793      0 2014-10-28 02:00:00  1005           0  1fbe01fe   \n",
       "\n",
       "   site_domain site_category    app_id app_domain  ... device_type  \\\n",
       "0     28f93029      f028772b  ecad2386   7801e8d9  ...           1   \n",
       "1     98572c79      f028772b  ecad2386   7801e8d9  ...           1   \n",
       "2     d733bbc3      28905ebd  ecad2386   7801e8d9  ...           1   \n",
       "3     c4e18dd6      50e219e0  255a58c8   7801e8d9  ...           0   \n",
       "4     c4e18dd6      50e219e0  a5184c22   b8d325c3  ...           1   \n",
       "..         ...           ...       ...        ...  ...         ...   \n",
       "95    968765cd      f028772b  ecad2386   7801e8d9  ...           1   \n",
       "96    eddd1cf1      3e814130  ecad2386   7801e8d9  ...           1   \n",
       "97    f3845767      28905ebd  ecad2386   7801e8d9  ...           1   \n",
       "98    7e091613      f028772b  ecad2386   7801e8d9  ...           1   \n",
       "99    f3845767      28905ebd  ecad2386   7801e8d9  ...           1   \n",
       "\n",
       "   device_conn_type    C14  C15  C16   C17  C18   C19     C20  C21  \n",
       "0                 0  16615  320   50  1863    3    39      -1   23  \n",
       "1                 0  17614  320   50  1993    2  1063  100084   33  \n",
       "2                 0  21790  320   50  2513    3    35  100188   68  \n",
       "3                 0  21747  320   50  2504    3    41  100160  111  \n",
       "4                 2  23950  320   50  2745    2   163  100176  255  \n",
       "..              ...    ...  ...  ...   ...  ...   ...     ...  ...  \n",
       "95                0  19771  320   50  2227    0   935      -1   48  \n",
       "96                0  17239  320   50  1973    3    39  100188   23  \n",
       "97                0  20108  320   50  2299    2  1327  100084   52  \n",
       "98                0  17262  320   50  1872    3    39      -1   23  \n",
       "99                0  22677  320   50  2617    0    35  100083   51  \n",
       "\n",
       "[100 rows x 24 columns]"
      ]
     },
     "execution_count": 51,
     "metadata": {},
     "output_type": "execute_result"
    }
   ],
   "source": [
    "df_train.head(100)"
   ]
  },
  {
   "cell_type": "code",
   "execution_count": 54,
   "id": "6ae74d7e",
   "metadata": {},
   "outputs": [
    {
     "data": {
      "text/plain": [
       "array([  35,  431,   39,  167,  687,  551,  163,  297,  291,  171,  427,\n",
       "        303,   41,   47, 1063,  943, 1835, 1315,  161,  175,  681, 1319,\n",
       "         43,  169,  683, 1711,  813, 1451,  559,  423,  801,  673, 1327,\n",
       "         33,  679, 1071,  425,  547,   45,  299,  295,   34,  553, 1447,\n",
       "        811], dtype=int64)"
      ]
     },
     "execution_count": 54,
     "metadata": {},
     "output_type": "execute_result"
    }
   ],
   "source": [
    "df_train['C19'].unique()"
   ]
  },
  {
   "cell_type": "code",
   "execution_count": 55,
   "id": "178b1bb8",
   "metadata": {},
   "outputs": [
    {
     "data": {
      "text/plain": [
       "array([  50,  250,   36,  480,   90,   20,  768,  320, 1024], dtype=int64)"
      ]
     },
     "execution_count": 55,
     "metadata": {},
     "output_type": "execute_result"
    }
   ],
   "source": [
    "df_train['C16'].unique()"
   ]
  },
  {
   "cell_type": "code",
   "execution_count": 56,
   "id": "38357451",
   "metadata": {},
   "outputs": [
    {
     "data": {
      "text/plain": [
       "array([ 320,  300,  216,  728,  120, 1024,  480,  768], dtype=int64)"
      ]
     },
     "execution_count": 56,
     "metadata": {},
     "output_type": "execute_result"
    }
   ],
   "source": [
    "df_train['C15'].unique()"
   ]
  },
  {
   "cell_type": "code",
   "execution_count": 57,
   "id": "0ef80f57",
   "metadata": {},
   "outputs": [
    {
     "data": {
      "text/plain": [
       "array([0, 3, 2, 1], dtype=int64)"
      ]
     },
     "execution_count": 57,
     "metadata": {},
     "output_type": "execute_result"
    }
   ],
   "source": [
    "df_train['C18'].unique()"
   ]
  },
  {
   "cell_type": "code",
   "execution_count": 59,
   "id": "e8859e12",
   "metadata": {},
   "outputs": [],
   "source": [
    "D_C18=df_train.groupby(['click','C18'])"
   ]
  },
  {
   "cell_type": "code",
   "execution_count": 60,
   "id": "b7f72e54",
   "metadata": {},
   "outputs": [
    {
     "data": {
      "text/plain": [
       "<pandas.core.groupby.generic.DataFrameGroupBy object at 0x000000000C25BB50>"
      ]
     },
     "execution_count": 60,
     "metadata": {},
     "output_type": "execute_result"
    }
   ],
   "source": [
    "D_C18"
   ]
  },
  {
   "cell_type": "code",
   "execution_count": 61,
   "id": "cba18cec",
   "metadata": {},
   "outputs": [
    {
     "name": "stdout",
     "output_type": "stream",
     "text": [
      "                id     hour  banner_pos  site_id  site_domain  site_category  \\\n",
      "click C18                                                                      \n",
      "0     0    1533588  1533588     1533588  1533588      1533588        1533588   \n",
      "      1     140377   140377      140377   140377       140377         140377   \n",
      "      2     555479   555479      555479   555479       555479         555479   \n",
      "      3    1901549  1901549     1901549  1901549      1901549        1901549   \n",
      "1     0     323173   323173      323173   323173       323173         323173   \n",
      "      1      10804    10804       10804    10804        10804          10804   \n",
      "      2     256010   256010      256010   256010       256010         256010   \n",
      "      3     279019   279019      279019   279019       279019         279019   \n",
      "\n",
      "            app_id  app_domain  app_category  device_id  device_ip  \\\n",
      "click C18                                                            \n",
      "0     0    1533588     1533588       1533588    1533588    1533588   \n",
      "      1     140377      140377        140377     140377     140377   \n",
      "      2     555479      555479        555479     555479     555479   \n",
      "      3    1901549     1901549       1901549    1901549    1901549   \n",
      "1     0     323173      323173        323173     323173     323173   \n",
      "      1      10804       10804         10804      10804      10804   \n",
      "      2     256010      256010        256010     256010     256010   \n",
      "      3     279019      279019        279019     279019     279019   \n",
      "\n",
      "           device_model  device_type  device_conn_type      C14      C15  \\\n",
      "click C18                                                                  \n",
      "0     0         1533588      1533588           1533588  1533588  1533588   \n",
      "      1          140377       140377            140377   140377   140377   \n",
      "      2          555479       555479            555479   555479   555479   \n",
      "      3         1901549      1901549           1901549  1901549  1901549   \n",
      "1     0          323173       323173            323173   323173   323173   \n",
      "      1           10804        10804             10804    10804    10804   \n",
      "      2          256010       256010            256010   256010   256010   \n",
      "      3          279019       279019            279019   279019   279019   \n",
      "\n",
      "               C16      C19      C20      C21  \n",
      "click C18                                      \n",
      "0     0    1533588  1533588  1533588  1533588  \n",
      "      1     140377   140377   140377   140377  \n",
      "      2     555479   555479   555479   555479  \n",
      "      3    1901549  1901549  1901549  1901549  \n",
      "1     0     323173   323173   323173   323173  \n",
      "      1      10804    10804    10804    10804  \n",
      "      2     256010   256010   256010   256010  \n",
      "      3     279019   279019   279019   279019  \n"
     ]
    }
   ],
   "source": [
    "print(D_C18.count())"
   ]
  },
  {
   "cell_type": "code",
   "execution_count": 62,
   "id": "890a8895",
   "metadata": {},
   "outputs": [
    {
     "data": {
      "text/plain": [
       "array([1, 0, 4, 5], dtype=int64)"
      ]
     },
     "execution_count": 62,
     "metadata": {},
     "output_type": "execute_result"
    }
   ],
   "source": [
    "df_train['device_type'].unique()"
   ]
  },
  {
   "cell_type": "code",
   "execution_count": 50,
   "id": "b9aefa31",
   "metadata": {},
   "outputs": [
    {
     "data": {
      "text/html": [
       "<div>\n",
       "<style scoped>\n",
       "    .dataframe tbody tr th:only-of-type {\n",
       "        vertical-align: middle;\n",
       "    }\n",
       "\n",
       "    .dataframe tbody tr th {\n",
       "        vertical-align: top;\n",
       "    }\n",
       "\n",
       "    .dataframe thead th {\n",
       "        text-align: right;\n",
       "    }\n",
       "</style>\n",
       "<table border=\"1\" class=\"dataframe\">\n",
       "  <thead>\n",
       "    <tr style=\"text-align: right;\">\n",
       "      <th></th>\n",
       "      <th>id</th>\n",
       "      <th>click</th>\n",
       "      <th>C1</th>\n",
       "      <th>banner_pos</th>\n",
       "      <th>device_type</th>\n",
       "      <th>device_conn_type</th>\n",
       "      <th>C14</th>\n",
       "      <th>C15</th>\n",
       "      <th>C16</th>\n",
       "      <th>C17</th>\n",
       "      <th>C18</th>\n",
       "      <th>C19</th>\n",
       "      <th>C20</th>\n",
       "      <th>C21</th>\n",
       "    </tr>\n",
       "  </thead>\n",
       "  <tbody>\n",
       "    <tr>\n",
       "      <th>count</th>\n",
       "      <td>2.000000e+06</td>\n",
       "      <td>2.000000e+06</td>\n",
       "      <td>2.000000e+06</td>\n",
       "      <td>2.000000e+06</td>\n",
       "      <td>2.000000e+06</td>\n",
       "      <td>2.000000e+06</td>\n",
       "      <td>2.000000e+06</td>\n",
       "      <td>2.000000e+06</td>\n",
       "      <td>2.000000e+06</td>\n",
       "      <td>2.000000e+06</td>\n",
       "      <td>2.000000e+06</td>\n",
       "      <td>2.000000e+06</td>\n",
       "      <td>2.000000e+06</td>\n",
       "      <td>2.000000e+06</td>\n",
       "    </tr>\n",
       "    <tr>\n",
       "      <th>mean</th>\n",
       "      <td>-1.563375e+06</td>\n",
       "      <td>1.697890e-01</td>\n",
       "      <td>1.004968e+03</td>\n",
       "      <td>2.878710e-01</td>\n",
       "      <td>1.015534e+00</td>\n",
       "      <td>3.305175e-01</td>\n",
       "      <td>1.883751e+04</td>\n",
       "      <td>3.189020e+02</td>\n",
       "      <td>6.012178e+01</td>\n",
       "      <td>2.111944e+03</td>\n",
       "      <td>1.432925e+00</td>\n",
       "      <td>2.273288e+02</td>\n",
       "      <td>5.326417e+04</td>\n",
       "      <td>8.336439e+01</td>\n",
       "    </tr>\n",
       "    <tr>\n",
       "      <th>std</th>\n",
       "      <td>1.240270e+09</td>\n",
       "      <td>3.754474e-01</td>\n",
       "      <td>1.093687e+00</td>\n",
       "      <td>5.050717e-01</td>\n",
       "      <td>5.275091e-01</td>\n",
       "      <td>8.540849e-01</td>\n",
       "      <td>4.965794e+03</td>\n",
       "      <td>2.146434e+01</td>\n",
       "      <td>4.728442e+01</td>\n",
       "      <td>6.103655e+02</td>\n",
       "      <td>1.325859e+00</td>\n",
       "      <td>3.511445e+02</td>\n",
       "      <td>4.995383e+04</td>\n",
       "      <td>7.028684e+01</td>\n",
       "    </tr>\n",
       "    <tr>\n",
       "      <th>min</th>\n",
       "      <td>-2.147480e+09</td>\n",
       "      <td>0.000000e+00</td>\n",
       "      <td>1.001000e+03</td>\n",
       "      <td>0.000000e+00</td>\n",
       "      <td>0.000000e+00</td>\n",
       "      <td>0.000000e+00</td>\n",
       "      <td>3.750000e+02</td>\n",
       "      <td>1.200000e+02</td>\n",
       "      <td>2.000000e+01</td>\n",
       "      <td>1.120000e+02</td>\n",
       "      <td>0.000000e+00</td>\n",
       "      <td>3.300000e+01</td>\n",
       "      <td>-1.000000e+00</td>\n",
       "      <td>1.000000e+00</td>\n",
       "    </tr>\n",
       "    <tr>\n",
       "      <th>25%</th>\n",
       "      <td>-1.076322e+09</td>\n",
       "      <td>0.000000e+00</td>\n",
       "      <td>1.005000e+03</td>\n",
       "      <td>0.000000e+00</td>\n",
       "      <td>1.000000e+00</td>\n",
       "      <td>0.000000e+00</td>\n",
       "      <td>1.692000e+04</td>\n",
       "      <td>3.200000e+02</td>\n",
       "      <td>5.000000e+01</td>\n",
       "      <td>1.863000e+03</td>\n",
       "      <td>0.000000e+00</td>\n",
       "      <td>3.500000e+01</td>\n",
       "      <td>-1.000000e+00</td>\n",
       "      <td>2.300000e+01</td>\n",
       "    </tr>\n",
       "    <tr>\n",
       "      <th>50%</th>\n",
       "      <td>-3.211232e+06</td>\n",
       "      <td>0.000000e+00</td>\n",
       "      <td>1.005000e+03</td>\n",
       "      <td>0.000000e+00</td>\n",
       "      <td>1.000000e+00</td>\n",
       "      <td>0.000000e+00</td>\n",
       "      <td>2.034600e+04</td>\n",
       "      <td>3.200000e+02</td>\n",
       "      <td>5.000000e+01</td>\n",
       "      <td>2.323000e+03</td>\n",
       "      <td>2.000000e+00</td>\n",
       "      <td>3.900000e+01</td>\n",
       "      <td>1.000490e+05</td>\n",
       "      <td>6.100000e+01</td>\n",
       "    </tr>\n",
       "    <tr>\n",
       "      <th>75%</th>\n",
       "      <td>1.073441e+09</td>\n",
       "      <td>0.000000e+00</td>\n",
       "      <td>1.005000e+03</td>\n",
       "      <td>1.000000e+00</td>\n",
       "      <td>1.000000e+00</td>\n",
       "      <td>0.000000e+00</td>\n",
       "      <td>2.189400e+04</td>\n",
       "      <td>3.200000e+02</td>\n",
       "      <td>5.000000e+01</td>\n",
       "      <td>2.526000e+03</td>\n",
       "      <td>3.000000e+00</td>\n",
       "      <td>1.710000e+02</td>\n",
       "      <td>1.000940e+05</td>\n",
       "      <td>1.010000e+02</td>\n",
       "    </tr>\n",
       "    <tr>\n",
       "      <th>max</th>\n",
       "      <td>2.147481e+09</td>\n",
       "      <td>1.000000e+00</td>\n",
       "      <td>1.012000e+03</td>\n",
       "      <td>7.000000e+00</td>\n",
       "      <td>5.000000e+00</td>\n",
       "      <td>5.000000e+00</td>\n",
       "      <td>2.405200e+04</td>\n",
       "      <td>1.024000e+03</td>\n",
       "      <td>1.024000e+03</td>\n",
       "      <td>2.758000e+03</td>\n",
       "      <td>3.000000e+00</td>\n",
       "      <td>1.839000e+03</td>\n",
       "      <td>1.002480e+05</td>\n",
       "      <td>2.550000e+02</td>\n",
       "    </tr>\n",
       "  </tbody>\n",
       "</table>\n",
       "</div>"
      ],
      "text/plain": [
       "                 id         click            C1    banner_pos   device_type  \\\n",
       "count  2.000000e+06  2.000000e+06  2.000000e+06  2.000000e+06  2.000000e+06   \n",
       "mean  -1.563375e+06  1.697890e-01  1.004968e+03  2.878710e-01  1.015534e+00   \n",
       "std    1.240270e+09  3.754474e-01  1.093687e+00  5.050717e-01  5.275091e-01   \n",
       "min   -2.147480e+09  0.000000e+00  1.001000e+03  0.000000e+00  0.000000e+00   \n",
       "25%   -1.076322e+09  0.000000e+00  1.005000e+03  0.000000e+00  1.000000e+00   \n",
       "50%   -3.211232e+06  0.000000e+00  1.005000e+03  0.000000e+00  1.000000e+00   \n",
       "75%    1.073441e+09  0.000000e+00  1.005000e+03  1.000000e+00  1.000000e+00   \n",
       "max    2.147481e+09  1.000000e+00  1.012000e+03  7.000000e+00  5.000000e+00   \n",
       "\n",
       "       device_conn_type           C14           C15           C16  \\\n",
       "count      2.000000e+06  2.000000e+06  2.000000e+06  2.000000e+06   \n",
       "mean       3.305175e-01  1.883751e+04  3.189020e+02  6.012178e+01   \n",
       "std        8.540849e-01  4.965794e+03  2.146434e+01  4.728442e+01   \n",
       "min        0.000000e+00  3.750000e+02  1.200000e+02  2.000000e+01   \n",
       "25%        0.000000e+00  1.692000e+04  3.200000e+02  5.000000e+01   \n",
       "50%        0.000000e+00  2.034600e+04  3.200000e+02  5.000000e+01   \n",
       "75%        0.000000e+00  2.189400e+04  3.200000e+02  5.000000e+01   \n",
       "max        5.000000e+00  2.405200e+04  1.024000e+03  1.024000e+03   \n",
       "\n",
       "                C17           C18           C19           C20           C21  \n",
       "count  2.000000e+06  2.000000e+06  2.000000e+06  2.000000e+06  2.000000e+06  \n",
       "mean   2.111944e+03  1.432925e+00  2.273288e+02  5.326417e+04  8.336439e+01  \n",
       "std    6.103655e+02  1.325859e+00  3.511445e+02  4.995383e+04  7.028684e+01  \n",
       "min    1.120000e+02  0.000000e+00  3.300000e+01 -1.000000e+00  1.000000e+00  \n",
       "25%    1.863000e+03  0.000000e+00  3.500000e+01 -1.000000e+00  2.300000e+01  \n",
       "50%    2.323000e+03  2.000000e+00  3.900000e+01  1.000490e+05  6.100000e+01  \n",
       "75%    2.526000e+03  3.000000e+00  1.710000e+02  1.000940e+05  1.010000e+02  \n",
       "max    2.758000e+03  3.000000e+00  1.839000e+03  1.002480e+05  2.550000e+02  "
      ]
     },
     "execution_count": 50,
     "metadata": {},
     "output_type": "execute_result"
    }
   ],
   "source": [
    "#univariant analysis\n",
    "#describe the dataframe \n",
    "\n",
    "df_train.describe()"
   ]
  },
  {
   "cell_type": "code",
   "execution_count": 5,
   "id": "579da984",
   "metadata": {},
   "outputs": [
    {
     "name": "stdout",
     "output_type": "stream",
     "text": [
      "<class 'pandas.core.frame.DataFrame'>\n",
      "RangeIndex: 4999999 entries, 0 to 4999998\n",
      "Data columns (total 24 columns):\n",
      " #   Column            Dtype  \n",
      "---  ------            -----  \n",
      " 0   id                float64\n",
      " 1   click             int64  \n",
      " 2   hour              int64  \n",
      " 3   C1                int64  \n",
      " 4   banner_pos        int64  \n",
      " 5   site_id           object \n",
      " 6   site_domain       object \n",
      " 7   site_category     object \n",
      " 8   app_id            object \n",
      " 9   app_domain        object \n",
      " 10  app_category      object \n",
      " 11  device_id         object \n",
      " 12  device_ip         object \n",
      " 13  device_model      object \n",
      " 14  device_type       int64  \n",
      " 15  device_conn_type  int64  \n",
      " 16  C14               int64  \n",
      " 17  C15               int64  \n",
      " 18  C16               int64  \n",
      " 19  C17               int64  \n",
      " 20  C18               int64  \n",
      " 21  C19               int64  \n",
      " 22  C20               int64  \n",
      " 23  C21               int64  \n",
      "dtypes: float64(1), int64(14), object(9)\n",
      "memory usage: 915.5+ MB\n"
     ]
    }
   ],
   "source": [
    "df_train.info()\n"
   ]
  },
  {
   "cell_type": "code",
   "execution_count": 6,
   "id": "0cdb2618",
   "metadata": {},
   "outputs": [],
   "source": [
    "from scipy.stats import norm"
   ]
  },
  {
   "cell_type": "code",
   "execution_count": 9,
   "id": "5ad5f279",
   "metadata": {},
   "outputs": [
    {
     "name": "stderr",
     "output_type": "stream",
     "text": [
      "C:\\ProgramData\\Anaconda3\\lib\\site-packages\\seaborn\\distributions.py:2557: FutureWarning: `distplot` is a deprecated function and will be removed in a future version. Please adapt your code to use either `displot` (a figure-level function with similar flexibility) or `kdeplot` (an axes-level function for kernel density plots).\n",
      "  warnings.warn(msg, FutureWarning)\n",
      "C:\\ProgramData\\Anaconda3\\lib\\site-packages\\seaborn\\distributions.py:2056: FutureWarning: The `axis` variable is no longer used and will be removed. Instead, assign variables directly to `x` or `y`.\n",
      "  warnings.warn(msg, FutureWarning)\n"
     ]
    },
    {
     "data": {
      "text/plain": [
       "<AxesSubplot:xlabel='hour', ylabel='Density'>"
      ]
     },
     "execution_count": 9,
     "metadata": {},
     "output_type": "execute_result"
    },
    {
     "data": {
      "image/png": "[encoded data removed]",
      "text/plain": [
       "<Figure size 432x288 with 1 Axes>"
      ]
     },
     "metadata": {
      "needs_background": "light"
     },
     "output_type": "display_data"
    }
   ],
   "source": [
    "sns.distplot(df_train['hour'],hist=False,color ='r',rug=True , fit = norm)"
   ]
  },
  {
   "cell_type": "code",
   "execution_count": 28,
   "id": "5bc485e6",
   "metadata": {},
   "outputs": [
    {
     "name": "stderr",
     "output_type": "stream",
     "text": [
      "<ipython-input-28-a569a6cece48>:1: FutureWarning: Treating datetime data as categorical rather than numeric in `.describe` is deprecated and will be removed in a future version of pandas. Specify `datetime_is_numeric=True` to silence this warning and adopt the future behavior now.\n",
      "  df_train.hour.describe()\n"
     ]
    },
    {
     "data": {
      "text/plain": [
       "count                 2000000\n",
       "unique                    240\n",
       "top       2014-10-22 09:00:00\n",
       "freq                    22201\n",
       "first     2014-10-21 00:00:00\n",
       "last      2014-10-30 23:00:00\n",
       "Name: hour, dtype: object"
      ]
     },
     "execution_count": 28,
     "metadata": {},
     "output_type": "execute_result"
    }
   ],
   "source": [
    "df_train.hour.describe()"
   ]
  },
  {
   "cell_type": "code",
   "execution_count": 30,
   "id": "aca4b50f",
   "metadata": {},
   "outputs": [
    {
     "data": {
      "image/png": "[encoded data removed]",
      "text/plain": [
       "<Figure size 864x432 with 1 Axes>"
      ]
     },
     "metadata": {
      "needs_background": "light"
     },
     "output_type": "display_data"
    }
   ],
   "source": [
    "#As we can see in above result that the data covers 10 days of data\n",
    "#now let us check hourly pattern for these days data\n",
    "\n",
    "df_train.groupby('hour').agg({'click':'sum'}).plot(figsize=(12,6))\n",
    "plt.ylabel('Number of clicks')\n",
    "plt.title('Number of clicks by hour');"
   ]
  },
  {
   "cell_type": "code",
   "execution_count": 31,
   "id": "ecd10a3a",
   "metadata": {},
   "outputs": [
    {
     "data": {
      "image/png": "[encoded data removed]",
      "text/plain": [
       "<Figure size 864x432 with 1 Axes>"
      ]
     },
     "metadata": {
      "needs_background": "light"
     },
     "output_type": "display_data"
    }
   ],
   "source": [
    "#click trends by hour of the day\n",
    "##Here I am just trying to plot graph between click trends on hourly basis, basically to figure out which hour the clicks are more\n",
    "df_train['hour_of_day'] = df_train.hour.apply(lambda x: x.hour)\n",
    "df_train.groupby('hour_of_day').agg({'click':'sum'}).plot(figsize=(12,6))\n",
    "plt.ylabel('Number of clicks')\n",
    "plt.title('click trends by hour of day');"
   ]
  },
  {
   "cell_type": "code",
   "execution_count": 32,
   "id": "5b53b494",
   "metadata": {},
   "outputs": [
    {
     "data": {
      "image/png": "[encoded data removed]",
      "text/plain": [
       "<Figure size 864x432 with 1 Axes>"
      ]
     },
     "metadata": {
      "needs_background": "light"
     },
     "output_type": "display_data"
    }
   ],
   "source": [
    "#hourly VIEW vs click\n",
    "## How many views per hour vs how many clicks per hour.\n",
    "df_train.groupby(['hour_of_day', 'click']).size().unstack().plot(kind='bar', title=\"Hour of Day\", figsize=(12,6))\n",
    "plt.ylabel('count')\n",
    "plt.title('Hourly VIEW vS clicks');"
   ]
  },
  {
   "cell_type": "code",
   "execution_count": 34,
   "id": "a5255004",
   "metadata": {},
   "outputs": [
    {
     "data": {
      "image/png": "[encoded data removed]",
      "text/plain": [
       "<Figure size 864x432 with 1 Axes>"
      ]
     },
     "metadata": {
      "needs_background": "light"
     },
     "output_type": "display_data"
    }
   ],
   "source": [
    "#here I am trying to get Hourly click through rate \n",
    "import seaborn as sns\n",
    "df_click = df_train[df_train['click'] == 1]\n",
    "df_hour = df_train[['hour_of_day','click']].groupby(['hour_of_day']).count().reset_index()\n",
    "df_hour = df_hour.rename(columns={'click': 'impressions'})\n",
    "df_hour['clicks'] = df_click[['hour_of_day','click']].groupby(['hour_of_day']).count().reset_index()['click']\n",
    "df_hour['CTR'] = df_hour['clicks']/df_hour['impressions']*100\n",
    "plt.figure(figsize=(12,6))\n",
    "sns.barplot(y='CTR', x='hour_of_day', data=df_hour)\n",
    "plt.title('Hourly CTR');"
   ]
  },
  {
   "cell_type": "code",
   "execution_count": 57,
   "id": "684f3e46",
   "metadata": {},
   "outputs": [],
   "source": [
    "#Please ignore next few cells , I was just trying to check some data type concepts in Pandas.\n",
    "mydf=df_train.head(10)"
   ]
  },
  {
   "cell_type": "code",
   "execution_count": 105,
   "id": "b674065b",
   "metadata": {},
   "outputs": [
    {
     "data": {
      "text/plain": [
       "id                           int32\n",
       "click                        int32\n",
       "hour                datetime64[ns]\n",
       "C1                           int32\n",
       "banner_pos                   int32\n",
       "site_id                     object\n",
       "site_domain                 object\n",
       "site_category               object\n",
       "app_id                      object\n",
       "app_domain                  object\n",
       "app_category                object\n",
       "device_id                   object\n",
       "device_ip                   object\n",
       "device_model                object\n",
       "device_type                  int32\n",
       "device_conn_type             int32\n",
       "C14                          int32\n",
       "C15                          int32\n",
       "C16                          int32\n",
       "C17                          int32\n",
       "C18                          int32\n",
       "C19                          int32\n",
       "C20                          int32\n",
       "C21                          int32\n",
       "day_of_week                 object\n",
       "weakday                     object\n",
       "Weekday                     object\n",
       "dtype: object"
      ]
     },
     "execution_count": 105,
     "metadata": {},
     "output_type": "execute_result"
    }
   ],
   "source": [
    "mydf.dtypes"
   ]
  },
  {
   "cell_type": "code",
   "execution_count": null,
   "id": "6c5dc224",
   "metadata": {},
   "outputs": [],
   "source": []
  },
  {
   "cell_type": "code",
   "execution_count": 58,
   "id": "699dfbe1",
   "metadata": {},
   "outputs": [
    {
     "data": {
      "text/plain": [
       "0   2014-10-24 06:00:00\n",
       "1   2014-10-29 15:00:00\n",
       "2   2014-10-22 05:00:00\n",
       "3   2014-10-21 14:00:00\n",
       "4   2014-10-30 09:00:00\n",
       "5   2014-10-27 17:00:00\n",
       "6   2014-10-30 01:00:00\n",
       "7   2014-10-29 01:00:00\n",
       "8   2014-10-28 11:00:00\n",
       "9   2014-10-28 16:00:00\n",
       "Name: hour, dtype: datetime64[ns]"
      ]
     },
     "execution_count": 58,
     "metadata": {},
     "output_type": "execute_result"
    }
   ],
   "source": [
    "mydf['hour']"
   ]
  },
  {
   "cell_type": "code",
   "execution_count": null,
   "id": "c3fee9f5",
   "metadata": {},
   "outputs": [],
   "source": []
  },
  {
   "cell_type": "code",
   "execution_count": 67,
   "id": "465b8b9b",
   "metadata": {},
   "outputs": [
    {
     "name": "stderr",
     "output_type": "stream",
     "text": [
      "<ipython-input-67-d5e89773ca51>:1: SettingWithCopyWarning: \n",
      "A value is trying to be set on a copy of a slice from a DataFrame.\n",
      "Try using .loc[row_indexer,col_indexer] = value instead\n",
      "\n",
      "See the caveats in the documentation: https://pandas.pydata.org/pandas-docs/stable/user_guide/indexing.html#returning-a-view-versus-a-copy\n",
      "  mydf['Weekday'] = mydf['hour'].dt.strftime(\"%A\")\n"
     ]
    }
   ],
   "source": [
    "mydf['Weekday'] = mydf['hour'].dt.strftime(\"%A\")"
   ]
  },
  {
   "cell_type": "code",
   "execution_count": 68,
   "id": "cbf050fc",
   "metadata": {},
   "outputs": [
    {
     "data": {
      "text/plain": [
       "0       Friday\n",
       "1    Wednesday\n",
       "2    Wednesday\n",
       "3      Tuesday\n",
       "4     Thursday\n",
       "5       Monday\n",
       "6     Thursday\n",
       "7    Wednesday\n",
       "8      Tuesday\n",
       "9      Tuesday\n",
       "Name: Weekday, dtype: object"
      ]
     },
     "execution_count": 68,
     "metadata": {},
     "output_type": "execute_result"
    }
   ],
   "source": [
    "mydf['Weekday']"
   ]
  },
  {
   "cell_type": "code",
   "execution_count": 15,
   "id": "a73358b3",
   "metadata": {},
   "outputs": [
    {
     "data": {
      "image/png": "[encoded data removed]",
      "text/plain": [
       "<Figure size 864x432 with 1 Axes>"
      ]
     },
     "metadata": {
      "needs_background": "light"
     },
     "output_type": "display_data"
    }
   ],
   "source": [
    "#click trends by day of week.\n",
    "#we can see that the click is more between tuesdays to Thrusdays\n",
    "df_train['weekdays'] = df_train['hour'].dt.strftime(\"%A\")\n",
    "cats = ['Monday', 'Tuesday', 'Wednesday', 'Thursday', 'Friday', 'Saturday', 'Sunday']\n",
    "df_train.groupby('weekdays').agg({'click':'sum'}).reindex(cats).plot(figsize=(12,6))\n",
    "ticks = list(range(0, 7, 1)) # points on the x axis where you want the label to appear\n",
    "labels = \"Mon Tues Weds Thurs Fri Sat Sun\".split()\n",
    "plt.xticks(ticks, labels)\n",
    "plt.title('click trends by day of week');"
   ]
  },
  {
   "cell_type": "code",
   "execution_count": 14,
   "id": "a18d7db2",
   "metadata": {},
   "outputs": [
    {
     "ename": "KeyError",
     "evalue": "\"['weekdays'] not in index\"",
     "output_type": "error",
     "traceback": [
      "\u001b[1;31m---------------------------------------------------------------------------\u001b[0m",
      "\u001b[1;31mKeyError\u001b[0m                                  Traceback (most recent call last)",
      "\u001b[1;32m<ipython-input-14-5658d4cfd898>\u001b[0m in \u001b[0;36m<module>\u001b[1;34m\u001b[0m\n\u001b[0;32m      1\u001b[0m \u001b[1;31m#Days of Week CTR\u001b[0m\u001b[1;33m\u001b[0m\u001b[1;33m\u001b[0m\u001b[1;33m\u001b[0m\u001b[0m\n\u001b[0;32m      2\u001b[0m \u001b[0mdf_click\u001b[0m \u001b[1;33m=\u001b[0m \u001b[0mdf_train\u001b[0m\u001b[1;33m[\u001b[0m\u001b[0mdf_train\u001b[0m\u001b[1;33m[\u001b[0m\u001b[1;34m'click'\u001b[0m\u001b[1;33m]\u001b[0m \u001b[1;33m==\u001b[0m \u001b[1;36m1\u001b[0m\u001b[1;33m]\u001b[0m\u001b[1;33m\u001b[0m\u001b[1;33m\u001b[0m\u001b[0m\n\u001b[1;32m----> 3\u001b[1;33m \u001b[0mdf_weekdays\u001b[0m \u001b[1;33m=\u001b[0m \u001b[0mdf_train\u001b[0m\u001b[1;33m[\u001b[0m\u001b[1;33m[\u001b[0m\u001b[1;34m'weekdays'\u001b[0m\u001b[1;33m,\u001b[0m\u001b[1;34m'click'\u001b[0m\u001b[1;33m]\u001b[0m\u001b[1;33m]\u001b[0m\u001b[1;33m.\u001b[0m\u001b[0mgroupby\u001b[0m\u001b[1;33m(\u001b[0m\u001b[1;33m[\u001b[0m\u001b[1;34m'weekdays'\u001b[0m\u001b[1;33m]\u001b[0m\u001b[1;33m)\u001b[0m\u001b[1;33m.\u001b[0m\u001b[0mcount\u001b[0m\u001b[1;33m(\u001b[0m\u001b[1;33m)\u001b[0m\u001b[1;33m.\u001b[0m\u001b[0mreset_index\u001b[0m\u001b[1;33m(\u001b[0m\u001b[1;33m)\u001b[0m\u001b[1;33m\u001b[0m\u001b[1;33m\u001b[0m\u001b[0m\n\u001b[0m\u001b[0;32m      4\u001b[0m \u001b[0mdf_weekdays\u001b[0m \u001b[1;33m=\u001b[0m \u001b[0mdf_weekdays\u001b[0m\u001b[1;33m.\u001b[0m\u001b[0mrename\u001b[0m\u001b[1;33m(\u001b[0m\u001b[0mcolumns\u001b[0m\u001b[1;33m=\u001b[0m\u001b[1;33m{\u001b[0m\u001b[1;34m'click'\u001b[0m\u001b[1;33m:\u001b[0m \u001b[1;34m'impressions'\u001b[0m\u001b[1;33m}\u001b[0m\u001b[1;33m)\u001b[0m\u001b[1;33m\u001b[0m\u001b[1;33m\u001b[0m\u001b[0m\n\u001b[0;32m      5\u001b[0m \u001b[0mdf_weekdays\u001b[0m\u001b[1;33m[\u001b[0m\u001b[1;34m'clicks'\u001b[0m\u001b[1;33m]\u001b[0m \u001b[1;33m=\u001b[0m \u001b[0mdf_click\u001b[0m\u001b[1;33m[\u001b[0m\u001b[1;33m[\u001b[0m\u001b[1;34m'weekdays'\u001b[0m\u001b[1;33m,\u001b[0m\u001b[1;34m'click'\u001b[0m\u001b[1;33m]\u001b[0m\u001b[1;33m]\u001b[0m\u001b[1;33m.\u001b[0m\u001b[0mgroupby\u001b[0m\u001b[1;33m(\u001b[0m\u001b[1;33m[\u001b[0m\u001b[1;34m'weekdays'\u001b[0m\u001b[1;33m]\u001b[0m\u001b[1;33m)\u001b[0m\u001b[1;33m.\u001b[0m\u001b[0mcount\u001b[0m\u001b[1;33m(\u001b[0m\u001b[1;33m)\u001b[0m\u001b[1;33m.\u001b[0m\u001b[0mreset_index\u001b[0m\u001b[1;33m(\u001b[0m\u001b[1;33m)\u001b[0m\u001b[1;33m[\u001b[0m\u001b[1;34m'click'\u001b[0m\u001b[1;33m]\u001b[0m\u001b[1;33m\u001b[0m\u001b[1;33m\u001b[0m\u001b[0m\n",
      "\u001b[1;32mC:\\ProgramData\\Anaconda3\\lib\\site-packages\\pandas\\core\\frame.py\u001b[0m in \u001b[0;36m__getitem__\u001b[1;34m(self, key)\u001b[0m\n\u001b[0;32m   3028\u001b[0m             \u001b[1;32mif\u001b[0m \u001b[0mis_iterator\u001b[0m\u001b[1;33m(\u001b[0m\u001b[0mkey\u001b[0m\u001b[1;33m)\u001b[0m\u001b[1;33m:\u001b[0m\u001b[1;33m\u001b[0m\u001b[1;33m\u001b[0m\u001b[0m\n\u001b[0;32m   3029\u001b[0m                 \u001b[0mkey\u001b[0m \u001b[1;33m=\u001b[0m \u001b[0mlist\u001b[0m\u001b[1;33m(\u001b[0m\u001b[0mkey\u001b[0m\u001b[1;33m)\u001b[0m\u001b[1;33m\u001b[0m\u001b[1;33m\u001b[0m\u001b[0m\n\u001b[1;32m-> 3030\u001b[1;33m             \u001b[0mindexer\u001b[0m \u001b[1;33m=\u001b[0m \u001b[0mself\u001b[0m\u001b[1;33m.\u001b[0m\u001b[0mloc\u001b[0m\u001b[1;33m.\u001b[0m\u001b[0m_get_listlike_indexer\u001b[0m\u001b[1;33m(\u001b[0m\u001b[0mkey\u001b[0m\u001b[1;33m,\u001b[0m \u001b[0maxis\u001b[0m\u001b[1;33m=\u001b[0m\u001b[1;36m1\u001b[0m\u001b[1;33m,\u001b[0m \u001b[0mraise_missing\u001b[0m\u001b[1;33m=\u001b[0m\u001b[1;32mTrue\u001b[0m\u001b[1;33m)\u001b[0m\u001b[1;33m[\u001b[0m\u001b[1;36m1\u001b[0m\u001b[1;33m]\u001b[0m\u001b[1;33m\u001b[0m\u001b[1;33m\u001b[0m\u001b[0m\n\u001b[0m\u001b[0;32m   3031\u001b[0m \u001b[1;33m\u001b[0m\u001b[0m\n\u001b[0;32m   3032\u001b[0m         \u001b[1;31m# take() does not accept boolean indexers\u001b[0m\u001b[1;33m\u001b[0m\u001b[1;33m\u001b[0m\u001b[1;33m\u001b[0m\u001b[0m\n",
      "\u001b[1;32mC:\\ProgramData\\Anaconda3\\lib\\site-packages\\pandas\\core\\indexing.py\u001b[0m in \u001b[0;36m_get_listlike_indexer\u001b[1;34m(self, key, axis, raise_missing)\u001b[0m\n\u001b[0;32m   1264\u001b[0m             \u001b[0mkeyarr\u001b[0m\u001b[1;33m,\u001b[0m \u001b[0mindexer\u001b[0m\u001b[1;33m,\u001b[0m \u001b[0mnew_indexer\u001b[0m \u001b[1;33m=\u001b[0m \u001b[0max\u001b[0m\u001b[1;33m.\u001b[0m\u001b[0m_reindex_non_unique\u001b[0m\u001b[1;33m(\u001b[0m\u001b[0mkeyarr\u001b[0m\u001b[1;33m)\u001b[0m\u001b[1;33m\u001b[0m\u001b[1;33m\u001b[0m\u001b[0m\n\u001b[0;32m   1265\u001b[0m \u001b[1;33m\u001b[0m\u001b[0m\n\u001b[1;32m-> 1266\u001b[1;33m         \u001b[0mself\u001b[0m\u001b[1;33m.\u001b[0m\u001b[0m_validate_read_indexer\u001b[0m\u001b[1;33m(\u001b[0m\u001b[0mkeyarr\u001b[0m\u001b[1;33m,\u001b[0m \u001b[0mindexer\u001b[0m\u001b[1;33m,\u001b[0m \u001b[0maxis\u001b[0m\u001b[1;33m,\u001b[0m \u001b[0mraise_missing\u001b[0m\u001b[1;33m=\u001b[0m\u001b[0mraise_missing\u001b[0m\u001b[1;33m)\u001b[0m\u001b[1;33m\u001b[0m\u001b[1;33m\u001b[0m\u001b[0m\n\u001b[0m\u001b[0;32m   1267\u001b[0m         \u001b[1;32mreturn\u001b[0m \u001b[0mkeyarr\u001b[0m\u001b[1;33m,\u001b[0m \u001b[0mindexer\u001b[0m\u001b[1;33m\u001b[0m\u001b[1;33m\u001b[0m\u001b[0m\n\u001b[0;32m   1268\u001b[0m \u001b[1;33m\u001b[0m\u001b[0m\n",
      "\u001b[1;32mC:\\ProgramData\\Anaconda3\\lib\\site-packages\\pandas\\core\\indexing.py\u001b[0m in \u001b[0;36m_validate_read_indexer\u001b[1;34m(self, key, indexer, axis, raise_missing)\u001b[0m\n\u001b[0;32m   1314\u001b[0m             \u001b[1;32mif\u001b[0m \u001b[0mraise_missing\u001b[0m\u001b[1;33m:\u001b[0m\u001b[1;33m\u001b[0m\u001b[1;33m\u001b[0m\u001b[0m\n\u001b[0;32m   1315\u001b[0m                 \u001b[0mnot_found\u001b[0m \u001b[1;33m=\u001b[0m \u001b[0mlist\u001b[0m\u001b[1;33m(\u001b[0m\u001b[0mset\u001b[0m\u001b[1;33m(\u001b[0m\u001b[0mkey\u001b[0m\u001b[1;33m)\u001b[0m \u001b[1;33m-\u001b[0m \u001b[0mset\u001b[0m\u001b[1;33m(\u001b[0m\u001b[0max\u001b[0m\u001b[1;33m)\u001b[0m\u001b[1;33m)\u001b[0m\u001b[1;33m\u001b[0m\u001b[1;33m\u001b[0m\u001b[0m\n\u001b[1;32m-> 1316\u001b[1;33m                 \u001b[1;32mraise\u001b[0m \u001b[0mKeyError\u001b[0m\u001b[1;33m(\u001b[0m\u001b[1;34mf\"{not_found} not in index\"\u001b[0m\u001b[1;33m)\u001b[0m\u001b[1;33m\u001b[0m\u001b[1;33m\u001b[0m\u001b[0m\n\u001b[0m\u001b[0;32m   1317\u001b[0m \u001b[1;33m\u001b[0m\u001b[0m\n\u001b[0;32m   1318\u001b[0m             \u001b[0mnot_found\u001b[0m \u001b[1;33m=\u001b[0m \u001b[0mkey\u001b[0m\u001b[1;33m[\u001b[0m\u001b[0mmissing_mask\u001b[0m\u001b[1;33m]\u001b[0m\u001b[1;33m\u001b[0m\u001b[1;33m\u001b[0m\u001b[0m\n",
      "\u001b[1;31mKeyError\u001b[0m: \"['weekdays'] not in index\""
     ]
    }
   ],
   "source": [
    "#Days of Week CTR\n",
    "df_click = df_train[df_train['click'] == 1]\n",
    "df_weekdays = df_train[['weekdays','click']].groupby(['weekdays']).count().reset_index()\n",
    "df_weekdays = df_weekdays.rename(columns={'click': 'impressions'})\n",
    "df_weekdays['clicks'] = df_click[['weekdays','click']].groupby(['weekdays']).count().reset_index()['click']\n",
    "df_weekdays['CTR'] = df_weekdays['clicks']/df_weekdays['impressions']*100\n",
    "plt.figure(figsize=(12,6))\n",
    "sns.barplot(y='CTR', x='weekdays', data=df_weekdays, order=['Monday', 'Tuesday', 'Wednesday', 'Thursday', 'Friday', 'Saturday', 'Sunday'])\n",
    "plt.title('Day of week CTR');"
   ]
  },
  {
   "cell_type": "code",
   "execution_count": 7,
   "id": "758ec153",
   "metadata": {},
   "outputs": [],
   "source": [
    "\n",
    "#Modeling\n",
    "#starting with Hash fucntion\n",
    "#has function :\n",
    "    # to convert object datatypes to hashmap so as to be more memory efficient while trianing the model.\n",
    "def convert_obj_to_int(self):\n",
    "    \n",
    "    object_list_columns = self.columns\n",
    "    object_list_dtypes = self.dtypes\n",
    "    new_col_suffix = '_int'\n",
    "    for index in range(0,len(object_list_columns)):\n",
    "        if object_list_dtypes[index] == object :\n",
    "            self[object_list_columns[index]+new_col_suffix] = self[object_list_columns[index]].map( lambda  x: hash(x))\n",
    "            self.drop([object_list_columns[index]],inplace=True,axis=1)\n",
    "    return self\n"
   ]
  },
  {
   "cell_type": "code",
   "execution_count": 8,
   "id": "df6e7a4e",
   "metadata": {},
   "outputs": [],
   "source": [
    "df_train = convert_obj_to_int(df_train)"
   ]
  },
  {
   "cell_type": "code",
   "execution_count": null,
   "id": "321ee0be",
   "metadata": {},
   "outputs": [],
   "source": []
  },
  {
   "cell_type": "code",
   "execution_count": 76,
   "id": "c8f7e1da",
   "metadata": {},
   "outputs": [
    {
     "data": {
      "text/html": [
       "<div>\n",
       "<style scoped>\n",
       "    .dataframe tbody tr th:only-of-type {\n",
       "        vertical-align: middle;\n",
       "    }\n",
       "\n",
       "    .dataframe tbody tr th {\n",
       "        vertical-align: top;\n",
       "    }\n",
       "\n",
       "    .dataframe thead th {\n",
       "        text-align: right;\n",
       "    }\n",
       "</style>\n",
       "<table border=\"1\" class=\"dataframe\">\n",
       "  <thead>\n",
       "    <tr style=\"text-align: right;\">\n",
       "      <th></th>\n",
       "      <th>id</th>\n",
       "      <th>click</th>\n",
       "      <th>hour</th>\n",
       "      <th>C1</th>\n",
       "      <th>banner_pos</th>\n",
       "      <th>device_type</th>\n",
       "      <th>device_conn_type</th>\n",
       "      <th>C14</th>\n",
       "      <th>C15</th>\n",
       "      <th>C16</th>\n",
       "      <th>...</th>\n",
       "      <th>site_domain_int</th>\n",
       "      <th>site_category_int</th>\n",
       "      <th>app_id_int</th>\n",
       "      <th>app_domain_int</th>\n",
       "      <th>app_category_int</th>\n",
       "      <th>device_id_int</th>\n",
       "      <th>device_ip_int</th>\n",
       "      <th>device_model_int</th>\n",
       "      <th>day_of_week_int</th>\n",
       "      <th>weekdays_int</th>\n",
       "    </tr>\n",
       "  </thead>\n",
       "  <tbody>\n",
       "    <tr>\n",
       "      <th>0</th>\n",
       "      <td>-1313665075</td>\n",
       "      <td>0</td>\n",
       "      <td>2014-10-24 06:00:00</td>\n",
       "      <td>1005</td>\n",
       "      <td>0</td>\n",
       "      <td>1</td>\n",
       "      <td>0</td>\n",
       "      <td>16615</td>\n",
       "      <td>320</td>\n",
       "      <td>50</td>\n",
       "      <td>...</td>\n",
       "      <td>-1846566870834945973</td>\n",
       "      <td>-7171411168465941533</td>\n",
       "      <td>-1761052694618411288</td>\n",
       "      <td>1992453671023808974</td>\n",
       "      <td>4985853820954588789</td>\n",
       "      <td>-8228322899026537562</td>\n",
       "      <td>-1769668582781720159</td>\n",
       "      <td>-6051951380338482924</td>\n",
       "      <td>549313531249</td>\n",
       "      <td>1618687049676899142</td>\n",
       "    </tr>\n",
       "    <tr>\n",
       "      <th>1</th>\n",
       "      <td>-560158682</td>\n",
       "      <td>0</td>\n",
       "      <td>2014-10-29 15:00:00</td>\n",
       "      <td>1005</td>\n",
       "      <td>1</td>\n",
       "      <td>1</td>\n",
       "      <td>0</td>\n",
       "      <td>17614</td>\n",
       "      <td>320</td>\n",
       "      <td>50</td>\n",
       "      <td>...</td>\n",
       "      <td>-5292969121698938167</td>\n",
       "      <td>-7171411168465941533</td>\n",
       "      <td>-1761052694618411288</td>\n",
       "      <td>1992453671023808974</td>\n",
       "      <td>4985853820954588789</td>\n",
       "      <td>-8228322899026537562</td>\n",
       "      <td>2580669050596071944</td>\n",
       "      <td>7632570102619300425</td>\n",
       "      <td>549313531235</td>\n",
       "      <td>-700096927929238214</td>\n",
       "    </tr>\n",
       "    <tr>\n",
       "      <th>2</th>\n",
       "      <td>1658722075</td>\n",
       "      <td>0</td>\n",
       "      <td>2014-10-22 05:00:00</td>\n",
       "      <td>1005</td>\n",
       "      <td>0</td>\n",
       "      <td>1</td>\n",
       "      <td>0</td>\n",
       "      <td>21790</td>\n",
       "      <td>320</td>\n",
       "      <td>50</td>\n",
       "      <td>...</td>\n",
       "      <td>-6969797154983783223</td>\n",
       "      <td>1573062616312574851</td>\n",
       "      <td>-1761052694618411288</td>\n",
       "      <td>1992453671023808974</td>\n",
       "      <td>4985853820954588789</td>\n",
       "      <td>-8228322899026537562</td>\n",
       "      <td>7423020033512299073</td>\n",
       "      <td>8296728781408814264</td>\n",
       "      <td>549313531256</td>\n",
       "      <td>-700096927929238214</td>\n",
       "    </tr>\n",
       "    <tr>\n",
       "      <th>3</th>\n",
       "      <td>1323747585</td>\n",
       "      <td>1</td>\n",
       "      <td>2014-10-21 14:00:00</td>\n",
       "      <td>1002</td>\n",
       "      <td>0</td>\n",
       "      <td>0</td>\n",
       "      <td>0</td>\n",
       "      <td>21747</td>\n",
       "      <td>320</td>\n",
       "      <td>50</td>\n",
       "      <td>...</td>\n",
       "      <td>7226932565097214973</td>\n",
       "      <td>9177014827598631630</td>\n",
       "      <td>3513072176476490919</td>\n",
       "      <td>1992453671023808974</td>\n",
       "      <td>4985853820954588789</td>\n",
       "      <td>-219430645550596900</td>\n",
       "      <td>-5013930131687112336</td>\n",
       "      <td>-5340789089546523714</td>\n",
       "      <td>549313531242</td>\n",
       "      <td>-6367952604714799641</td>\n",
       "    </tr>\n",
       "    <tr>\n",
       "      <th>4</th>\n",
       "      <td>1821290237</td>\n",
       "      <td>0</td>\n",
       "      <td>2014-10-30 09:00:00</td>\n",
       "      <td>1005</td>\n",
       "      <td>0</td>\n",
       "      <td>1</td>\n",
       "      <td>2</td>\n",
       "      <td>23950</td>\n",
       "      <td>320</td>\n",
       "      <td>50</td>\n",
       "      <td>...</td>\n",
       "      <td>7226932565097214973</td>\n",
       "      <td>9177014827598631630</td>\n",
       "      <td>-8943426853568408501</td>\n",
       "      <td>2467735495339447790</td>\n",
       "      <td>-1383012668541581838</td>\n",
       "      <td>-8228322899026537562</td>\n",
       "      <td>-6936789439841563675</td>\n",
       "      <td>43708633813855954</td>\n",
       "      <td>549313531245</td>\n",
       "      <td>-7950402362258764057</td>\n",
       "    </tr>\n",
       "    <tr>\n",
       "      <th>5</th>\n",
       "      <td>-1542887571</td>\n",
       "      <td>0</td>\n",
       "      <td>2014-10-27 17:00:00</td>\n",
       "      <td>1005</td>\n",
       "      <td>1</td>\n",
       "      <td>1</td>\n",
       "      <td>0</td>\n",
       "      <td>17264</td>\n",
       "      <td>320</td>\n",
       "      <td>50</td>\n",
       "      <td>...</td>\n",
       "      <td>1229813582785391651</td>\n",
       "      <td>-7171411168465941533</td>\n",
       "      <td>-1761052694618411288</td>\n",
       "      <td>1992453671023808974</td>\n",
       "      <td>4985853820954588789</td>\n",
       "      <td>-8228322899026537562</td>\n",
       "      <td>-8389968683079888919</td>\n",
       "      <td>8158193593162475564</td>\n",
       "      <td>549313531220</td>\n",
       "      <td>4327782945793891879</td>\n",
       "    </tr>\n",
       "    <tr>\n",
       "      <th>6</th>\n",
       "      <td>219664221</td>\n",
       "      <td>1</td>\n",
       "      <td>2014-10-30 01:00:00</td>\n",
       "      <td>1005</td>\n",
       "      <td>0</td>\n",
       "      <td>1</td>\n",
       "      <td>2</td>\n",
       "      <td>23725</td>\n",
       "      <td>320</td>\n",
       "      <td>50</td>\n",
       "      <td>...</td>\n",
       "      <td>7226932565097214973</td>\n",
       "      <td>9177014827598631630</td>\n",
       "      <td>7275845245930145752</td>\n",
       "      <td>-5283637084659107736</td>\n",
       "      <td>5718928888038328361</td>\n",
       "      <td>-8228322899026537562</td>\n",
       "      <td>-4726873320917188280</td>\n",
       "      <td>7860646073634452325</td>\n",
       "      <td>549313531231</td>\n",
       "      <td>-7950402362258764057</td>\n",
       "    </tr>\n",
       "    <tr>\n",
       "      <th>7</th>\n",
       "      <td>1755635400</td>\n",
       "      <td>0</td>\n",
       "      <td>2014-10-29 01:00:00</td>\n",
       "      <td>1005</td>\n",
       "      <td>0</td>\n",
       "      <td>1</td>\n",
       "      <td>0</td>\n",
       "      <td>22257</td>\n",
       "      <td>320</td>\n",
       "      <td>50</td>\n",
       "      <td>...</td>\n",
       "      <td>-36405891957323948</td>\n",
       "      <td>1573062616312574851</td>\n",
       "      <td>-1761052694618411288</td>\n",
       "      <td>1992453671023808974</td>\n",
       "      <td>4985853820954588789</td>\n",
       "      <td>-8228322899026537562</td>\n",
       "      <td>-8940501009141866986</td>\n",
       "      <td>-1938478484354976105</td>\n",
       "      <td>549313531206</td>\n",
       "      <td>-700096927929238214</td>\n",
       "    </tr>\n",
       "    <tr>\n",
       "      <th>8</th>\n",
       "      <td>-1469717094</td>\n",
       "      <td>0</td>\n",
       "      <td>2014-10-28 11:00:00</td>\n",
       "      <td>1005</td>\n",
       "      <td>0</td>\n",
       "      <td>1</td>\n",
       "      <td>2</td>\n",
       "      <td>23143</td>\n",
       "      <td>320</td>\n",
       "      <td>50</td>\n",
       "      <td>...</td>\n",
       "      <td>7226932565097214973</td>\n",
       "      <td>9177014827598631630</td>\n",
       "      <td>2946384138675287926</td>\n",
       "      <td>-5283637084659107736</td>\n",
       "      <td>-2251539626626012637</td>\n",
       "      <td>-8228322899026537562</td>\n",
       "      <td>6492244815107988104</td>\n",
       "      <td>-7853987878438287762</td>\n",
       "      <td>549313531209</td>\n",
       "      <td>-6367952604714799641</td>\n",
       "    </tr>\n",
       "    <tr>\n",
       "      <th>9</th>\n",
       "      <td>-1524586333</td>\n",
       "      <td>0</td>\n",
       "      <td>2014-10-28 16:00:00</td>\n",
       "      <td>1005</td>\n",
       "      <td>0</td>\n",
       "      <td>1</td>\n",
       "      <td>0</td>\n",
       "      <td>23405</td>\n",
       "      <td>320</td>\n",
       "      <td>50</td>\n",
       "      <td>...</td>\n",
       "      <td>-5292969121698938167</td>\n",
       "      <td>-7171411168465941533</td>\n",
       "      <td>-1761052694618411288</td>\n",
       "      <td>1992453671023808974</td>\n",
       "      <td>4985853820954588789</td>\n",
       "      <td>-8228322899026537562</td>\n",
       "      <td>8730371397994394156</td>\n",
       "      <td>5040604352118264981</td>\n",
       "      <td>549313531312</td>\n",
       "      <td>-6367952604714799641</td>\n",
       "    </tr>\n",
       "  </tbody>\n",
       "</table>\n",
       "<p>10 rows × 26 columns</p>\n",
       "</div>"
      ],
      "text/plain": [
       "           id  click                hour    C1  banner_pos  device_type  \\\n",
       "0 -1313665075      0 2014-10-24 06:00:00  1005           0            1   \n",
       "1  -560158682      0 2014-10-29 15:00:00  1005           1            1   \n",
       "2  1658722075      0 2014-10-22 05:00:00  1005           0            1   \n",
       "3  1323747585      1 2014-10-21 14:00:00  1002           0            0   \n",
       "4  1821290237      0 2014-10-30 09:00:00  1005           0            1   \n",
       "5 -1542887571      0 2014-10-27 17:00:00  1005           1            1   \n",
       "6   219664221      1 2014-10-30 01:00:00  1005           0            1   \n",
       "7  1755635400      0 2014-10-29 01:00:00  1005           0            1   \n",
       "8 -1469717094      0 2014-10-28 11:00:00  1005           0            1   \n",
       "9 -1524586333      0 2014-10-28 16:00:00  1005           0            1   \n",
       "\n",
       "   device_conn_type    C14  C15  C16  ...      site_domain_int  \\\n",
       "0                 0  16615  320   50  ... -1846566870834945973   \n",
       "1                 0  17614  320   50  ... -5292969121698938167   \n",
       "2                 0  21790  320   50  ... -6969797154983783223   \n",
       "3                 0  21747  320   50  ...  7226932565097214973   \n",
       "4                 2  23950  320   50  ...  7226932565097214973   \n",
       "5                 0  17264  320   50  ...  1229813582785391651   \n",
       "6                 2  23725  320   50  ...  7226932565097214973   \n",
       "7                 0  22257  320   50  ...   -36405891957323948   \n",
       "8                 2  23143  320   50  ...  7226932565097214973   \n",
       "9                 0  23405  320   50  ... -5292969121698938167   \n",
       "\n",
       "     site_category_int           app_id_int       app_domain_int  \\\n",
       "0 -7171411168465941533 -1761052694618411288  1992453671023808974   \n",
       "1 -7171411168465941533 -1761052694618411288  1992453671023808974   \n",
       "2  1573062616312574851 -1761052694618411288  1992453671023808974   \n",
       "3  9177014827598631630  3513072176476490919  1992453671023808974   \n",
       "4  9177014827598631630 -8943426853568408501  2467735495339447790   \n",
       "5 -7171411168465941533 -1761052694618411288  1992453671023808974   \n",
       "6  9177014827598631630  7275845245930145752 -5283637084659107736   \n",
       "7  1573062616312574851 -1761052694618411288  1992453671023808974   \n",
       "8  9177014827598631630  2946384138675287926 -5283637084659107736   \n",
       "9 -7171411168465941533 -1761052694618411288  1992453671023808974   \n",
       "\n",
       "      app_category_int        device_id_int        device_ip_int  \\\n",
       "0  4985853820954588789 -8228322899026537562 -1769668582781720159   \n",
       "1  4985853820954588789 -8228322899026537562  2580669050596071944   \n",
       "2  4985853820954588789 -8228322899026537562  7423020033512299073   \n",
       "3  4985853820954588789  -219430645550596900 -5013930131687112336   \n",
       "4 -1383012668541581838 -8228322899026537562 -6936789439841563675   \n",
       "5  4985853820954588789 -8228322899026537562 -8389968683079888919   \n",
       "6  5718928888038328361 -8228322899026537562 -4726873320917188280   \n",
       "7  4985853820954588789 -8228322899026537562 -8940501009141866986   \n",
       "8 -2251539626626012637 -8228322899026537562  6492244815107988104   \n",
       "9  4985853820954588789 -8228322899026537562  8730371397994394156   \n",
       "\n",
       "      device_model_int  day_of_week_int         weekdays_int  \n",
       "0 -6051951380338482924     549313531249  1618687049676899142  \n",
       "1  7632570102619300425     549313531235  -700096927929238214  \n",
       "2  8296728781408814264     549313531256  -700096927929238214  \n",
       "3 -5340789089546523714     549313531242 -6367952604714799641  \n",
       "4    43708633813855954     549313531245 -7950402362258764057  \n",
       "5  8158193593162475564     549313531220  4327782945793891879  \n",
       "6  7860646073634452325     549313531231 -7950402362258764057  \n",
       "7 -1938478484354976105     549313531206  -700096927929238214  \n",
       "8 -7853987878438287762     549313531209 -6367952604714799641  \n",
       "9  5040604352118264981     549313531312 -6367952604714799641  \n",
       "\n",
       "[10 rows x 26 columns]"
      ]
     },
     "execution_count": 76,
     "metadata": {},
     "output_type": "execute_result"
    }
   ],
   "source": [
    "df_train.head(10)"
   ]
  },
  {
   "cell_type": "code",
   "execution_count": 49,
   "id": "0d3de684",
   "metadata": {},
   "outputs": [
    {
     "name": "stderr",
     "output_type": "stream",
     "text": [
      "<ipython-input-49-9e7a87d1f265>:1: FutureWarning: Treating datetime data as categorical rather than numeric in `.describe` is deprecated and will be removed in a future version of pandas. Specify `datetime_is_numeric=True` to silence this warning and adopt the future behavior now.\n",
      "  df_train['hour'].describe()\n"
     ]
    },
    {
     "data": {
      "text/plain": [
       "count                 2000000\n",
       "unique                    240\n",
       "top       2014-10-22 09:00:00\n",
       "freq                    22201\n",
       "first     2014-10-21 00:00:00\n",
       "last      2014-10-30 23:00:00\n",
       "Name: hour, dtype: object"
      ]
     },
     "execution_count": 49,
     "metadata": {},
     "output_type": "execute_result"
    }
   ],
   "source": [
    "df_train['hour'].describe()"
   ]
  },
  {
   "cell_type": "code",
   "execution_count": 40,
   "id": "9c6b8e2f",
   "metadata": {},
   "outputs": [],
   "source": [
    "import numpy as np\n",
    "df_train['hour'] = pd.to_numeric(df[\"hour\"])"
   ]
  },
  {
   "cell_type": "code",
   "execution_count": 17,
   "id": "ce54dc43",
   "metadata": {},
   "outputs": [
    {
     "data": {
      "text/html": [
       "<div>\n",
       "<style scoped>\n",
       "    .dataframe tbody tr th:only-of-type {\n",
       "        vertical-align: middle;\n",
       "    }\n",
       "\n",
       "    .dataframe tbody tr th {\n",
       "        vertical-align: top;\n",
       "    }\n",
       "\n",
       "    .dataframe thead th {\n",
       "        text-align: right;\n",
       "    }\n",
       "</style>\n",
       "<table border=\"1\" class=\"dataframe\">\n",
       "  <thead>\n",
       "    <tr style=\"text-align: right;\">\n",
       "      <th></th>\n",
       "      <th>id</th>\n",
       "      <th>click</th>\n",
       "      <th>hour</th>\n",
       "      <th>C1</th>\n",
       "      <th>banner_pos</th>\n",
       "      <th>site_id</th>\n",
       "      <th>site_domain</th>\n",
       "      <th>site_category</th>\n",
       "      <th>app_id</th>\n",
       "      <th>app_domain</th>\n",
       "      <th>...</th>\n",
       "      <th>device_type</th>\n",
       "      <th>device_conn_type</th>\n",
       "      <th>C14</th>\n",
       "      <th>C15</th>\n",
       "      <th>C16</th>\n",
       "      <th>C17</th>\n",
       "      <th>C18</th>\n",
       "      <th>C19</th>\n",
       "      <th>C20</th>\n",
       "      <th>C21</th>\n",
       "    </tr>\n",
       "  </thead>\n",
       "  <tbody>\n",
       "    <tr>\n",
       "      <th>0</th>\n",
       "      <td>6653227553659228109</td>\n",
       "      <td>0</td>\n",
       "      <td>14102406</td>\n",
       "      <td>1005</td>\n",
       "      <td>0</td>\n",
       "      <td>6256f5b4</td>\n",
       "      <td>28f93029</td>\n",
       "      <td>f028772b</td>\n",
       "      <td>ecad2386</td>\n",
       "      <td>7801e8d9</td>\n",
       "      <td>...</td>\n",
       "      <td>1</td>\n",
       "      <td>0</td>\n",
       "      <td>16615</td>\n",
       "      <td>320</td>\n",
       "      <td>50</td>\n",
       "      <td>1863</td>\n",
       "      <td>3</td>\n",
       "      <td>39</td>\n",
       "      <td>-1</td>\n",
       "      <td>23</td>\n",
       "    </tr>\n",
       "    <tr>\n",
       "      <th>1</th>\n",
       "      <td>14237893487069276198</td>\n",
       "      <td>0</td>\n",
       "      <td>14102915</td>\n",
       "      <td>1005</td>\n",
       "      <td>1</td>\n",
       "      <td>d9750ee7</td>\n",
       "      <td>98572c79</td>\n",
       "      <td>f028772b</td>\n",
       "      <td>ecad2386</td>\n",
       "      <td>7801e8d9</td>\n",
       "      <td>...</td>\n",
       "      <td>1</td>\n",
       "      <td>0</td>\n",
       "      <td>17614</td>\n",
       "      <td>320</td>\n",
       "      <td>50</td>\n",
       "      <td>1993</td>\n",
       "      <td>2</td>\n",
       "      <td>1063</td>\n",
       "      <td>100084</td>\n",
       "      <td>33</td>\n",
       "    </tr>\n",
       "    <tr>\n",
       "      <th>2</th>\n",
       "      <td>1256834335867016987</td>\n",
       "      <td>0</td>\n",
       "      <td>14102205</td>\n",
       "      <td>1005</td>\n",
       "      <td>0</td>\n",
       "      <td>bb4524e7</td>\n",
       "      <td>d733bbc3</td>\n",
       "      <td>28905ebd</td>\n",
       "      <td>ecad2386</td>\n",
       "      <td>7801e8d9</td>\n",
       "      <td>...</td>\n",
       "      <td>1</td>\n",
       "      <td>0</td>\n",
       "      <td>21790</td>\n",
       "      <td>320</td>\n",
       "      <td>50</td>\n",
       "      <td>2513</td>\n",
       "      <td>3</td>\n",
       "      <td>35</td>\n",
       "      <td>100188</td>\n",
       "      <td>68</td>\n",
       "    </tr>\n",
       "    <tr>\n",
       "      <th>3</th>\n",
       "      <td>4768871205625579777</td>\n",
       "      <td>1</td>\n",
       "      <td>14102114</td>\n",
       "      <td>1002</td>\n",
       "      <td>0</td>\n",
       "      <td>85f751fd</td>\n",
       "      <td>c4e18dd6</td>\n",
       "      <td>50e219e0</td>\n",
       "      <td>255a58c8</td>\n",
       "      <td>7801e8d9</td>\n",
       "      <td>...</td>\n",
       "      <td>0</td>\n",
       "      <td>0</td>\n",
       "      <td>21747</td>\n",
       "      <td>320</td>\n",
       "      <td>50</td>\n",
       "      <td>2504</td>\n",
       "      <td>3</td>\n",
       "      <td>41</td>\n",
       "      <td>100160</td>\n",
       "      <td>111</td>\n",
       "    </tr>\n",
       "    <tr>\n",
       "      <th>4</th>\n",
       "      <td>2813443321480785661</td>\n",
       "      <td>0</td>\n",
       "      <td>14103009</td>\n",
       "      <td>1005</td>\n",
       "      <td>0</td>\n",
       "      <td>85f751fd</td>\n",
       "      <td>c4e18dd6</td>\n",
       "      <td>50e219e0</td>\n",
       "      <td>a5184c22</td>\n",
       "      <td>b8d325c3</td>\n",
       "      <td>...</td>\n",
       "      <td>1</td>\n",
       "      <td>2</td>\n",
       "      <td>23950</td>\n",
       "      <td>320</td>\n",
       "      <td>50</td>\n",
       "      <td>2745</td>\n",
       "      <td>2</td>\n",
       "      <td>163</td>\n",
       "      <td>100176</td>\n",
       "      <td>255</td>\n",
       "    </tr>\n",
       "  </tbody>\n",
       "</table>\n",
       "<p>5 rows × 24 columns</p>\n",
       "</div>"
      ],
      "text/plain": [
       "                     id  click      hour    C1  banner_pos   site_id  \\\n",
       "0   6653227553659228109      0  14102406  1005           0  6256f5b4   \n",
       "1  14237893487069276198      0  14102915  1005           1  d9750ee7   \n",
       "2   1256834335867016987      0  14102205  1005           0  bb4524e7   \n",
       "3   4768871205625579777      1  14102114  1002           0  85f751fd   \n",
       "4   2813443321480785661      0  14103009  1005           0  85f751fd   \n",
       "\n",
       "  site_domain site_category    app_id app_domain  ... device_type  \\\n",
       "0    28f93029      f028772b  ecad2386   7801e8d9  ...           1   \n",
       "1    98572c79      f028772b  ecad2386   7801e8d9  ...           1   \n",
       "2    d733bbc3      28905ebd  ecad2386   7801e8d9  ...           1   \n",
       "3    c4e18dd6      50e219e0  255a58c8   7801e8d9  ...           0   \n",
       "4    c4e18dd6      50e219e0  a5184c22   b8d325c3  ...           1   \n",
       "\n",
       "  device_conn_type    C14  C15  C16   C17  C18   C19     C20  C21  \n",
       "0                0  16615  320   50  1863    3    39      -1   23  \n",
       "1                0  17614  320   50  1993    2  1063  100084   33  \n",
       "2                0  21790  320   50  2513    3    35  100188   68  \n",
       "3                0  21747  320   50  2504    3    41  100160  111  \n",
       "4                2  23950  320   50  2745    2   163  100176  255  \n",
       "\n",
       "[5 rows x 24 columns]"
      ]
     },
     "execution_count": 17,
     "metadata": {},
     "output_type": "execute_result"
    }
   ],
   "source": [
    "df.head()"
   ]
  },
  {
   "cell_type": "code",
   "execution_count": 9,
   "id": "7eacd86d",
   "metadata": {},
   "outputs": [],
   "source": [
    "df_train.drop('hour', axis=1, inplace=True)\n",
    "df_train.drop('id', axis=1, inplace=True)"
   ]
  },
  {
   "cell_type": "code",
   "execution_count": 10,
   "id": "8a59a814",
   "metadata": {},
   "outputs": [],
   "source": [
    "import lightgbm as lgb\n",
    "\n",
    "X_train = df_train.loc[:, df_train.columns != 'click']\n",
    "y_target = df_train.click.values\n"
   ]
  },
  {
   "cell_type": "code",
   "execution_count": 11,
   "id": "27ea0b53",
   "metadata": {},
   "outputs": [],
   "source": [
    "#create lightgbm dataset\n",
    "msk = np.random.rand(len(X_train)) < 0.8\n",
    "lgb_train = lgb.Dataset(X_train[msk], y_target[msk])\n",
    "lgb_eval = lgb.Dataset(X_train[~msk], y_target[~msk], reference=lgb_train)\n",
    "\n",
    "# specify your configurations as a dict\n",
    "params = {\n",
    "    'task': 'train',\n",
    "    'boosting_type': 'gbdt',\n",
    "    'objective': 'binary',\n",
    "    'metric': { 'binary_logloss'},\n",
    "    'num_leaves': 31, # defauly leaves(31) amount for each tree\n",
    "    'learning_rate': 0.08,\n",
    "    'feature_fraction': 0.7, # will select 70% features before training each tree\n",
    "    'bagging_fraction': 0.3, #feature_fraction, but this will random select part of data\n",
    "    'bagging_freq': 5, #  perform bagging at every 5 iteration\n",
    "    'verbose': 0\n",
    "}\n",
    "\n"
   ]
  },
  {
   "cell_type": "code",
   "execution_count": 12,
   "id": "e019570d",
   "metadata": {},
   "outputs": [
    {
     "data": {
      "text/plain": [
       "click                int32\n",
       "C1                   int32\n",
       "banner_pos           int32\n",
       "device_type          int32\n",
       "device_conn_type     int32\n",
       "C14                  int32\n",
       "C15                  int32\n",
       "C16                  int32\n",
       "C17                  int32\n",
       "C18                  int32\n",
       "C19                  int32\n",
       "C20                  int32\n",
       "C21                  int32\n",
       "site_id_int          int64\n",
       "site_domain_int      int64\n",
       "site_category_int    int64\n",
       "app_id_int           int64\n",
       "app_domain_int       int64\n",
       "app_category_int     int64\n",
       "device_id_int        int64\n",
       "device_ip_int        int64\n",
       "device_model_int     int64\n",
       "dtype: object"
      ]
     },
     "execution_count": 12,
     "metadata": {},
     "output_type": "execute_result"
    }
   ],
   "source": [
    "X_train.dtypes\n",
    "df_train.dtypes"
   ]
  },
  {
   "cell_type": "code",
   "execution_count": 40,
   "id": "34a3b1ff",
   "metadata": {},
   "outputs": [
    {
     "name": "stderr",
     "output_type": "stream",
     "text": [
      "C:\\ProgramData\\Anaconda3\\lib\\site-packages\\pandas\\core\\frame.py:4308: SettingWithCopyWarning: \n",
      "A value is trying to be set on a copy of a slice from a DataFrame\n",
      "\n",
      "See the caveats in the documentation: https://pandas.pydata.org/pandas-docs/stable/user_guide/indexing.html#returning-a-view-versus-a-copy\n",
      "  return super().drop(\n"
     ]
    },
    {
     "data": {
      "text/html": [
       "<div>\n",
       "<style scoped>\n",
       "    .dataframe tbody tr th:only-of-type {\n",
       "        vertical-align: middle;\n",
       "    }\n",
       "\n",
       "    .dataframe tbody tr th {\n",
       "        vertical-align: top;\n",
       "    }\n",
       "\n",
       "    .dataframe thead th {\n",
       "        text-align: right;\n",
       "    }\n",
       "</style>\n",
       "<table border=\"1\" class=\"dataframe\">\n",
       "  <thead>\n",
       "    <tr style=\"text-align: right;\">\n",
       "      <th></th>\n",
       "      <th>C1</th>\n",
       "      <th>banner_pos</th>\n",
       "      <th>device_type</th>\n",
       "      <th>device_conn_type</th>\n",
       "      <th>C14</th>\n",
       "      <th>C15</th>\n",
       "      <th>C16</th>\n",
       "      <th>C17</th>\n",
       "      <th>C18</th>\n",
       "      <th>C19</th>\n",
       "      <th>...</th>\n",
       "      <th>C21</th>\n",
       "      <th>site_id_int</th>\n",
       "      <th>site_domain_int</th>\n",
       "      <th>site_category_int</th>\n",
       "      <th>app_id_int</th>\n",
       "      <th>app_domain_int</th>\n",
       "      <th>app_category_int</th>\n",
       "      <th>device_id_int</th>\n",
       "      <th>device_ip_int</th>\n",
       "      <th>device_model_int</th>\n",
       "    </tr>\n",
       "  </thead>\n",
       "  <tbody>\n",
       "    <tr>\n",
       "      <th>3</th>\n",
       "      <td>1002</td>\n",
       "      <td>0</td>\n",
       "      <td>0</td>\n",
       "      <td>0</td>\n",
       "      <td>21747</td>\n",
       "      <td>320</td>\n",
       "      <td>50</td>\n",
       "      <td>2504</td>\n",
       "      <td>3</td>\n",
       "      <td>41</td>\n",
       "      <td>...</td>\n",
       "      <td>111</td>\n",
       "      <td>5382465720375029149</td>\n",
       "      <td>-7124086855069148253</td>\n",
       "      <td>-4531693914867314231</td>\n",
       "      <td>7267031688210103517</td>\n",
       "      <td>-1703819627405932192</td>\n",
       "      <td>3478987067676105274</td>\n",
       "      <td>600626617347366173</td>\n",
       "      <td>2644784947286605210</td>\n",
       "      <td>4369212660600373076</td>\n",
       "    </tr>\n",
       "  </tbody>\n",
       "</table>\n",
       "<p>1 rows × 21 columns</p>\n",
       "</div>"
      ],
      "text/plain": [
       "     C1  banner_pos  device_type  device_conn_type    C14  C15  C16   C17  \\\n",
       "3  1002           0            0                 0  21747  320   50  2504   \n",
       "\n",
       "   C18  C19  ...  C21          site_id_int      site_domain_int  \\\n",
       "3    3   41  ...  111  5382465720375029149 -7124086855069148253   \n",
       "\n",
       "     site_category_int           app_id_int       app_domain_int  \\\n",
       "3 -4531693914867314231  7267031688210103517 -1703819627405932192   \n",
       "\n",
       "      app_category_int       device_id_int        device_ip_int  \\\n",
       "3  3478987067676105274  600626617347366173  2644784947286605210   \n",
       "\n",
       "      device_model_int  \n",
       "3  4369212660600373076  \n",
       "\n",
       "[1 rows x 21 columns]"
      ]
     },
     "execution_count": 40,
     "metadata": {},
     "output_type": "execute_result"
    }
   ],
   "source": [
    "newdf=df_train[df_train.index == 3]\n",
    "newdf.drop('click',axis=1 , inplace = True)\n",
    "newdf"
   ]
  },
  {
   "cell_type": "code",
   "execution_count": 45,
   "id": "8aa8cf7e",
   "metadata": {},
   "outputs": [
    {
     "data": {
      "text/html": [
       "<div>\n",
       "<style scoped>\n",
       "    .dataframe tbody tr th:only-of-type {\n",
       "        vertical-align: middle;\n",
       "    }\n",
       "\n",
       "    .dataframe tbody tr th {\n",
       "        vertical-align: top;\n",
       "    }\n",
       "\n",
       "    .dataframe thead th {\n",
       "        text-align: right;\n",
       "    }\n",
       "</style>\n",
       "<table border=\"1\" class=\"dataframe\">\n",
       "  <thead>\n",
       "    <tr style=\"text-align: right;\">\n",
       "      <th></th>\n",
       "      <th>click</th>\n",
       "      <th>C1</th>\n",
       "      <th>banner_pos</th>\n",
       "      <th>device_type</th>\n",
       "      <th>device_conn_type</th>\n",
       "      <th>C14</th>\n",
       "      <th>C15</th>\n",
       "      <th>C16</th>\n",
       "      <th>C17</th>\n",
       "      <th>C18</th>\n",
       "      <th>...</th>\n",
       "      <th>C21</th>\n",
       "      <th>site_id_int</th>\n",
       "      <th>site_domain_int</th>\n",
       "      <th>site_category_int</th>\n",
       "      <th>app_id_int</th>\n",
       "      <th>app_domain_int</th>\n",
       "      <th>app_category_int</th>\n",
       "      <th>device_id_int</th>\n",
       "      <th>device_ip_int</th>\n",
       "      <th>device_model_int</th>\n",
       "    </tr>\n",
       "  </thead>\n",
       "  <tbody>\n",
       "    <tr>\n",
       "      <th>6</th>\n",
       "      <td>1</td>\n",
       "      <td>1005</td>\n",
       "      <td>0</td>\n",
       "      <td>1</td>\n",
       "      <td>2</td>\n",
       "      <td>23725</td>\n",
       "      <td>320</td>\n",
       "      <td>50</td>\n",
       "      <td>2716</td>\n",
       "      <td>3</td>\n",
       "      <td>...</td>\n",
       "      <td>23</td>\n",
       "      <td>5382465720375029149</td>\n",
       "      <td>-7124086855069148253</td>\n",
       "      <td>-4531693914867314231</td>\n",
       "      <td>-1369454789944713339</td>\n",
       "      <td>-8044838031954116508</td>\n",
       "      <td>946036399323025517</td>\n",
       "      <td>315977324050320022</td>\n",
       "      <td>149312395849906379</td>\n",
       "      <td>4018095787914120738</td>\n",
       "    </tr>\n",
       "  </tbody>\n",
       "</table>\n",
       "<p>1 rows × 22 columns</p>\n",
       "</div>"
      ],
      "text/plain": [
       "   click    C1  banner_pos  device_type  device_conn_type    C14  C15  C16  \\\n",
       "6      1  1005           0            1                 2  23725  320   50   \n",
       "\n",
       "    C17  C18  ...  C21          site_id_int      site_domain_int  \\\n",
       "6  2716    3  ...   23  5382465720375029149 -7124086855069148253   \n",
       "\n",
       "     site_category_int           app_id_int       app_domain_int  \\\n",
       "6 -4531693914867314231 -1369454789944713339 -8044838031954116508   \n",
       "\n",
       "     app_category_int       device_id_int       device_ip_int  \\\n",
       "6  946036399323025517  315977324050320022  149312395849906379   \n",
       "\n",
       "      device_model_int  \n",
       "6  4018095787914120738  \n",
       "\n",
       "[1 rows x 22 columns]"
      ]
     },
     "execution_count": 45,
     "metadata": {},
     "output_type": "execute_result"
    }
   ],
   "source": [
    "newdf=df_train[df_train.index == 6]\n",
    "newdf\n"
   ]
  },
  {
   "cell_type": "code",
   "execution_count": 59,
   "id": "07a0f438",
   "metadata": {},
   "outputs": [
    {
     "data": {
      "text/plain": [
       "click                                  1\n",
       "C1                                  1005\n",
       "banner_pos                             0\n",
       "device_type                            1\n",
       "device_conn_type                       2\n",
       "C14                                23725\n",
       "C15                                  320\n",
       "C16                                   50\n",
       "C17                                 2716\n",
       "C18                                    3\n",
       "C19                                   47\n",
       "C20                                   -1\n",
       "C21                                   23\n",
       "site_id_int          5382465720375029149\n",
       "site_domain_int     -7124086855069148253\n",
       "site_category_int   -4531693914867314231\n",
       "app_id_int          -1369454789944713339\n",
       "app_domain_int      -8044838031954116508\n",
       "app_category_int      946036399323025517\n",
       "device_id_int         315977324050320022\n",
       "device_ip_int         149312395849906379\n",
       "device_model_int     4018095787914120738\n",
       "Name: 6, dtype: int64"
      ]
     },
     "execution_count": 59,
     "metadata": {},
     "output_type": "execute_result"
    }
   ],
   "source": [
    "df_train.iloc[6]"
   ]
  },
  {
   "cell_type": "code",
   "execution_count": 46,
   "id": "91647292",
   "metadata": {},
   "outputs": [
    {
     "name": "stderr",
     "output_type": "stream",
     "text": [
      "C:\\ProgramData\\Anaconda3\\lib\\site-packages\\pandas\\core\\frame.py:4308: SettingWithCopyWarning: \n",
      "A value is trying to be set on a copy of a slice from a DataFrame\n",
      "\n",
      "See the caveats in the documentation: https://pandas.pydata.org/pandas-docs/stable/user_guide/indexing.html#returning-a-view-versus-a-copy\n",
      "  return super().drop(\n"
     ]
    },
    {
     "data": {
      "text/html": [
       "<div>\n",
       "<style scoped>\n",
       "    .dataframe tbody tr th:only-of-type {\n",
       "        vertical-align: middle;\n",
       "    }\n",
       "\n",
       "    .dataframe tbody tr th {\n",
       "        vertical-align: top;\n",
       "    }\n",
       "\n",
       "    .dataframe thead th {\n",
       "        text-align: right;\n",
       "    }\n",
       "</style>\n",
       "<table border=\"1\" class=\"dataframe\">\n",
       "  <thead>\n",
       "    <tr style=\"text-align: right;\">\n",
       "      <th></th>\n",
       "      <th>C1</th>\n",
       "      <th>banner_pos</th>\n",
       "      <th>device_type</th>\n",
       "      <th>device_conn_type</th>\n",
       "      <th>C14</th>\n",
       "      <th>C15</th>\n",
       "      <th>C16</th>\n",
       "      <th>C17</th>\n",
       "      <th>C18</th>\n",
       "      <th>C19</th>\n",
       "      <th>...</th>\n",
       "      <th>C21</th>\n",
       "      <th>site_id_int</th>\n",
       "      <th>site_domain_int</th>\n",
       "      <th>site_category_int</th>\n",
       "      <th>app_id_int</th>\n",
       "      <th>app_domain_int</th>\n",
       "      <th>app_category_int</th>\n",
       "      <th>device_id_int</th>\n",
       "      <th>device_ip_int</th>\n",
       "      <th>device_model_int</th>\n",
       "    </tr>\n",
       "  </thead>\n",
       "  <tbody>\n",
       "    <tr>\n",
       "      <th>6</th>\n",
       "      <td>1005</td>\n",
       "      <td>0</td>\n",
       "      <td>1</td>\n",
       "      <td>2</td>\n",
       "      <td>23725</td>\n",
       "      <td>320</td>\n",
       "      <td>50</td>\n",
       "      <td>2716</td>\n",
       "      <td>3</td>\n",
       "      <td>47</td>\n",
       "      <td>...</td>\n",
       "      <td>23</td>\n",
       "      <td>5382465720375029149</td>\n",
       "      <td>-7124086855069148253</td>\n",
       "      <td>-4531693914867314231</td>\n",
       "      <td>-1369454789944713339</td>\n",
       "      <td>-8044838031954116508</td>\n",
       "      <td>946036399323025517</td>\n",
       "      <td>315977324050320022</td>\n",
       "      <td>149312395849906379</td>\n",
       "      <td>4018095787914120738</td>\n",
       "    </tr>\n",
       "  </tbody>\n",
       "</table>\n",
       "<p>1 rows × 21 columns</p>\n",
       "</div>"
      ],
      "text/plain": [
       "     C1  banner_pos  device_type  device_conn_type    C14  C15  C16   C17  \\\n",
       "6  1005           0            1                 2  23725  320   50  2716   \n",
       "\n",
       "   C18  C19  ...  C21          site_id_int      site_domain_int  \\\n",
       "6    3   47  ...   23  5382465720375029149 -7124086855069148253   \n",
       "\n",
       "     site_category_int           app_id_int       app_domain_int  \\\n",
       "6 -4531693914867314231 -1369454789944713339 -8044838031954116508   \n",
       "\n",
       "     app_category_int       device_id_int       device_ip_int  \\\n",
       "6  946036399323025517  315977324050320022  149312395849906379   \n",
       "\n",
       "      device_model_int  \n",
       "6  4018095787914120738  \n",
       "\n",
       "[1 rows x 21 columns]"
      ]
     },
     "execution_count": 46,
     "metadata": {},
     "output_type": "execute_result"
    }
   ],
   "source": [
    "newdf.drop('click',axis=1 , inplace = True)\n",
    "newdf"
   ]
  },
  {
   "cell_type": "code",
   "execution_count": 23,
   "id": "1f265980",
   "metadata": {},
   "outputs": [
    {
     "name": "stderr",
     "output_type": "stream",
     "text": [
      "C:\\ProgramData\\Anaconda3\\lib\\site-packages\\pandas\\core\\frame.py:4308: SettingWithCopyWarning: \n",
      "A value is trying to be set on a copy of a slice from a DataFrame\n",
      "\n",
      "See the caveats in the documentation: https://pandas.pydata.org/pandas-docs/stable/user_guide/indexing.html#returning-a-view-versus-a-copy\n",
      "  return super().drop(\n"
     ]
    },
    {
     "data": {
      "text/html": [
       "<div>\n",
       "<style scoped>\n",
       "    .dataframe tbody tr th:only-of-type {\n",
       "        vertical-align: middle;\n",
       "    }\n",
       "\n",
       "    .dataframe tbody tr th {\n",
       "        vertical-align: top;\n",
       "    }\n",
       "\n",
       "    .dataframe thead th {\n",
       "        text-align: right;\n",
       "    }\n",
       "</style>\n",
       "<table border=\"1\" class=\"dataframe\">\n",
       "  <thead>\n",
       "    <tr style=\"text-align: right;\">\n",
       "      <th></th>\n",
       "      <th>C1</th>\n",
       "      <th>banner_pos</th>\n",
       "      <th>device_type</th>\n",
       "      <th>device_conn_type</th>\n",
       "      <th>C14</th>\n",
       "      <th>C15</th>\n",
       "      <th>C16</th>\n",
       "      <th>C17</th>\n",
       "      <th>C18</th>\n",
       "      <th>C19</th>\n",
       "      <th>...</th>\n",
       "      <th>C21</th>\n",
       "      <th>site_id_int</th>\n",
       "      <th>site_domain_int</th>\n",
       "      <th>site_category_int</th>\n",
       "      <th>app_id_int</th>\n",
       "      <th>app_domain_int</th>\n",
       "      <th>app_category_int</th>\n",
       "      <th>device_id_int</th>\n",
       "      <th>device_ip_int</th>\n",
       "      <th>device_model_int</th>\n",
       "    </tr>\n",
       "  </thead>\n",
       "  <tbody>\n",
       "    <tr>\n",
       "      <th>0</th>\n",
       "      <td>1005</td>\n",
       "      <td>0</td>\n",
       "      <td>1</td>\n",
       "      <td>0</td>\n",
       "      <td>16615</td>\n",
       "      <td>320</td>\n",
       "      <td>50</td>\n",
       "      <td>1863</td>\n",
       "      <td>3</td>\n",
       "      <td>39</td>\n",
       "      <td>...</td>\n",
       "      <td>23</td>\n",
       "      <td>-627414150807024862</td>\n",
       "      <td>-8013736861366969512</td>\n",
       "      <td>-7237484144746293107</td>\n",
       "      <td>-5752108538794584091</td>\n",
       "      <td>-1703819627405932192</td>\n",
       "      <td>3478987067676105274</td>\n",
       "      <td>315977324050320022</td>\n",
       "      <td>2464486408351110891</td>\n",
       "      <td>1801784579544342213</td>\n",
       "    </tr>\n",
       "  </tbody>\n",
       "</table>\n",
       "<p>1 rows × 21 columns</p>\n",
       "</div>"
      ],
      "text/plain": [
       "     C1  banner_pos  device_type  device_conn_type    C14  C15  C16   C17  \\\n",
       "0  1005           0            1                 0  16615  320   50  1863   \n",
       "\n",
       "   C18  C19  ...  C21         site_id_int      site_domain_int  \\\n",
       "0    3   39  ...   23 -627414150807024862 -8013736861366969512   \n",
       "\n",
       "     site_category_int           app_id_int       app_domain_int  \\\n",
       "0 -7237484144746293107 -5752108538794584091 -1703819627405932192   \n",
       "\n",
       "      app_category_int       device_id_int        device_ip_int  \\\n",
       "0  3478987067676105274  315977324050320022  2464486408351110891   \n",
       "\n",
       "      device_model_int  \n",
       "0  1801784579544342213  \n",
       "\n",
       "[1 rows x 21 columns]"
      ]
     },
     "execution_count": 23,
     "metadata": {},
     "output_type": "execute_result"
    }
   ],
   "source": [
    "data.drop('click', axis=1, inplace=True)\n",
    "data"
   ]
  },
  {
   "cell_type": "code",
   "execution_count": 18,
   "id": "79b6681e",
   "metadata": {},
   "outputs": [],
   "source": [
    "data=df_train.head(1)"
   ]
  },
  {
   "cell_type": "code",
   "execution_count": 13,
   "id": "78c4e6b4",
   "metadata": {},
   "outputs": [
    {
     "name": "stdout",
     "output_type": "stream",
     "text": [
      "Start training...\n",
      "[LightGBM] [Warning] Auto-choosing row-wise multi-threading, the overhead of testing was 1.195557 seconds.\n",
      "You can set `force_row_wise=true` to remove the overhead.\n",
      "And if memory is not enough, you can set `force_col_wise=true`.\n",
      "[1]\tvalid_0's binary_logloss: 0.450159\n",
      "Training until validation scores don't improve for 5 rounds\n",
      "[2]\tvalid_0's binary_logloss: 0.445987\n",
      "[3]\tvalid_0's binary_logloss: 0.442461\n",
      "[4]\tvalid_0's binary_logloss: 0.439554\n",
      "[5]\tvalid_0's binary_logloss: 0.437014\n",
      "[6]\tvalid_0's binary_logloss: 0.434585\n",
      "[7]\tvalid_0's binary_logloss: 0.432656\n",
      "[8]\tvalid_0's binary_logloss: 0.430722\n",
      "[9]\tvalid_0's binary_logloss: 0.429151\n",
      "[10]\tvalid_0's binary_logloss: 0.427535\n",
      "[11]\tvalid_0's binary_logloss: 0.426142\n",
      "[12]\tvalid_0's binary_logloss: 0.425027\n",
      "[13]\tvalid_0's binary_logloss: 0.423932\n",
      "[14]\tvalid_0's binary_logloss: 0.423025\n",
      "[15]\tvalid_0's binary_logloss: 0.422121\n",
      "[16]\tvalid_0's binary_logloss: 0.42129\n",
      "[17]\tvalid_0's binary_logloss: 0.420363\n",
      "[18]\tvalid_0's binary_logloss: 0.419605\n",
      "[19]\tvalid_0's binary_logloss: 0.418938\n",
      "[20]\tvalid_0's binary_logloss: 0.418423\n",
      "[21]\tvalid_0's binary_logloss: 0.417861\n",
      "[22]\tvalid_0's binary_logloss: 0.417365\n",
      "[23]\tvalid_0's binary_logloss: 0.416782\n",
      "[24]\tvalid_0's binary_logloss: 0.416283\n",
      "[25]\tvalid_0's binary_logloss: 0.415861\n",
      "[26]\tvalid_0's binary_logloss: 0.415461\n",
      "[27]\tvalid_0's binary_logloss: 0.415132\n",
      "[28]\tvalid_0's binary_logloss: 0.414683\n",
      "[29]\tvalid_0's binary_logloss: 0.414366\n",
      "[30]\tvalid_0's binary_logloss: 0.414017\n",
      "[31]\tvalid_0's binary_logloss: 0.413651\n",
      "[32]\tvalid_0's binary_logloss: 0.413262\n",
      "[33]\tvalid_0's binary_logloss: 0.413002\n",
      "[34]\tvalid_0's binary_logloss: 0.412718\n",
      "[35]\tvalid_0's binary_logloss: 0.41246\n",
      "[36]\tvalid_0's binary_logloss: 0.412217\n",
      "[37]\tvalid_0's binary_logloss: 0.412022\n",
      "[38]\tvalid_0's binary_logloss: 0.411809\n",
      "[39]\tvalid_0's binary_logloss: 0.41165\n",
      "[40]\tvalid_0's binary_logloss: 0.411476\n",
      "Did not meet early stopping. Best iteration is:\n",
      "[40]\tvalid_0's binary_logloss: 0.411476\n"
     ]
    }
   ],
   "source": [
    "#Now let us train the model\n",
    "print('Start training...')\n",
    "# train\n",
    "gbm = lgb.train(params,\n",
    "                lgb_train,\n",
    "                num_boost_round=40,\n",
    "                valid_sets=lgb_eval,\n",
    "                early_stopping_rounds=5)"
   ]
  },
  {
   "cell_type": "code",
   "execution_count": 24,
   "id": "cd6177ce",
   "metadata": {},
   "outputs": [
    {
     "data": {
      "text/plain": [
       "array([0.19320239])"
      ]
     },
     "execution_count": 24,
     "metadata": {},
     "output_type": "execute_result"
    }
   ],
   "source": [
    "gbm.predict(data)"
   ]
  },
  {
   "cell_type": "code",
   "execution_count": 48,
   "id": "d1e2cd92",
   "metadata": {},
   "outputs": [
    {
     "data": {
      "text/plain": [
       "array([0.25514741])"
      ]
     },
     "execution_count": 48,
     "metadata": {},
     "output_type": "execute_result"
    }
   ],
   "source": [
    "gbm.predict(newdf)"
   ]
  },
  {
   "cell_type": "code",
   "execution_count": 50,
   "id": "399a1bc6",
   "metadata": {},
   "outputs": [],
   "source": [
    "import pickle"
   ]
  },
  {
   "cell_type": "code",
   "execution_count": 51,
   "id": "890118a4",
   "metadata": {},
   "outputs": [],
   "source": [
    "pickle.dump(gbm,open('model.pkl','wb'))"
   ]
  },
  {
   "cell_type": "code",
   "execution_count": 52,
   "id": "d71aaadb",
   "metadata": {},
   "outputs": [],
   "source": [
    "mymodel = pickle.load(open('model.pkl','rb'))"
   ]
  },
  {
   "cell_type": "code",
   "execution_count": 53,
   "id": "8397043d",
   "metadata": {},
   "outputs": [
    {
     "data": {
      "text/plain": [
       "array([0.25514741])"
      ]
     },
     "execution_count": 53,
     "metadata": {},
     "output_type": "execute_result"
    }
   ],
   "source": [
    "mymodel.predict(newdf)"
   ]
  },
  {
   "cell_type": "code",
   "execution_count": 14,
   "id": "f665e954",
   "metadata": {},
   "outputs": [
    {
     "name": "stdout",
     "output_type": "stream",
     "text": [
      "defaultdict(<class 'collections.OrderedDict'>, {'valid_0': OrderedDict([('binary_logloss', 0.4114761263689332)])})\n"
     ]
    }
   ],
   "source": [
    "print(gbm.best_score)\n"
   ]
  },
  {
   "cell_type": "code",
   "execution_count": null,
   "id": "2dbe7fbb",
   "metadata": {},
   "outputs": [],
   "source": []
  },
  {
   "cell_type": "code",
   "execution_count": 116,
   "id": "3fd87e44",
   "metadata": {},
   "outputs": [
    {
     "name": "stdout",
     "output_type": "stream",
     "text": [
      "1645\n"
     ]
    }
   ],
   "source": [
    "print(gbm.best_iteration)"
   ]
  },
  {
   "cell_type": "markdown",
   "id": "099195b9",
   "metadata": {},
   "source": [
    "# Phase 4 : Advance Modeling and Feature Analysis\n"
   ]
  },
  {
   "cell_type": "markdown",
   "id": "7cf2412c",
   "metadata": {},
   "source": [
    "### Advnace feature Analysis ###\n",
    "There were few features left to analyse in previous phases which were complex and not direct. In this phase we'll be analysing those features."
   ]
  },
  {
   "cell_type": "code",
   "execution_count": 8,
   "id": "7190d480",
   "metadata": {},
   "outputs": [
    {
     "name": "stdout",
     "output_type": "stream",
     "text": [
      "0    0.719973\n",
      "1    0.278291\n",
      "7    0.001044\n",
      "2    0.000306\n",
      "4    0.000194\n",
      "5    0.000154\n",
      "3    0.000038\n",
      "Name: banner_pos, dtype: float64\n"
     ]
    }
   ],
   "source": [
    "#Banner Position\n",
    "print(df_train.banner_pos.value_counts()/len(df_train))"
   ]
  },
  {
   "cell_type": "code",
   "execution_count": 9,
   "id": "e145de16",
   "metadata": {},
   "outputs": [
    {
     "name": "stdout",
     "output_type": "stream",
     "text": [
      "for banner position: 0,  click through rate: 0.1640589299876523\n",
      "for banner position: 1,  click through rate: 0.18408069251251388\n",
      "for banner position: 2,  click through rate: 0.11601307189542484\n",
      "for banner position: 3,  click through rate: 0.19736842105263158\n",
      "for banner position: 4,  click through rate: 0.18041237113402062\n",
      "for banner position: 5,  click through rate: 0.1525974025974026\n",
      "for banner position: 7,  click through rate: 0.3271072796934866\n"
     ]
    }
   ],
   "source": [
    "banner_pos = df_train.banner_pos.unique()\n",
    "banner_pos.sort()\n",
    "ctr_avg_list=[]\n",
    "for i in banner_pos:\n",
    "    ctr_avg=df_train.loc[np.where((df_train.banner_pos == i))].click.mean()\n",
    "    ctr_avg_list.append(ctr_avg)\n",
    "    print(\"for banner position: {},  click through rate: {}\".format(i,ctr_avg))"
   ]
  },
  {
   "cell_type": "code",
   "execution_count": 10,
   "id": "d74cc388",
   "metadata": {},
   "outputs": [],
   "source": [
    "#we can see that for position 0 72 percent data is there and the CTR is .16 whereas for position 1 27 percent data and ctr is .18\n",
    "#now let us put this info in histogram for better visualization"
   ]
  },
  {
   "cell_type": "code",
   "execution_count": 12,
   "id": "5552d461",
   "metadata": {},
   "outputs": [
    {
     "data": {
      "image/png": "[encoded data removed]",
      "text/plain": [
       "<Figure size 864x432 with 1 Axes>"
      ]
     },
     "metadata": {
      "needs_background": "light"
     },
     "output_type": "display_data"
    }
   ],
   "source": [
    "df_train.groupby(['banner_pos', 'click']).size().unstack().plot(kind='bar', figsize=(12,6), title='banner position histogram');"
   ]
  },
  {
   "cell_type": "code",
   "execution_count": 16,
   "id": "4831433e",
   "metadata": {},
   "outputs": [
    {
     "data": {
      "image/png": "[encoded data removed]",
      "text/plain": [
       "<Figure size 864x432 with 1 Axes>"
      ]
     },
     "metadata": {
      "needs_background": "light"
     },
     "output_type": "display_data"
    }
   ],
   "source": [
    "df_banner = df_train[['banner_pos','click']].groupby(['banner_pos']).count().reset_index()\n",
    "df_banner = df_banner.rename(columns={'click': 'impressions'})\n",
    "df_banner['clicks'] = df_click[['banner_pos','click']].groupby(['banner_pos']).count().reset_index()['click']\n",
    "df_banner['CTR'] = df_banner['clicks']/df_banner['impressions']*100\n",
    "sort_banners = df_banner.sort_values(by='CTR',ascending=False)['banner_pos'].tolist()\n",
    "plt.figure(figsize=(12,6))\n",
    "sns.barplot(y='CTR', x='banner_pos', data=df_banner, order=sort_banners)\n",
    "plt.title('CTR by banner position');"
   ]
  },
  {
   "cell_type": "code",
   "execution_count": null,
   "id": "0e9d4a05",
   "metadata": {},
   "outputs": [],
   "source": [
    "# Advance Machine learning Model \n",
    "# going to use xgboost for advance ML model"
   ]
  },
  {
   "cell_type": "code",
   "execution_count": 54,
   "id": "0fee8695",
   "metadata": {},
   "outputs": [],
   "source": [
    "# listing down all features\n",
    "features = ['C1', 'banner_pos', 'device_type', 'device_conn_type', 'C14',\n",
    "       'C15', 'C16', 'C17', 'C18', 'C19', 'C20', 'C21',\n",
    "       'site_id_int', 'site_domain_int', 'site_category_int', 'app_id_int',\n",
    "       'app_domain_int', 'app_category_int', 'device_id_int', 'device_ip_int',\n",
    "       'device_model_int']"
   ]
  },
  {
   "cell_type": "code",
   "execution_count": 55,
   "id": "d6a4383e",
   "metadata": {},
   "outputs": [
    {
     "name": "stdout",
     "output_type": "stream",
     "text": [
      "XGBoost params. ETA: 0.1, MAX_DEPTH: 5, SUBSAMPLE: 0.8, COLSAMPLE_BY_TREE: 0.8\n",
      "[23:29:12] WARNING: C:/Users/administrator/workspace/xgboost-win64_release_1.6.0/src/learner.cc:627: \n",
      "Parameters: { \"silent\" } might not be used.\n",
      "\n",
      "  This could be a false alarm, with some parameters getting used by language bindings but\n",
      "  then being mistakenly passed down to XGBoost core, or some parameter actually being used\n",
      "  but getting flagged wrongly here. Please open an issue if you find any such cases.\n",
      "\n",
      "\n",
      "[0]\ttrain-logloss:0.64899\teval-logloss:0.64897\n",
      "[1]\ttrain-logloss:0.61290\teval-logloss:0.61288\n",
      "[2]\ttrain-logloss:0.58279\teval-logloss:0.58277\n",
      "[3]\ttrain-logloss:0.55792\teval-logloss:0.55789\n",
      "[4]\ttrain-logloss:0.53706\teval-logloss:0.53701\n",
      "[5]\ttrain-logloss:0.51952\teval-logloss:0.51948\n",
      "[6]\ttrain-logloss:0.50456\teval-logloss:0.50452\n",
      "[7]\ttrain-logloss:0.49191\teval-logloss:0.49187\n",
      "[8]\ttrain-logloss:0.48120\teval-logloss:0.48115\n",
      "[9]\ttrain-logloss:0.47216\teval-logloss:0.47210\n",
      "[10]\ttrain-logloss:0.46441\teval-logloss:0.46435\n",
      "[11]\ttrain-logloss:0.45798\teval-logloss:0.45791\n",
      "[12]\ttrain-logloss:0.45257\teval-logloss:0.45249\n",
      "[13]\ttrain-logloss:0.44784\teval-logloss:0.44775\n",
      "[14]\ttrain-logloss:0.44386\teval-logloss:0.44377\n",
      "[15]\ttrain-logloss:0.44018\teval-logloss:0.44008\n",
      "[16]\ttrain-logloss:0.43715\teval-logloss:0.43707\n",
      "[17]\ttrain-logloss:0.43466\teval-logloss:0.43459\n",
      "[18]\ttrain-logloss:0.43246\teval-logloss:0.43239\n",
      "[19]\ttrain-logloss:0.43064\teval-logloss:0.43058\n",
      "[20]\ttrain-logloss:0.42901\teval-logloss:0.42894\n",
      "[21]\ttrain-logloss:0.42753\teval-logloss:0.42746\n",
      "[22]\ttrain-logloss:0.42585\teval-logloss:0.42581\n",
      "[23]\ttrain-logloss:0.42481\teval-logloss:0.42477\n",
      "[24]\ttrain-logloss:0.42393\teval-logloss:0.42389\n",
      "[25]\ttrain-logloss:0.42298\teval-logloss:0.42297\n",
      "[26]\ttrain-logloss:0.42228\teval-logloss:0.42227\n",
      "[27]\ttrain-logloss:0.42166\teval-logloss:0.42166\n",
      "[28]\ttrain-logloss:0.42114\teval-logloss:0.42114\n",
      "[29]\ttrain-logloss:0.42017\teval-logloss:0.42019\n",
      "[30]\ttrain-logloss:0.41938\teval-logloss:0.41941\n",
      "[31]\ttrain-logloss:0.41877\teval-logloss:0.41882\n",
      "[32]\ttrain-logloss:0.41825\teval-logloss:0.41831\n",
      "[33]\ttrain-logloss:0.41764\teval-logloss:0.41772\n",
      "[34]\ttrain-logloss:0.41727\teval-logloss:0.41737\n",
      "[35]\ttrain-logloss:0.41679\teval-logloss:0.41690\n",
      "[36]\ttrain-logloss:0.41656\teval-logloss:0.41667\n",
      "[37]\ttrain-logloss:0.41631\teval-logloss:0.41644\n",
      "[38]\ttrain-logloss:0.41614\teval-logloss:0.41625\n",
      "[39]\ttrain-logloss:0.41571\teval-logloss:0.41585\n",
      "[40]\ttrain-logloss:0.41545\teval-logloss:0.41559\n",
      "[41]\ttrain-logloss:0.41516\teval-logloss:0.41531\n",
      "[42]\ttrain-logloss:0.41480\teval-logloss:0.41496\n",
      "[43]\ttrain-logloss:0.41457\teval-logloss:0.41473\n",
      "[44]\ttrain-logloss:0.41442\teval-logloss:0.41459\n",
      "[45]\ttrain-logloss:0.41404\teval-logloss:0.41422\n",
      "[46]\ttrain-logloss:0.41391\teval-logloss:0.41409\n",
      "[47]\ttrain-logloss:0.41373\teval-logloss:0.41391\n",
      "[48]\ttrain-logloss:0.41347\teval-logloss:0.41366\n",
      "[49]\ttrain-logloss:0.41335\teval-logloss:0.41356\n",
      "[50]\ttrain-logloss:0.41324\teval-logloss:0.41346\n",
      "[51]\ttrain-logloss:0.41314\teval-logloss:0.41336\n",
      "[52]\ttrain-logloss:0.41286\teval-logloss:0.41308\n",
      "[53]\ttrain-logloss:0.41256\teval-logloss:0.41278\n",
      "[54]\ttrain-logloss:0.41236\teval-logloss:0.41258\n",
      "[55]\ttrain-logloss:0.41225\teval-logloss:0.41248\n",
      "[56]\ttrain-logloss:0.41202\teval-logloss:0.41226\n",
      "[57]\ttrain-logloss:0.41179\teval-logloss:0.41202\n",
      "[58]\ttrain-logloss:0.41160\teval-logloss:0.41183\n",
      "[59]\ttrain-logloss:0.41141\teval-logloss:0.41165\n",
      "[60]\ttrain-logloss:0.41128\teval-logloss:0.41155\n",
      "[61]\ttrain-logloss:0.41111\teval-logloss:0.41138\n",
      "[62]\ttrain-logloss:0.41102\teval-logloss:0.41131\n",
      "[63]\ttrain-logloss:0.41092\teval-logloss:0.41121\n",
      "[64]\ttrain-logloss:0.41075\teval-logloss:0.41105\n",
      "[65]\ttrain-logloss:0.41068\teval-logloss:0.41098\n",
      "[66]\ttrain-logloss:0.41060\teval-logloss:0.41091\n",
      "[67]\ttrain-logloss:0.41055\teval-logloss:0.41086\n",
      "[68]\ttrain-logloss:0.41050\teval-logloss:0.41082\n",
      "[69]\ttrain-logloss:0.41026\teval-logloss:0.41060\n",
      "[70]\ttrain-logloss:0.41001\teval-logloss:0.41036\n",
      "[71]\ttrain-logloss:0.40988\teval-logloss:0.41024\n",
      "[72]\ttrain-logloss:0.40965\teval-logloss:0.41002\n",
      "[73]\ttrain-logloss:0.40961\teval-logloss:0.40999\n",
      "[74]\ttrain-logloss:0.40947\teval-logloss:0.40985\n",
      "[75]\ttrain-logloss:0.40940\teval-logloss:0.40978\n",
      "[76]\ttrain-logloss:0.40929\teval-logloss:0.40968\n",
      "[77]\ttrain-logloss:0.40918\teval-logloss:0.40958\n",
      "[78]\ttrain-logloss:0.40899\teval-logloss:0.40940\n",
      "[79]\ttrain-logloss:0.40895\teval-logloss:0.40937\n",
      "[80]\ttrain-logloss:0.40887\teval-logloss:0.40929\n",
      "[81]\ttrain-logloss:0.40880\teval-logloss:0.40923\n",
      "[82]\ttrain-logloss:0.40876\teval-logloss:0.40920\n",
      "[83]\ttrain-logloss:0.40861\teval-logloss:0.40905\n",
      "[84]\ttrain-logloss:0.40855\teval-logloss:0.40899\n",
      "[85]\ttrain-logloss:0.40838\teval-logloss:0.40884\n",
      "[86]\ttrain-logloss:0.40832\teval-logloss:0.40878\n",
      "[87]\ttrain-logloss:0.40825\teval-logloss:0.40871\n",
      "[88]\ttrain-logloss:0.40811\teval-logloss:0.40860\n",
      "[89]\ttrain-logloss:0.40799\teval-logloss:0.40848\n",
      "[90]\ttrain-logloss:0.40795\teval-logloss:0.40844\n",
      "[91]\ttrain-logloss:0.40789\teval-logloss:0.40839\n",
      "[92]\ttrain-logloss:0.40780\teval-logloss:0.40830\n",
      "[93]\ttrain-logloss:0.40766\teval-logloss:0.40817\n",
      "[94]\ttrain-logloss:0.40763\teval-logloss:0.40814\n",
      "[95]\ttrain-logloss:0.40747\teval-logloss:0.40798\n",
      "[96]\ttrain-logloss:0.40742\teval-logloss:0.40794\n",
      "[97]\ttrain-logloss:0.40738\teval-logloss:0.40791\n",
      "[98]\ttrain-logloss:0.40734\teval-logloss:0.40786\n",
      "[99]\ttrain-logloss:0.40722\teval-logloss:0.40776\n",
      "[100]\ttrain-logloss:0.40710\teval-logloss:0.40765\n",
      "[101]\ttrain-logloss:0.40707\teval-logloss:0.40762\n",
      "[102]\ttrain-logloss:0.40696\teval-logloss:0.40754\n",
      "[103]\ttrain-logloss:0.40688\teval-logloss:0.40747\n",
      "[104]\ttrain-logloss:0.40685\teval-logloss:0.40744\n",
      "[105]\ttrain-logloss:0.40679\teval-logloss:0.40738\n",
      "[106]\ttrain-logloss:0.40673\teval-logloss:0.40733\n",
      "[107]\ttrain-logloss:0.40665\teval-logloss:0.40726\n",
      "[108]\ttrain-logloss:0.40662\teval-logloss:0.40723\n",
      "[109]\ttrain-logloss:0.40647\teval-logloss:0.40709\n",
      "[110]\ttrain-logloss:0.40637\teval-logloss:0.40699\n",
      "[111]\ttrain-logloss:0.40627\teval-logloss:0.40691\n",
      "[112]\ttrain-logloss:0.40624\teval-logloss:0.40688\n",
      "[113]\ttrain-logloss:0.40616\teval-logloss:0.40681\n",
      "[114]\ttrain-logloss:0.40613\teval-logloss:0.40679\n",
      "[115]\ttrain-logloss:0.40608\teval-logloss:0.40675\n",
      "[116]\ttrain-logloss:0.40602\teval-logloss:0.40669\n",
      "[117]\ttrain-logloss:0.40591\teval-logloss:0.40658\n",
      "[118]\ttrain-logloss:0.40582\teval-logloss:0.40649\n",
      "[119]\ttrain-logloss:0.40574\teval-logloss:0.40642\n",
      "[120]\ttrain-logloss:0.40567\teval-logloss:0.40636\n",
      "[121]\ttrain-logloss:0.40563\teval-logloss:0.40632\n",
      "[122]\ttrain-logloss:0.40559\teval-logloss:0.40629\n",
      "[123]\ttrain-logloss:0.40556\teval-logloss:0.40626\n",
      "[124]\ttrain-logloss:0.40553\teval-logloss:0.40623\n",
      "[125]\ttrain-logloss:0.40545\teval-logloss:0.40616\n",
      "[126]\ttrain-logloss:0.40541\teval-logloss:0.40612\n",
      "[127]\ttrain-logloss:0.40539\teval-logloss:0.40611\n",
      "[128]\ttrain-logloss:0.40528\teval-logloss:0.40602\n",
      "[129]\ttrain-logloss:0.40525\teval-logloss:0.40599\n",
      "[130]\ttrain-logloss:0.40519\teval-logloss:0.40593\n",
      "[131]\ttrain-logloss:0.40515\teval-logloss:0.40590\n",
      "[132]\ttrain-logloss:0.40512\teval-logloss:0.40589\n",
      "[133]\ttrain-logloss:0.40508\teval-logloss:0.40584\n",
      "[134]\ttrain-logloss:0.40503\teval-logloss:0.40581\n",
      "[135]\ttrain-logloss:0.40496\teval-logloss:0.40575\n",
      "[136]\ttrain-logloss:0.40493\teval-logloss:0.40573\n",
      "[137]\ttrain-logloss:0.40488\teval-logloss:0.40568\n",
      "[138]\ttrain-logloss:0.40482\teval-logloss:0.40564\n",
      "[139]\ttrain-logloss:0.40479\teval-logloss:0.40561\n",
      "[140]\ttrain-logloss:0.40475\teval-logloss:0.40558\n",
      "[141]\ttrain-logloss:0.40472\teval-logloss:0.40556\n",
      "[142]\ttrain-logloss:0.40462\teval-logloss:0.40547\n",
      "[143]\ttrain-logloss:0.40458\teval-logloss:0.40544\n",
      "[144]\ttrain-logloss:0.40455\teval-logloss:0.40542\n",
      "[145]\ttrain-logloss:0.40453\teval-logloss:0.40540\n",
      "[146]\ttrain-logloss:0.40451\teval-logloss:0.40539\n",
      "[147]\ttrain-logloss:0.40448\teval-logloss:0.40536\n",
      "[148]\ttrain-logloss:0.40440\teval-logloss:0.40528\n",
      "[149]\ttrain-logloss:0.40435\teval-logloss:0.40523\n",
      "[150]\ttrain-logloss:0.40429\teval-logloss:0.40519\n",
      "[151]\ttrain-logloss:0.40421\teval-logloss:0.40510\n",
      "[152]\ttrain-logloss:0.40415\teval-logloss:0.40505\n",
      "[153]\ttrain-logloss:0.40410\teval-logloss:0.40501\n",
      "[154]\ttrain-logloss:0.40409\teval-logloss:0.40501\n",
      "[155]\ttrain-logloss:0.40405\teval-logloss:0.40498\n",
      "[156]\ttrain-logloss:0.40392\teval-logloss:0.40485\n",
      "[157]\ttrain-logloss:0.40385\teval-logloss:0.40478\n",
      "[158]\ttrain-logloss:0.40383\teval-logloss:0.40476\n",
      "[159]\ttrain-logloss:0.40380\teval-logloss:0.40474\n"
     ]
    },
    {
     "name": "stdout",
     "output_type": "stream",
     "text": [
      "[160]\ttrain-logloss:0.40378\teval-logloss:0.40473\n",
      "[161]\ttrain-logloss:0.40375\teval-logloss:0.40471\n",
      "[162]\ttrain-logloss:0.40370\teval-logloss:0.40466\n",
      "[163]\ttrain-logloss:0.40364\teval-logloss:0.40460\n",
      "[164]\ttrain-logloss:0.40360\teval-logloss:0.40457\n",
      "[165]\ttrain-logloss:0.40357\teval-logloss:0.40454\n",
      "[166]\ttrain-logloss:0.40354\teval-logloss:0.40452\n",
      "[167]\ttrain-logloss:0.40348\teval-logloss:0.40447\n",
      "[168]\ttrain-logloss:0.40344\teval-logloss:0.40444\n",
      "[169]\ttrain-logloss:0.40340\teval-logloss:0.40440\n",
      "[170]\ttrain-logloss:0.40336\teval-logloss:0.40437\n",
      "[171]\ttrain-logloss:0.40331\teval-logloss:0.40433\n",
      "[172]\ttrain-logloss:0.40330\teval-logloss:0.40431\n",
      "[173]\ttrain-logloss:0.40327\teval-logloss:0.40430\n",
      "[174]\ttrain-logloss:0.40322\teval-logloss:0.40426\n",
      "[175]\ttrain-logloss:0.40318\teval-logloss:0.40423\n",
      "[176]\ttrain-logloss:0.40313\teval-logloss:0.40419\n",
      "[177]\ttrain-logloss:0.40312\teval-logloss:0.40418\n",
      "[178]\ttrain-logloss:0.40308\teval-logloss:0.40414\n",
      "[179]\ttrain-logloss:0.40307\teval-logloss:0.40413\n",
      "[180]\ttrain-logloss:0.40306\teval-logloss:0.40413\n",
      "[181]\ttrain-logloss:0.40303\teval-logloss:0.40412\n",
      "[182]\ttrain-logloss:0.40300\teval-logloss:0.40410\n",
      "[183]\ttrain-logloss:0.40296\teval-logloss:0.40406\n",
      "[184]\ttrain-logloss:0.40290\teval-logloss:0.40401\n",
      "[185]\ttrain-logloss:0.40284\teval-logloss:0.40396\n",
      "[186]\ttrain-logloss:0.40280\teval-logloss:0.40391\n",
      "[187]\ttrain-logloss:0.40275\teval-logloss:0.40387\n",
      "[188]\ttrain-logloss:0.40267\teval-logloss:0.40379\n",
      "[189]\ttrain-logloss:0.40263\teval-logloss:0.40375\n",
      "[190]\ttrain-logloss:0.40261\teval-logloss:0.40374\n",
      "[191]\ttrain-logloss:0.40258\teval-logloss:0.40372\n",
      "[192]\ttrain-logloss:0.40253\teval-logloss:0.40368\n",
      "[193]\ttrain-logloss:0.40245\teval-logloss:0.40360\n",
      "[194]\ttrain-logloss:0.40244\teval-logloss:0.40360\n",
      "[195]\ttrain-logloss:0.40241\teval-logloss:0.40357\n",
      "[196]\ttrain-logloss:0.40238\teval-logloss:0.40355\n",
      "[197]\ttrain-logloss:0.40234\teval-logloss:0.40351\n",
      "[198]\ttrain-logloss:0.40233\teval-logloss:0.40351\n",
      "[199]\ttrain-logloss:0.40231\teval-logloss:0.40350\n",
      "[200]\ttrain-logloss:0.40227\teval-logloss:0.40347\n",
      "[201]\ttrain-logloss:0.40225\teval-logloss:0.40345\n",
      "[202]\ttrain-logloss:0.40222\teval-logloss:0.40342\n",
      "[203]\ttrain-logloss:0.40220\teval-logloss:0.40341\n",
      "[204]\ttrain-logloss:0.40217\teval-logloss:0.40338\n",
      "[205]\ttrain-logloss:0.40212\teval-logloss:0.40334\n",
      "[206]\ttrain-logloss:0.40210\teval-logloss:0.40332\n",
      "[207]\ttrain-logloss:0.40208\teval-logloss:0.40331\n",
      "[208]\ttrain-logloss:0.40200\teval-logloss:0.40322\n",
      "[209]\ttrain-logloss:0.40195\teval-logloss:0.40318\n",
      "[210]\ttrain-logloss:0.40193\teval-logloss:0.40317\n",
      "[211]\ttrain-logloss:0.40190\teval-logloss:0.40314\n",
      "[212]\ttrain-logloss:0.40185\teval-logloss:0.40310\n",
      "[213]\ttrain-logloss:0.40180\teval-logloss:0.40306\n",
      "[214]\ttrain-logloss:0.40175\teval-logloss:0.40303\n",
      "[215]\ttrain-logloss:0.40171\teval-logloss:0.40300\n",
      "[216]\ttrain-logloss:0.40170\teval-logloss:0.40299\n",
      "[217]\ttrain-logloss:0.40166\teval-logloss:0.40296\n",
      "[218]\ttrain-logloss:0.40163\teval-logloss:0.40294\n",
      "[219]\ttrain-logloss:0.40160\teval-logloss:0.40293\n",
      "[220]\ttrain-logloss:0.40156\teval-logloss:0.40289\n",
      "[221]\ttrain-logloss:0.40152\teval-logloss:0.40285\n",
      "[222]\ttrain-logloss:0.40150\teval-logloss:0.40284\n",
      "[223]\ttrain-logloss:0.40145\teval-logloss:0.40280\n",
      "[224]\ttrain-logloss:0.40142\teval-logloss:0.40276\n",
      "[225]\ttrain-logloss:0.40139\teval-logloss:0.40274\n",
      "[226]\ttrain-logloss:0.40135\teval-logloss:0.40273\n",
      "[227]\ttrain-logloss:0.40134\teval-logloss:0.40272\n",
      "[228]\ttrain-logloss:0.40132\teval-logloss:0.40270\n",
      "[229]\ttrain-logloss:0.40128\teval-logloss:0.40267\n",
      "[230]\ttrain-logloss:0.40126\teval-logloss:0.40266\n",
      "[231]\ttrain-logloss:0.40123\teval-logloss:0.40264\n",
      "[232]\ttrain-logloss:0.40123\teval-logloss:0.40264\n",
      "[233]\ttrain-logloss:0.40122\teval-logloss:0.40263\n",
      "[234]\ttrain-logloss:0.40119\teval-logloss:0.40261\n",
      "[235]\ttrain-logloss:0.40115\teval-logloss:0.40259\n",
      "[236]\ttrain-logloss:0.40112\teval-logloss:0.40256\n",
      "[237]\ttrain-logloss:0.40109\teval-logloss:0.40255\n",
      "[238]\ttrain-logloss:0.40106\teval-logloss:0.40252\n",
      "[239]\ttrain-logloss:0.40104\teval-logloss:0.40251\n",
      "[240]\ttrain-logloss:0.40101\teval-logloss:0.40248\n",
      "[241]\ttrain-logloss:0.40100\teval-logloss:0.40248\n",
      "[242]\ttrain-logloss:0.40099\teval-logloss:0.40247\n",
      "[243]\ttrain-logloss:0.40096\teval-logloss:0.40245\n",
      "[244]\ttrain-logloss:0.40092\teval-logloss:0.40242\n",
      "[245]\ttrain-logloss:0.40089\teval-logloss:0.40239\n",
      "[246]\ttrain-logloss:0.40086\teval-logloss:0.40237\n",
      "[247]\ttrain-logloss:0.40083\teval-logloss:0.40234\n",
      "[248]\ttrain-logloss:0.40080\teval-logloss:0.40232\n",
      "[249]\ttrain-logloss:0.40078\teval-logloss:0.40230\n",
      "[250]\ttrain-logloss:0.40077\teval-logloss:0.40230\n",
      "[251]\ttrain-logloss:0.40076\teval-logloss:0.40229\n",
      "[252]\ttrain-logloss:0.40074\teval-logloss:0.40227\n",
      "[253]\ttrain-logloss:0.40071\teval-logloss:0.40225\n",
      "[254]\ttrain-logloss:0.40070\teval-logloss:0.40224\n",
      "[255]\ttrain-logloss:0.40064\teval-logloss:0.40218\n",
      "[256]\ttrain-logloss:0.40062\teval-logloss:0.40216\n",
      "[257]\ttrain-logloss:0.40061\teval-logloss:0.40216\n",
      "[258]\ttrain-logloss:0.40058\teval-logloss:0.40214\n",
      "[259]\ttrain-logloss:0.40057\teval-logloss:0.40213\n"
     ]
    }
   ],
   "source": [
    "#importing all libraries for xgboost\n",
    "from operator import itemgetter\n",
    "from sklearn.model_selection import train_test_split\n",
    "import xgboost as xgb\n",
    "from sklearn.metrics import roc_auc_score\n",
    "\n",
    "def run_default_test(df_train, test, features, target, random_state=0):\n",
    "    eta = 0.1\n",
    "    max_depth = 5\n",
    "    subsample = 0.8\n",
    "    colsample_bytree = 0.8\n",
    "    print('XGBoost params. ETA: {}, MAX_DEPTH: {}, SUBSAMPLE: {}, COLSAMPLE_BY_TREE: {}'.format(eta, max_depth, subsample, colsample_bytree))\n",
    "    params = {\n",
    "        \"objective\": \"binary:logistic\",\n",
    "        \"booster\" : \"gbtree\",\n",
    "        \"eval_metric\": \"logloss\",\n",
    "        \"eta\": eta,\n",
    "        \"max_depth\": max_depth,\n",
    "        \"subsample\": subsample,\n",
    "        \"colsample_bytree\": colsample_bytree,\n",
    "        \"silent\": 1,\n",
    "        \"seed\": random_state\n",
    "    }\n",
    "    num_boost_round = 260\n",
    "    early_stopping_rounds = 20\n",
    "    test_size = 0.2\n",
    "\n",
    "    X_train, X_valid = train_test_split(df_train, test_size=test_size, random_state=random_state)\n",
    "    y_train = X_train[target]\n",
    "    y_valid = X_valid[target]\n",
    "    dtrain = xgb.DMatrix(X_train[features], y_train)\n",
    "    dvalid = xgb.DMatrix(X_valid[features], y_valid)\n",
    "    watchlist = [(dtrain, 'train'), (dvalid, 'eval')]\n",
    "    #calling the xgboost train module\n",
    "    gbm = xgb.train(params, dtrain, num_boost_round, evals=watchlist, early_stopping_rounds=early_stopping_rounds, verbose_eval=True)\n",
    "    \n",
    "    \n",
    "run_default_test(df_train, y_target, features, 'click')"
   ]
  },
  {
   "cell_type": "markdown",
   "id": "892e0214",
   "metadata": {},
   "source": [
    "# Phase 5 Model deployment and productionization\n"
   ]
  },
  {
   "cell_type": "code",
   "execution_count": null,
   "id": "e7d86ed2",
   "metadata": {},
   "outputs": [],
   "source": [
    "import pickle"
   ]
  },
  {
   "cell_type": "code",
   "execution_count": 56,
   "id": "a27895e1",
   "metadata": {},
   "outputs": [],
   "source": [
    "pickle.dump(gbm,open('ctrmodel.pkl','wb'))\n"
   ]
  },
  {
   "cell_type": "code",
   "execution_count": 1,
   "id": "b937e071",
   "metadata": {},
   "outputs": [
    {
     "ename": "NameError",
     "evalue": "name 'pickle' is not defined",
     "output_type": "error",
     "traceback": [
      "\u001b[1;31m---------------------------------------------------------------------------\u001b[0m",
      "\u001b[1;31mNameError\u001b[0m                                 Traceback (most recent call last)",
      "\u001b[1;32m<ipython-input-1-4a88e7ee9b07>\u001b[0m in \u001b[0;36m<module>\u001b[1;34m\u001b[0m\n\u001b[1;32m----> 1\u001b[1;33m \u001b[0mctr_model\u001b[0m \u001b[1;33m=\u001b[0m \u001b[0mpickle\u001b[0m\u001b[1;33m.\u001b[0m\u001b[0mload\u001b[0m\u001b[1;33m(\u001b[0m\u001b[0mopen\u001b[0m\u001b[1;33m(\u001b[0m\u001b[1;34m'ctrmodel.pkl'\u001b[0m\u001b[1;33m,\u001b[0m\u001b[1;34m'rb'\u001b[0m\u001b[1;33m)\u001b[0m\u001b[1;33m)\u001b[0m\u001b[1;33m\u001b[0m\u001b[1;33m\u001b[0m\u001b[0m\n\u001b[0m",
      "\u001b[1;31mNameError\u001b[0m: name 'pickle' is not defined"
     ]
    }
   ],
   "source": [
    "ctr_model = pickle.load(open('ctrmodel.pkl','rb'))\n"
   ]
  },
  {
   "cell_type": "code",
   "execution_count": null,
   "id": "070b63ee",
   "metadata": {},
   "outputs": [],
   "source": [
    "ctr_model.predict(newdf)"
   ]
  }
 ],
 "metadata": {
  "kernelspec": {
   "display_name": "Python 3",
   "language": "python",
   "name": "python3"
  },
  "language_info": {
   "codemirror_mode": {
    "name": "ipython",
    "version": 3
   },
   "file_extension": ".py",
   "mimetype": "text/x-python",
   "name": "python",
   "nbconvert_exporter": "python",
   "pygments_lexer": "ipython3",
   "version": "3.8.8"
  }
 },
 "nbformat": 4,
 "nbformat_minor": 5
}
