{
 "cells": [
  {
   "cell_type": "code",
   "execution_count": 1,
   "id": "f655f24d",
   "metadata": {},
   "outputs": [],
   "source": [
    "#Import required libraries\n",
    "import pandas as pd\n",
    "import seaborn as sns\n",
    "import matplotlib.pyplot as plt\n",
    "import gzip\n",
    "import numpy as np\n",
    "import seaborn as sns\n",
    "import matplotlib.pyplot as plt\n",
    "import pickle"
   ]
  },
  {
   "cell_type": "code",
   "execution_count": 3,
   "id": "89f0626f",
   "metadata": {},
   "outputs": [],
   "source": [
    "#read the train dataset \n",
    "df = pd.read_csv(\"train_sample.csv\")"
   ]
  },
  {
   "cell_type": "code",
   "execution_count": 4,
   "id": "7b89e36a",
   "metadata": {},
   "outputs": [
    {
     "name": "stdout",
     "output_type": "stream",
     "text": [
      "Shape of training data : (2000000, 24)\n"
     ]
    }
   ],
   "source": [
    "\n",
    "train_data=df\n",
    "print('Shape of training data :',train_data.shape)"
   ]
  },
  {
   "cell_type": "code",
   "execution_count": null,
   "id": "cb27e89a",
   "metadata": {},
   "outputs": [],
   "source": [
    "#load the test dataset\n",
    "#test_data=pd.read_csv(\"test.csv\")"
   ]
  },
  {
   "cell_type": "code",
   "execution_count": null,
   "id": "a144965c",
   "metadata": {},
   "outputs": [],
   "source": [
    "print('Shape of test data :',test_data.shape)"
   ]
  },
  {
   "cell_type": "code",
   "execution_count": 5,
   "id": "8709f8f3",
   "metadata": {},
   "outputs": [],
   "source": [
    "#column data types\n",
    "types_train = {\n",
    "    'id': np.dtype(int),\n",
    "    'click': np.dtype(int),\n",
    "    'hour': np.dtype(int),\n",
    "    'C1': np.dtype(int),\n",
    "    'banner_pos': np.dtype(int),\n",
    "    'site_id': np.dtype(str),\n",
    "    'site_domain': np.dtype(str), \n",
    "    'site_category': np.dtype(str),\n",
    "    'app_id': np.dtype(str),\n",
    "    'app_domain': np.dtype(str),\n",
    "    'app_category': np.dtype(str),\n",
    "    'device_id': np.dtype(str),\n",
    "    'device_ip': np.dtype(str),\n",
    "    'device_model': np.dtype(str),\n",
    "    'device_type': np.dtype(int),\n",
    "    'device_conn_type': np.dtype(int),\n",
    "    'C14': np.dtype(int),\n",
    "    'C15': np.dtype(int),\n",
    "    'C16': np.dtype(int),\n",
    "    'C17': np.dtype(int),\n",
    "    'C18': np.dtype(int),\n",
    "    'C19': np.dtype(int),\n",
    "    'C20': np.dtype(int),\n",
    "    'C21':np.dtype(int)\n",
    "}"
   ]
  },
  {
   "cell_type": "code",
   "execution_count": 6,
   "id": "bc676128",
   "metadata": {},
   "outputs": [
    {
     "name": "stderr",
     "output_type": "stream",
     "text": [
      "<ipython-input-6-ac32ae3cebda>:1: FutureWarning: The pandas.datetime class is deprecated and will be removed from pandas in a future version. Import from datetime module instead.\n",
      "  parse_date = lambda val : pd.datetime.strptime(val, '%y%m%d%H')\n"
     ]
    }
   ],
   "source": [
    "\n",
    "parse_date = lambda val : pd.datetime.strptime(val, '%y%m%d%H')\n",
    "df_train = pd.read_csv(\"train_sample.csv\",parse_dates = ['hour'], date_parser = parse_date,dtype=types_train)"
   ]
  },
  {
   "cell_type": "code",
   "execution_count": 7,
   "id": "d869cee4",
   "metadata": {},
   "outputs": [],
   "source": [
    "#Modeling\n",
    "#starting with Hash fucntion\n",
    "#has function :\n",
    "    # to convert object datatypes to hashmap so as to be more memory efficient while trianing the model.\n",
    "def convert_obj_to_int(self):\n",
    "    \n",
    "    object_list_columns = self.columns\n",
    "    object_list_dtypes = self.dtypes\n",
    "    new_col_suffix = '_int'\n",
    "    for index in range(0,len(object_list_columns)):\n",
    "        if object_list_dtypes[index] == object :\n",
    "            self[object_list_columns[index]+new_col_suffix] = self[object_list_columns[index]].map( lambda  x: hash(x))\n",
    "            self.drop([object_list_columns[index]],inplace=True,axis=1)\n",
    "    return self\n"
   ]
  },
  {
   "cell_type": "code",
   "execution_count": 13,
   "id": "2c31c6fb",
   "metadata": {},
   "outputs": [],
   "source": [
    "df_train = convert_obj_to_int(df_train)"
   ]
  },
  {
   "cell_type": "code",
   "execution_count": 14,
   "id": "ff3c0769",
   "metadata": {},
   "outputs": [],
   "source": [
    "X_train = df_train.loc[:, df_train.columns != 'click']\n",
    "y_train = df_train.click.values"
   ]
  },
  {
   "cell_type": "code",
   "execution_count": 17,
   "id": "3a268d1e",
   "metadata": {},
   "outputs": [
    {
     "name": "stderr",
     "output_type": "stream",
     "text": [
      "C:\\ProgramData\\Anaconda3\\lib\\site-packages\\pandas\\core\\frame.py:4308: SettingWithCopyWarning: \n",
      "A value is trying to be set on a copy of a slice from a DataFrame\n",
      "\n",
      "See the caveats in the documentation: https://pandas.pydata.org/pandas-docs/stable/user_guide/indexing.html#returning-a-view-versus-a-copy\n",
      "  return super().drop(\n"
     ]
    }
   ],
   "source": [
    "X_train.drop('hour',axis=1 , inplace = True)"
   ]
  },
  {
   "cell_type": "code",
   "execution_count": 9,
   "id": "894c0db4",
   "metadata": {},
   "outputs": [],
   "source": [
    "from xgboost import XGBClassifier\n",
    "from sklearn.metrics import accuracy_score"
   ]
  },
  {
   "cell_type": "code",
   "execution_count": 15,
   "id": "9c0b03b3",
   "metadata": {},
   "outputs": [],
   "source": [
    "model = XGBClassifier()"
   ]
  },
  {
   "cell_type": "code",
   "execution_count": 18,
   "id": "1894ab9e",
   "metadata": {},
   "outputs": [
    {
     "data": {
      "text/plain": [
       "XGBClassifier(base_score=0.5, booster='gbtree', callbacks=None,\n",
       "              colsample_bylevel=1, colsample_bynode=1, colsample_bytree=1,\n",
       "              early_stopping_rounds=None, enable_categorical=False,\n",
       "              eval_metric=None, gamma=0, gpu_id=-1, grow_policy='depthwise',\n",
       "              importance_type=None, interaction_constraints='',\n",
       "              learning_rate=0.300000012, max_bin=256, max_cat_to_onehot=4,\n",
       "              max_delta_step=0, max_depth=6, max_leaves=0, min_child_weight=1,\n",
       "              missing=nan, monotone_constraints='()', n_estimators=100,\n",
       "              n_jobs=0, num_parallel_tree=1, predictor='auto', random_state=0,\n",
       "              reg_alpha=0, reg_lambda=1, ...)"
      ]
     },
     "execution_count": 18,
     "metadata": {},
     "output_type": "execute_result"
    }
   ],
   "source": [
    "model.fit(,y_train)"
   ]
  },
  {
   "cell_type": "code",
   "execution_count": 20,
   "id": "640c98b9",
   "metadata": {},
   "outputs": [],
   "source": [
    "predict_train = model.predict(X_train)"
   ]
  },
  {
   "cell_type": "code",
   "execution_count": 45,
   "id": "10f2930e",
   "metadata": {},
   "outputs": [
    {
     "name": "stdout",
     "output_type": "stream",
     "text": [
      "[0 0 0 0 0 0 0 0 0 0 0 0 0 0 0 0 0 0 0 0 0 0 0 0 0 0 0 0 0 0 0 0 0 0 0 0 0\n",
      " 0 0 0 0 0 0 0 0 0 0 0 0 0 0 0 0 0 0 0 0 0 0 0 0 0 0 0 0 0 0 0 0 0 0 0 0 0\n",
      " 0 0 0 0 0 0 0 0 0 0 0 0 0 0 0 0 0 0 0 0 0 0 0 0 0 0 0 0 0 0 0 0 0 0 0 0 0\n",
      " 0 0 0 0 0 1]\n"
     ]
    }
   ],
   "source": [
    "print (predict_train[:117])"
   ]
  },
  {
   "cell_type": "code",
   "execution_count": 21,
   "id": "1c9d30a6",
   "metadata": {},
   "outputs": [
    {
     "name": "stdout",
     "output_type": "stream",
     "text": [
      "\n",
      "accuracy_score on train dataset :  0.835317\n"
     ]
    }
   ],
   "source": [
    "# Accuray Score on train dataset\n",
    "accuracy_train = accuracy_score(y_train,predict_train)\n",
    "print('\\naccuracy_score on train dataset : ', accuracy_train)"
   ]
  },
  {
   "cell_type": "code",
   "execution_count": 22,
   "id": "6831017a",
   "metadata": {},
   "outputs": [],
   "source": [
    "pickle.dump(model,open('ctr_model_v2.pkl','wb'))"
   ]
  },
  {
   "cell_type": "code",
   "execution_count": 25,
   "id": "c464765f",
   "metadata": {},
   "outputs": [],
   "source": [
    "ctr_model_v2 = pickle.load(open('ctr_model_v2.pkl','rb'))\n"
   ]
  },
  {
   "cell_type": "code",
   "execution_count": 54,
   "id": "88ef9963",
   "metadata": {},
   "outputs": [],
   "source": [
    "newdf = pd.read_csv('testv2.csv')"
   ]
  },
  {
   "cell_type": "code",
   "execution_count": 86,
   "id": "1be412f4",
   "metadata": {},
   "outputs": [
    {
     "data": {
      "text/plain": [
       "array([0, 1])"
      ]
     },
     "execution_count": 86,
     "metadata": {},
     "output_type": "execute_result"
    }
   ],
   "source": [
    "ctr_model_v2.predict(df1)"
   ]
  },
  {
   "cell_type": "code",
   "execution_count": 81,
   "id": "8f2cba76",
   "metadata": {},
   "outputs": [],
   "source": [
    "df1=df_train.iloc[[115,116],:]"
   ]
  },
  {
   "cell_type": "code",
   "execution_count": 82,
   "id": "5f2d6fe4",
   "metadata": {},
   "outputs": [
    {
     "data": {
      "text/html": [
       "<div>\n",
       "<style scoped>\n",
       "    .dataframe tbody tr th:only-of-type {\n",
       "        vertical-align: middle;\n",
       "    }\n",
       "\n",
       "    .dataframe tbody tr th {\n",
       "        vertical-align: top;\n",
       "    }\n",
       "\n",
       "    .dataframe thead th {\n",
       "        text-align: right;\n",
       "    }\n",
       "</style>\n",
       "<table border=\"1\" class=\"dataframe\">\n",
       "  <thead>\n",
       "    <tr style=\"text-align: right;\">\n",
       "      <th></th>\n",
       "      <th>id</th>\n",
       "      <th>click</th>\n",
       "      <th>hour</th>\n",
       "      <th>C1</th>\n",
       "      <th>banner_pos</th>\n",
       "      <th>device_type</th>\n",
       "      <th>device_conn_type</th>\n",
       "      <th>C14</th>\n",
       "      <th>C15</th>\n",
       "      <th>C16</th>\n",
       "      <th>...</th>\n",
       "      <th>C21</th>\n",
       "      <th>site_id_int</th>\n",
       "      <th>site_domain_int</th>\n",
       "      <th>site_category_int</th>\n",
       "      <th>app_id_int</th>\n",
       "      <th>app_domain_int</th>\n",
       "      <th>app_category_int</th>\n",
       "      <th>device_id_int</th>\n",
       "      <th>device_ip_int</th>\n",
       "      <th>device_model_int</th>\n",
       "    </tr>\n",
       "  </thead>\n",
       "  <tbody>\n",
       "    <tr>\n",
       "      <th>115</th>\n",
       "      <td>1130776163</td>\n",
       "      <td>0</td>\n",
       "      <td>2014-10-22 06:00:00</td>\n",
       "      <td>1005</td>\n",
       "      <td>0</td>\n",
       "      <td>1</td>\n",
       "      <td>0</td>\n",
       "      <td>4687</td>\n",
       "      <td>320</td>\n",
       "      <td>50</td>\n",
       "      <td>...</td>\n",
       "      <td>32</td>\n",
       "      <td>4643082501057640764</td>\n",
       "      <td>-6838991127462602008</td>\n",
       "      <td>-6431081392821299415</td>\n",
       "      <td>251943468304718516</td>\n",
       "      <td>2254882423123443210</td>\n",
       "      <td>70002149034377836</td>\n",
       "      <td>-804848689506621038</td>\n",
       "      <td>-1087058357416184991</td>\n",
       "      <td>3536874697199369009</td>\n",
       "    </tr>\n",
       "    <tr>\n",
       "      <th>116</th>\n",
       "      <td>-389260500</td>\n",
       "      <td>1</td>\n",
       "      <td>2014-10-22 11:00:00</td>\n",
       "      <td>1002</td>\n",
       "      <td>0</td>\n",
       "      <td>0</td>\n",
       "      <td>0</td>\n",
       "      <td>21812</td>\n",
       "      <td>320</td>\n",
       "      <td>50</td>\n",
       "      <td>...</td>\n",
       "      <td>71</td>\n",
       "      <td>2587553839953187997</td>\n",
       "      <td>-6838991127462602008</td>\n",
       "      <td>-6431081392821299415</td>\n",
       "      <td>5944069843806331035</td>\n",
       "      <td>-4057654399238320735</td>\n",
       "      <td>5972384513224463130</td>\n",
       "      <td>-8621361824115117356</td>\n",
       "      <td>-4381388076210526621</td>\n",
       "      <td>4959455712878367674</td>\n",
       "    </tr>\n",
       "  </tbody>\n",
       "</table>\n",
       "<p>2 rows × 24 columns</p>\n",
       "</div>"
      ],
      "text/plain": [
       "             id  click                hour    C1  banner_pos  device_type  \\\n",
       "115  1130776163      0 2014-10-22 06:00:00  1005           0            1   \n",
       "116  -389260500      1 2014-10-22 11:00:00  1002           0            0   \n",
       "\n",
       "     device_conn_type    C14  C15  C16  ...  C21          site_id_int  \\\n",
       "115                 0   4687  320   50  ...   32  4643082501057640764   \n",
       "116                 0  21812  320   50  ...   71  2587553839953187997   \n",
       "\n",
       "         site_domain_int    site_category_int           app_id_int  \\\n",
       "115 -6838991127462602008 -6431081392821299415   251943468304718516   \n",
       "116 -6838991127462602008 -6431081392821299415  5944069843806331035   \n",
       "\n",
       "          app_domain_int     app_category_int        device_id_int  \\\n",
       "115  2254882423123443210    70002149034377836  -804848689506621038   \n",
       "116 -4057654399238320735  5972384513224463130 -8621361824115117356   \n",
       "\n",
       "           device_ip_int     device_model_int  \n",
       "115 -1087058357416184991  3536874697199369009  \n",
       "116 -4381388076210526621  4959455712878367674  \n",
       "\n",
       "[2 rows x 24 columns]"
      ]
     },
     "execution_count": 82,
     "metadata": {},
     "output_type": "execute_result"
    }
   ],
   "source": [
    "df1"
   ]
  },
  {
   "cell_type": "code",
   "execution_count": 83,
   "id": "af6a7b98",
   "metadata": {},
   "outputs": [
    {
     "data": {
      "text/plain": [
       "(2, 24)"
      ]
     },
     "execution_count": 83,
     "metadata": {},
     "output_type": "execute_result"
    }
   ],
   "source": [
    "df1.shape"
   ]
  },
  {
   "cell_type": "code",
   "execution_count": 84,
   "id": "b41342f1",
   "metadata": {},
   "outputs": [
    {
     "name": "stderr",
     "output_type": "stream",
     "text": [
      "C:\\ProgramData\\Anaconda3\\lib\\site-packages\\pandas\\core\\frame.py:4308: SettingWithCopyWarning: \n",
      "A value is trying to be set on a copy of a slice from a DataFrame\n",
      "\n",
      "See the caveats in the documentation: https://pandas.pydata.org/pandas-docs/stable/user_guide/indexing.html#returning-a-view-versus-a-copy\n",
      "  return super().drop(\n"
     ]
    }
   ],
   "source": [
    "df1.drop('hour',axis=1 , inplace = True)"
   ]
  },
  {
   "cell_type": "code",
   "execution_count": 85,
   "id": "a93a2202",
   "metadata": {},
   "outputs": [
    {
     "data": {
      "text/html": [
       "<div>\n",
       "<style scoped>\n",
       "    .dataframe tbody tr th:only-of-type {\n",
       "        vertical-align: middle;\n",
       "    }\n",
       "\n",
       "    .dataframe tbody tr th {\n",
       "        vertical-align: top;\n",
       "    }\n",
       "\n",
       "    .dataframe thead th {\n",
       "        text-align: right;\n",
       "    }\n",
       "</style>\n",
       "<table border=\"1\" class=\"dataframe\">\n",
       "  <thead>\n",
       "    <tr style=\"text-align: right;\">\n",
       "      <th></th>\n",
       "      <th>id</th>\n",
       "      <th>C1</th>\n",
       "      <th>banner_pos</th>\n",
       "      <th>device_type</th>\n",
       "      <th>device_conn_type</th>\n",
       "      <th>C14</th>\n",
       "      <th>C15</th>\n",
       "      <th>C16</th>\n",
       "      <th>C17</th>\n",
       "      <th>C18</th>\n",
       "      <th>...</th>\n",
       "      <th>C21</th>\n",
       "      <th>site_id_int</th>\n",
       "      <th>site_domain_int</th>\n",
       "      <th>site_category_int</th>\n",
       "      <th>app_id_int</th>\n",
       "      <th>app_domain_int</th>\n",
       "      <th>app_category_int</th>\n",
       "      <th>device_id_int</th>\n",
       "      <th>device_ip_int</th>\n",
       "      <th>device_model_int</th>\n",
       "    </tr>\n",
       "  </thead>\n",
       "  <tbody>\n",
       "    <tr>\n",
       "      <th>115</th>\n",
       "      <td>1130776163</td>\n",
       "      <td>1005</td>\n",
       "      <td>0</td>\n",
       "      <td>1</td>\n",
       "      <td>0</td>\n",
       "      <td>4687</td>\n",
       "      <td>320</td>\n",
       "      <td>50</td>\n",
       "      <td>423</td>\n",
       "      <td>2</td>\n",
       "      <td>...</td>\n",
       "      <td>32</td>\n",
       "      <td>4643082501057640764</td>\n",
       "      <td>-6838991127462602008</td>\n",
       "      <td>-6431081392821299415</td>\n",
       "      <td>251943468304718516</td>\n",
       "      <td>2254882423123443210</td>\n",
       "      <td>70002149034377836</td>\n",
       "      <td>-804848689506621038</td>\n",
       "      <td>-1087058357416184991</td>\n",
       "      <td>3536874697199369009</td>\n",
       "    </tr>\n",
       "    <tr>\n",
       "      <th>116</th>\n",
       "      <td>-389260500</td>\n",
       "      <td>1002</td>\n",
       "      <td>0</td>\n",
       "      <td>0</td>\n",
       "      <td>0</td>\n",
       "      <td>21812</td>\n",
       "      <td>320</td>\n",
       "      <td>50</td>\n",
       "      <td>2518</td>\n",
       "      <td>3</td>\n",
       "      <td>...</td>\n",
       "      <td>71</td>\n",
       "      <td>2587553839953187997</td>\n",
       "      <td>-6838991127462602008</td>\n",
       "      <td>-6431081392821299415</td>\n",
       "      <td>5944069843806331035</td>\n",
       "      <td>-4057654399238320735</td>\n",
       "      <td>5972384513224463130</td>\n",
       "      <td>-8621361824115117356</td>\n",
       "      <td>-4381388076210526621</td>\n",
       "      <td>4959455712878367674</td>\n",
       "    </tr>\n",
       "  </tbody>\n",
       "</table>\n",
       "<p>2 rows × 22 columns</p>\n",
       "</div>"
      ],
      "text/plain": [
       "             id    C1  banner_pos  device_type  device_conn_type    C14  C15  \\\n",
       "115  1130776163  1005           0            1                 0   4687  320   \n",
       "116  -389260500  1002           0            0                 0  21812  320   \n",
       "\n",
       "     C16   C17  C18  ...  C21          site_id_int      site_domain_int  \\\n",
       "115   50   423    2  ...   32  4643082501057640764 -6838991127462602008   \n",
       "116   50  2518    3  ...   71  2587553839953187997 -6838991127462602008   \n",
       "\n",
       "       site_category_int           app_id_int       app_domain_int  \\\n",
       "115 -6431081392821299415   251943468304718516  2254882423123443210   \n",
       "116 -6431081392821299415  5944069843806331035 -4057654399238320735   \n",
       "\n",
       "        app_category_int        device_id_int        device_ip_int  \\\n",
       "115    70002149034377836  -804848689506621038 -1087058357416184991   \n",
       "116  5972384513224463130 -8621361824115117356 -4381388076210526621   \n",
       "\n",
       "        device_model_int  \n",
       "115  3536874697199369009  \n",
       "116  4959455712878367674  \n",
       "\n",
       "[2 rows x 22 columns]"
      ]
     },
     "execution_count": 85,
     "metadata": {},
     "output_type": "execute_result"
    }
   ],
   "source": [
    "df1.drop('click',axis=1 , inplace = True)\n",
    "df1"
   ]
  },
  {
   "cell_type": "code",
   "execution_count": 87,
   "id": "d8dc9a0b",
   "metadata": {},
   "outputs": [],
   "source": [
    "df1.to_csv('sample_inpu.csv')"
   ]
  },
  {
   "cell_type": "code",
   "execution_count": 28,
   "id": "ebeae774",
   "metadata": {},
   "outputs": [
    {
     "data": {
      "text/plain": [
       "id                             219664221\n",
       "C1                                  1005\n",
       "banner_pos                             0\n",
       "device_type                            1\n",
       "device_conn_type                       2\n",
       "C14                                23725\n",
       "C15                                  320\n",
       "C16                                   50\n",
       "C17                                 2716\n",
       "C18                                    3\n",
       "C19                                   47\n",
       "C20                                   -1\n",
       "C21                                   23\n",
       "site_id_int          4643082501057640764\n",
       "site_domain_int     -6838991127462602008\n",
       "site_category_int   -6431081392821299415\n",
       "app_id_int          -8074261069684834129\n",
       "app_domain_int       2147831413442675031\n",
       "app_category_int    -2123166384436806448\n",
       "device_id_int        -804848689506621038\n",
       "device_ip_int        -498143173353359194\n",
       "device_model_int      -10491508010299272\n",
       "Name: 6, dtype: int64"
      ]
     },
     "execution_count": 28,
     "metadata": {},
     "output_type": "execute_result"
    }
   ],
   "source": [
    "X_train.iloc[6]"
   ]
  },
  {
   "cell_type": "code",
   "execution_count": 30,
   "id": "505422a8",
   "metadata": {},
   "outputs": [
    {
     "data": {
      "text/html": [
       "<div>\n",
       "<style scoped>\n",
       "    .dataframe tbody tr th:only-of-type {\n",
       "        vertical-align: middle;\n",
       "    }\n",
       "\n",
       "    .dataframe tbody tr th {\n",
       "        vertical-align: top;\n",
       "    }\n",
       "\n",
       "    .dataframe thead th {\n",
       "        text-align: right;\n",
       "    }\n",
       "</style>\n",
       "<table border=\"1\" class=\"dataframe\">\n",
       "  <thead>\n",
       "    <tr style=\"text-align: right;\">\n",
       "      <th></th>\n",
       "      <th>id</th>\n",
       "      <th>C1</th>\n",
       "      <th>banner_pos</th>\n",
       "      <th>device_type</th>\n",
       "      <th>device_conn_type</th>\n",
       "      <th>C14</th>\n",
       "      <th>C15</th>\n",
       "      <th>C16</th>\n",
       "      <th>C17</th>\n",
       "      <th>C18</th>\n",
       "      <th>...</th>\n",
       "      <th>C21</th>\n",
       "      <th>site_id_int</th>\n",
       "      <th>site_domain_int</th>\n",
       "      <th>site_category_int</th>\n",
       "      <th>app_id_int</th>\n",
       "      <th>app_domain_int</th>\n",
       "      <th>app_category_int</th>\n",
       "      <th>device_id_int</th>\n",
       "      <th>device_ip_int</th>\n",
       "      <th>device_model_int</th>\n",
       "    </tr>\n",
       "  </thead>\n",
       "  <tbody>\n",
       "    <tr>\n",
       "      <th>0</th>\n",
       "      <td>-1313665075</td>\n",
       "      <td>1005</td>\n",
       "      <td>0</td>\n",
       "      <td>1</td>\n",
       "      <td>0</td>\n",
       "      <td>16615</td>\n",
       "      <td>320</td>\n",
       "      <td>50</td>\n",
       "      <td>1863</td>\n",
       "      <td>3</td>\n",
       "      <td>...</td>\n",
       "      <td>23</td>\n",
       "      <td>3349721273057079855</td>\n",
       "      <td>-457755482800249504</td>\n",
       "      <td>7474044007341251241</td>\n",
       "      <td>5944069843806331035</td>\n",
       "      <td>-4057654399238320735</td>\n",
       "      <td>5972384513224463130</td>\n",
       "      <td>-804848689506621038</td>\n",
       "      <td>-9026979578664714723</td>\n",
       "      <td>-8133799963544044385</td>\n",
       "    </tr>\n",
       "    <tr>\n",
       "      <th>1</th>\n",
       "      <td>-560158682</td>\n",
       "      <td>1005</td>\n",
       "      <td>1</td>\n",
       "      <td>1</td>\n",
       "      <td>0</td>\n",
       "      <td>17614</td>\n",
       "      <td>320</td>\n",
       "      <td>50</td>\n",
       "      <td>1993</td>\n",
       "      <td>2</td>\n",
       "      <td>...</td>\n",
       "      <td>33</td>\n",
       "      <td>-1448317005606348424</td>\n",
       "      <td>-7824339325784408562</td>\n",
       "      <td>7474044007341251241</td>\n",
       "      <td>5944069843806331035</td>\n",
       "      <td>-4057654399238320735</td>\n",
       "      <td>5972384513224463130</td>\n",
       "      <td>-804848689506621038</td>\n",
       "      <td>-8197272683893181319</td>\n",
       "      <td>4996845748792262756</td>\n",
       "    </tr>\n",
       "    <tr>\n",
       "      <th>2</th>\n",
       "      <td>1658722075</td>\n",
       "      <td>1005</td>\n",
       "      <td>0</td>\n",
       "      <td>1</td>\n",
       "      <td>0</td>\n",
       "      <td>21790</td>\n",
       "      <td>320</td>\n",
       "      <td>50</td>\n",
       "      <td>2513</td>\n",
       "      <td>3</td>\n",
       "      <td>...</td>\n",
       "      <td>68</td>\n",
       "      <td>-4457513230604760773</td>\n",
       "      <td>-5665398360339644455</td>\n",
       "      <td>8067388519064885509</td>\n",
       "      <td>5944069843806331035</td>\n",
       "      <td>-4057654399238320735</td>\n",
       "      <td>5972384513224463130</td>\n",
       "      <td>-804848689506621038</td>\n",
       "      <td>-1867502466012396438</td>\n",
       "      <td>2581483685123557459</td>\n",
       "    </tr>\n",
       "    <tr>\n",
       "      <th>3</th>\n",
       "      <td>1323747585</td>\n",
       "      <td>1002</td>\n",
       "      <td>0</td>\n",
       "      <td>0</td>\n",
       "      <td>0</td>\n",
       "      <td>21747</td>\n",
       "      <td>320</td>\n",
       "      <td>50</td>\n",
       "      <td>2504</td>\n",
       "      <td>3</td>\n",
       "      <td>...</td>\n",
       "      <td>111</td>\n",
       "      <td>4643082501057640764</td>\n",
       "      <td>-6838991127462602008</td>\n",
       "      <td>-6431081392821299415</td>\n",
       "      <td>-313912435863574236</td>\n",
       "      <td>-4057654399238320735</td>\n",
       "      <td>5972384513224463130</td>\n",
       "      <td>6709083160674434239</td>\n",
       "      <td>-2313868711933341654</td>\n",
       "      <td>-1856752526666000290</td>\n",
       "    </tr>\n",
       "    <tr>\n",
       "      <th>4</th>\n",
       "      <td>1821290237</td>\n",
       "      <td>1005</td>\n",
       "      <td>0</td>\n",
       "      <td>1</td>\n",
       "      <td>2</td>\n",
       "      <td>23950</td>\n",
       "      <td>320</td>\n",
       "      <td>50</td>\n",
       "      <td>2745</td>\n",
       "      <td>2</td>\n",
       "      <td>...</td>\n",
       "      <td>255</td>\n",
       "      <td>4643082501057640764</td>\n",
       "      <td>-6838991127462602008</td>\n",
       "      <td>-6431081392821299415</td>\n",
       "      <td>-92538603332962449</td>\n",
       "      <td>-3574747640373441712</td>\n",
       "      <td>70002149034377836</td>\n",
       "      <td>-804848689506621038</td>\n",
       "      <td>5110150673416230511</td>\n",
       "      <td>-8721397384042365539</td>\n",
       "    </tr>\n",
       "  </tbody>\n",
       "</table>\n",
       "<p>5 rows × 22 columns</p>\n",
       "</div>"
      ],
      "text/plain": [
       "           id    C1  banner_pos  device_type  device_conn_type    C14  C15  \\\n",
       "0 -1313665075  1005           0            1                 0  16615  320   \n",
       "1  -560158682  1005           1            1                 0  17614  320   \n",
       "2  1658722075  1005           0            1                 0  21790  320   \n",
       "3  1323747585  1002           0            0                 0  21747  320   \n",
       "4  1821290237  1005           0            1                 2  23950  320   \n",
       "\n",
       "   C16   C17  C18  ...  C21          site_id_int      site_domain_int  \\\n",
       "0   50  1863    3  ...   23  3349721273057079855  -457755482800249504   \n",
       "1   50  1993    2  ...   33 -1448317005606348424 -7824339325784408562   \n",
       "2   50  2513    3  ...   68 -4457513230604760773 -5665398360339644455   \n",
       "3   50  2504    3  ...  111  4643082501057640764 -6838991127462602008   \n",
       "4   50  2745    2  ...  255  4643082501057640764 -6838991127462602008   \n",
       "\n",
       "     site_category_int           app_id_int       app_domain_int  \\\n",
       "0  7474044007341251241  5944069843806331035 -4057654399238320735   \n",
       "1  7474044007341251241  5944069843806331035 -4057654399238320735   \n",
       "2  8067388519064885509  5944069843806331035 -4057654399238320735   \n",
       "3 -6431081392821299415  -313912435863574236 -4057654399238320735   \n",
       "4 -6431081392821299415   -92538603332962449 -3574747640373441712   \n",
       "\n",
       "      app_category_int        device_id_int        device_ip_int  \\\n",
       "0  5972384513224463130  -804848689506621038 -9026979578664714723   \n",
       "1  5972384513224463130  -804848689506621038 -8197272683893181319   \n",
       "2  5972384513224463130  -804848689506621038 -1867502466012396438   \n",
       "3  5972384513224463130  6709083160674434239 -2313868711933341654   \n",
       "4    70002149034377836  -804848689506621038  5110150673416230511   \n",
       "\n",
       "      device_model_int  \n",
       "0 -8133799963544044385  \n",
       "1  4996845748792262756  \n",
       "2  2581483685123557459  \n",
       "3 -1856752526666000290  \n",
       "4 -8721397384042365539  \n",
       "\n",
       "[5 rows x 22 columns]"
      ]
     },
     "execution_count": 30,
     "metadata": {},
     "output_type": "execute_result"
    }
   ],
   "source": [
    "X_train.head()"
   ]
  },
  {
   "cell_type": "code",
   "execution_count": 88,
   "id": "d096b9d4",
   "metadata": {},
   "outputs": [],
   "source": [
    "ctr_model_v1 = pickle.load(open('ctrmodel.pkl','rb'))"
   ]
  },
  {
   "cell_type": "code",
   "execution_count": 90,
   "id": "bf8cfa04",
   "metadata": {},
   "outputs": [
    {
     "name": "stderr",
     "output_type": "stream",
     "text": [
      "C:\\ProgramData\\Anaconda3\\lib\\site-packages\\pandas\\core\\frame.py:4308: SettingWithCopyWarning: \n",
      "A value is trying to be set on a copy of a slice from a DataFrame\n",
      "\n",
      "See the caveats in the documentation: https://pandas.pydata.org/pandas-docs/stable/user_guide/indexing.html#returning-a-view-versus-a-copy\n",
      "  return super().drop(\n"
     ]
    }
   ],
   "source": [
    "df1.drop('id',axis=1 , inplace = True)"
   ]
  },
  {
   "cell_type": "code",
   "execution_count": 91,
   "id": "35cdabe1",
   "metadata": {},
   "outputs": [
    {
     "data": {
      "text/plain": [
       "array([0.15084561, 0.20026405])"
      ]
     },
     "execution_count": 91,
     "metadata": {},
     "output_type": "execute_result"
    }
   ],
   "source": [
    "ctr_model_v1.predict(df1)"
   ]
  },
  {
   "cell_type": "code",
   "execution_count": null,
   "id": "061fa536",
   "metadata": {},
   "outputs": [],
   "source": []
  }
 ],
 "metadata": {
  "kernelspec": {
   "display_name": "Python 3",
   "language": "python",
   "name": "python3"
  },
  "language_info": {
   "codemirror_mode": {
    "name": "ipython",
    "version": 3
   },
   "file_extension": ".py",
   "mimetype": "text/x-python",
   "name": "python",
   "nbconvert_exporter": "python",
   "pygments_lexer": "ipython3",
   "version": "3.8.8"
  }
 },
 "nbformat": 4,
 "nbformat_minor": 5
}
